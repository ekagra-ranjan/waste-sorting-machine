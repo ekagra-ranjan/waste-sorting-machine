{
  "nbformat": 4,
  "nbformat_minor": 0,
  "metadata": {
    "colab": {
      "name": "MKB DL Class Network",
      "version": "0.3.2",
      "provenance": [],
      "collapsed_sections": []
    },
    "kernelspec": {
      "name": "python3",
      "display_name": "Python 3"
    },
    "accelerator": "GPU"
  },
  "cells": [
    {
      "cell_type": "code",
      "metadata": {
        "id": "f8Dt4s5DfWDw",
        "colab_type": "code",
        "outputId": "a84aff47-c7df-4d59-8a94-6b2e609d22ce",
        "colab": {
          "base_uri": "https://localhost:8080/",
          "height": 51
        }
      },
      "source": [
        "!pip install -U -q PyDrive\n",
        "from pydrive.auth import GoogleAuth\n",
        "from pydrive.drive import GoogleDrive\n",
        "from google.colab import auth\n",
        "from oauth2client.client import GoogleCredentials\n",
        "\n",
        "# 1. Authenticate and create the PyDrive client.\n",
        "auth.authenticate_user()\n",
        "gauth = GoogleAuth()\n",
        "gauth.credentials = GoogleCredentials.get_application_default()\n",
        "drive = GoogleDrive(gauth)"
      ],
      "execution_count": 0,
      "outputs": [
        {
          "output_type": "stream",
          "text": [
            "\u001b[?25l\r\u001b[K     |▎                               | 10kB 19.6MB/s eta 0:00:01\r\u001b[K     |▋                               | 20kB 24.2MB/s eta 0:00:01\r\u001b[K     |█                               | 30kB 30.0MB/s eta 0:00:01\r\u001b[K     |█▎                              | 40kB 35.3MB/s eta 0:00:01\r\u001b[K     |█▋                              | 51kB 39.2MB/s eta 0:00:01\r\u001b[K     |██                              | 61kB 42.1MB/s eta 0:00:01\r\u001b[K     |██▎                             | 71kB 43.6MB/s eta 0:00:01\r\u001b[K     |██▋                             | 81kB 45.4MB/s eta 0:00:01\r\u001b[K     |███                             | 92kB 48.1MB/s eta 0:00:01\r\u001b[K     |███▎                            | 102kB 50.4MB/s eta 0:00:01\r\u001b[K     |███▋                            | 112kB 50.4MB/s eta 0:00:01\r\u001b[K     |████                            | 122kB 50.4MB/s eta 0:00:01\r\u001b[K     |████▎                           | 133kB 50.4MB/s eta 0:00:01\r\u001b[K     |████▋                           | 143kB 50.4MB/s eta 0:00:01\r\u001b[K     |█████                           | 153kB 50.4MB/s eta 0:00:01\r\u001b[K     |█████▎                          | 163kB 50.4MB/s eta 0:00:01\r\u001b[K     |█████▋                          | 174kB 50.4MB/s eta 0:00:01\r\u001b[K     |██████                          | 184kB 50.4MB/s eta 0:00:01\r\u001b[K     |██████▎                         | 194kB 50.4MB/s eta 0:00:01\r\u001b[K     |██████▋                         | 204kB 50.4MB/s eta 0:00:01\r\u001b[K     |███████                         | 215kB 50.4MB/s eta 0:00:01\r\u001b[K     |███████▎                        | 225kB 50.4MB/s eta 0:00:01\r\u001b[K     |███████▋                        | 235kB 50.4MB/s eta 0:00:01\r\u001b[K     |████████                        | 245kB 50.4MB/s eta 0:00:01\r\u001b[K     |████████▎                       | 256kB 50.4MB/s eta 0:00:01\r\u001b[K     |████████▋                       | 266kB 50.4MB/s eta 0:00:01\r\u001b[K     |█████████                       | 276kB 50.4MB/s eta 0:00:01\r\u001b[K     |█████████▎                      | 286kB 50.4MB/s eta 0:00:01\r\u001b[K     |█████████▋                      | 296kB 50.4MB/s eta 0:00:01\r\u001b[K     |██████████                      | 307kB 50.4MB/s eta 0:00:01\r\u001b[K     |██████████▎                     | 317kB 50.4MB/s eta 0:00:01\r\u001b[K     |██████████▋                     | 327kB 50.4MB/s eta 0:00:01\r\u001b[K     |███████████                     | 337kB 50.4MB/s eta 0:00:01\r\u001b[K     |███████████▎                    | 348kB 50.4MB/s eta 0:00:01\r\u001b[K     |███████████▋                    | 358kB 50.4MB/s eta 0:00:01\r\u001b[K     |████████████                    | 368kB 50.4MB/s eta 0:00:01\r\u001b[K     |████████████▎                   | 378kB 50.4MB/s eta 0:00:01\r\u001b[K     |████████████▋                   | 389kB 50.4MB/s eta 0:00:01\r\u001b[K     |█████████████                   | 399kB 50.4MB/s eta 0:00:01\r\u001b[K     |█████████████▎                  | 409kB 50.4MB/s eta 0:00:01\r\u001b[K     |█████████████▋                  | 419kB 50.4MB/s eta 0:00:01\r\u001b[K     |██████████████                  | 430kB 50.4MB/s eta 0:00:01\r\u001b[K     |██████████████▎                 | 440kB 50.4MB/s eta 0:00:01\r\u001b[K     |██████████████▋                 | 450kB 50.4MB/s eta 0:00:01\r\u001b[K     |███████████████                 | 460kB 50.4MB/s eta 0:00:01\r\u001b[K     |███████████████▎                | 471kB 50.4MB/s eta 0:00:01\r\u001b[K     |███████████████▋                | 481kB 50.4MB/s eta 0:00:01\r\u001b[K     |████████████████                | 491kB 50.4MB/s eta 0:00:01\r\u001b[K     |████████████████▎               | 501kB 50.4MB/s eta 0:00:01\r\u001b[K     |████████████████▋               | 512kB 50.4MB/s eta 0:00:01\r\u001b[K     |█████████████████               | 522kB 50.4MB/s eta 0:00:01\r\u001b[K     |█████████████████▎              | 532kB 50.4MB/s eta 0:00:01\r\u001b[K     |█████████████████▋              | 542kB 50.4MB/s eta 0:00:01\r\u001b[K     |██████████████████              | 552kB 50.4MB/s eta 0:00:01\r\u001b[K     |██████████████████▎             | 563kB 50.4MB/s eta 0:00:01\r\u001b[K     |██████████████████▋             | 573kB 50.4MB/s eta 0:00:01\r\u001b[K     |███████████████████             | 583kB 50.4MB/s eta 0:00:01\r\u001b[K     |███████████████████▎            | 593kB 50.4MB/s eta 0:00:01\r\u001b[K     |███████████████████▋            | 604kB 50.4MB/s eta 0:00:01\r\u001b[K     |████████████████████            | 614kB 50.4MB/s eta 0:00:01\r\u001b[K     |████████████████████▎           | 624kB 50.4MB/s eta 0:00:01\r\u001b[K     |████████████████████▋           | 634kB 50.4MB/s eta 0:00:01\r\u001b[K     |█████████████████████           | 645kB 50.4MB/s eta 0:00:01\r\u001b[K     |█████████████████████▎          | 655kB 50.4MB/s eta 0:00:01\r\u001b[K     |█████████████████████▋          | 665kB 50.4MB/s eta 0:00:01\r\u001b[K     |██████████████████████          | 675kB 50.4MB/s eta 0:00:01\r\u001b[K     |██████████████████████▎         | 686kB 50.4MB/s eta 0:00:01\r\u001b[K     |██████████████████████▋         | 696kB 50.4MB/s eta 0:00:01\r\u001b[K     |███████████████████████         | 706kB 50.4MB/s eta 0:00:01\r\u001b[K     |███████████████████████▎        | 716kB 50.4MB/s eta 0:00:01\r\u001b[K     |███████████████████████▋        | 727kB 50.4MB/s eta 0:00:01\r\u001b[K     |████████████████████████        | 737kB 50.4MB/s eta 0:00:01\r\u001b[K     |████████████████████████▎       | 747kB 50.4MB/s eta 0:00:01\r\u001b[K     |████████████████████████▋       | 757kB 50.4MB/s eta 0:00:01\r\u001b[K     |████████████████████████▉       | 768kB 50.4MB/s eta 0:00:01\r\u001b[K     |█████████████████████████▏      | 778kB 50.4MB/s eta 0:00:01\r\u001b[K     |█████████████████████████▌      | 788kB 50.4MB/s eta 0:00:01\r\u001b[K     |█████████████████████████▉      | 798kB 50.4MB/s eta 0:00:01\r\u001b[K     |██████████████████████████▏     | 808kB 50.4MB/s eta 0:00:01\r\u001b[K     |██████████████████████████▌     | 819kB 50.4MB/s eta 0:00:01\r\u001b[K     |██████████████████████████▉     | 829kB 50.4MB/s eta 0:00:01\r\u001b[K     |███████████████████████████▏    | 839kB 50.4MB/s eta 0:00:01\r\u001b[K     |███████████████████████████▌    | 849kB 50.4MB/s eta 0:00:01\r\u001b[K     |███████████████████████████▉    | 860kB 50.4MB/s eta 0:00:01\r\u001b[K     |████████████████████████████▏   | 870kB 50.4MB/s eta 0:00:01\r\u001b[K     |████████████████████████████▌   | 880kB 50.4MB/s eta 0:00:01\r\u001b[K     |████████████████████████████▉   | 890kB 50.4MB/s eta 0:00:01\r\u001b[K     |█████████████████████████████▏  | 901kB 50.4MB/s eta 0:00:01\r\u001b[K     |█████████████████████████████▌  | 911kB 50.4MB/s eta 0:00:01\r\u001b[K     |█████████████████████████████▉  | 921kB 50.4MB/s eta 0:00:01\r\u001b[K     |██████████████████████████████▏ | 931kB 50.4MB/s eta 0:00:01\r\u001b[K     |██████████████████████████████▌ | 942kB 50.4MB/s eta 0:00:01\r\u001b[K     |██████████████████████████████▉ | 952kB 50.4MB/s eta 0:00:01\r\u001b[K     |███████████████████████████████▏| 962kB 50.4MB/s eta 0:00:01\r\u001b[K     |███████████████████████████████▌| 972kB 50.4MB/s eta 0:00:01\r\u001b[K     |███████████████████████████████▉| 983kB 50.4MB/s eta 0:00:01\r\u001b[K     |████████████████████████████████| 993kB 50.4MB/s \n",
            "\u001b[?25h  Building wheel for PyDrive (setup.py) ... \u001b[?25l\u001b[?25hdone\n"
          ],
          "name": "stdout"
        }
      ]
    },
    {
      "cell_type": "code",
      "metadata": {
        "id": "wEgRu4VtiIDf",
        "colab_type": "code",
        "colab": {}
      },
      "source": [
        "# file = drive.CreateFile({'id': '1aLon9sOQd49HNV0-Deo2XMwf-49XlL5P'})\n",
        "# file.GetContentFile('data.zip')\n",
        "# file = drive.CreateFile({'id': '1STxR_DQE0JCDpIE_9JzkgTTx4j-ga7YG'})\n",
        "# file.GetContentFile('annotations.zip')\n",
        "file = drive.CreateFile({'id': '1L65sqe976Ty4bl47wn8Wzpk-BmEVLUAR'})\n",
        "file.GetContentFile('data.zip')"
      ],
      "execution_count": 0,
      "outputs": []
    },
    {
      "cell_type": "code",
      "metadata": {
        "id": "9EOW3Cg2iVec",
        "colab_type": "code",
        "colab": {}
      },
      "source": [
        "!unzip data.zip >/dev/null\n",
        "# !unzip annotations.zip >/dev/null\n",
        "# !rm ./Data/56478665_421907071715102_3762114008077828096_n.jpg # this image has no object, so removing it (no xml exists for it)\n",
        "# !rm ./Data/55912462_267292044150469_7933255829271085056_n.jpg # this image has no object, so removing it (no xml exists for it)"
      ],
      "execution_count": 0,
      "outputs": []
    },
    {
      "cell_type": "code",
      "metadata": {
        "id": "5WdYb1h07-Bl",
        "colab_type": "code",
        "outputId": "bbb80248-54d9-4033-eaf2-bc222f96fbfa",
        "colab": {
          "base_uri": "https://localhost:8080/",
          "height": 34
        }
      },
      "source": [
        "import cv2\n",
        "import glob\n",
        "import xml.etree.ElementTree as ET\n",
        "import os\n",
        "import numpy as np\n",
        "from matplotlib import pyplot as plt\n",
        "import imutils\n",
        "from PIL import Image\n",
        "\n",
        "from tensorflow.keras import Model\n",
        "from tensorflow.keras.applications.mobilenet_v2 import MobileNetV2, preprocess_input\n",
        "from tensorflow.keras.callbacks import ModelCheckpoint, EarlyStopping, ReduceLROnPlateau, Callback\n",
        "from tensorflow.keras.layers import Conv2D, Reshape, Flatten, Dense, BatchNormalization, Input, Dropout\n",
        "from tensorflow.keras.utils import Sequence\n",
        "from tensorflow.keras.backend import epsilon\n",
        "import tensorflow.keras.backend as K\n",
        "from tensorflow.keras import optimizers\n",
        "from tensorflow.keras import regularizers\n",
        "from keras.preprocessing import image\n",
        "from tensorflow.keras.utils import to_categorical\n",
        "\n",
        "import pandas as pd\n",
        "import random\n",
        "from skimage.transform import resize\n",
        "from keras.preprocessing.image import ImageDataGenerator"
      ],
      "execution_count": 0,
      "outputs": [
        {
          "output_type": "stream",
          "text": [
            "Using TensorFlow backend.\n"
          ],
          "name": "stderr"
        }
      ]
    },
    {
      "cell_type": "code",
      "metadata": {
        "id": "TbI4P6duMa3p",
        "colab_type": "code",
        "colab": {}
      },
      "source": [
        "img_shape = 224"
      ],
      "execution_count": 0,
      "outputs": []
    },
    {
      "cell_type": "code",
      "metadata": {
        "id": "_7qhvjbMmLW4",
        "colab_type": "code",
        "colab": {}
      },
      "source": [
        "def shuffle_in_unison(a, b):\n",
        "    assert len(a) == len(b)\n",
        "    shuffled_a = np.empty(a.shape, dtype=a.dtype)\n",
        "    shuffled_b = np.empty(b.shape, dtype=b.dtype)\n",
        "    permutation = np.random.permutation(len(a))\n",
        "    for old_index, new_index in enumerate(permutation):\n",
        "        shuffled_a[new_index] = a[old_index]\n",
        "        shuffled_b[new_index] = b[old_index]\n",
        "    return shuffled_a, shuffled_b"
      ],
      "execution_count": 0,
      "outputs": []
    },
    {
      "cell_type": "code",
      "metadata": {
        "id": "fgR97fPXm7mu",
        "colab_type": "code",
        "colab": {}
      },
      "source": [
        "def scale(img, imgNewWidth, imgNewHeight, imgX1=None, imgX2=None, imgY1=None, imgY2=None, interpolation=cv2.INTER_LINEAR):\n",
        "    \n",
        "    '''Args: Image, new image width, new image height, \n",
        "                 top left point x-coordinates, bottom right point x-coordinates,\n",
        "                 top left point y-coordinates, bottom right point y-coordinates'''\n",
        "\n",
        "    imgTemp = img.copy()\n",
        "    imgHeight, imgWidth, _ = imgTemp.shape\n",
        "    \n",
        "    imgTemp = cv2.resize(imgTemp, (imgNewWidth, imgNewHeight), interpolation=interpolation)\n",
        "    \n",
        "    if imgX1!=None:\n",
        "        fY = float(imgNewHeight)/float(imgHeight)\n",
        "        fX = float(imgNewWidth)/float(imgWidth)\n",
        "\n",
        "        imgX1 = max(0, int(imgX1*fX))\n",
        "        imgX2 = min(int(imgX2*fX), imgNewWidth)\n",
        "        imgY1 = max(0, int(imgY1*fY))\n",
        "        imgY2 = min(int(imgY2*fY), imgNewHeight)\n",
        "\n",
        "\n",
        "        return imgTemp, imgX1, imgX2, imgY1, imgY2\n",
        "    else:\n",
        "        return imgTemp"
      ],
      "execution_count": 0,
      "outputs": []
    },
    {
      "cell_type": "code",
      "metadata": {
        "id": "AFb_XCchR_cP",
        "colab_type": "code",
        "colab": {}
      },
      "source": [
        "images = []\n",
        "labels = [] # labels are [xmin, xmax, ymin, ymax]\n",
        "file_list = list(glob.glob('./Images/*/*'))\n",
        "for file in file_list:\n",
        "  img = cv2.imread(file)\n",
        "  img = np.stack([img[:,:,2], img[:,:,1], img[:,:,0]], axis=2)\n",
        "#   img = cv2.cvtColor(img, cv2.COLOR_BGR2GRAY)\n",
        "#   tree = ET.parse(os.path.join(annot_dir, file.split('/')[-1])[:-3] + 'xml')\n",
        "  tree = ET.parse(os.path.join('Labels', '/'.join(file.split('/')[-2:])[:-3] + 'xml'))\n",
        "  root = tree.getroot()\n",
        "  size = root.find('size')\n",
        "  width = int(size.find('width').text)\n",
        "  height = int(size.find('height').text)\n",
        "  box = (root.find('object')).find('bndbox')\n",
        "  xmin = int(box[0].text)\n",
        "  ymin = int(box[1].text)\n",
        "  xmax = int(box[2].text)\n",
        "  ymax = int(box[3].text)\n",
        "  \n",
        "#   if(width > height):\n",
        "#     img = imutils.rotate_bound(img, 90)\n",
        "#     xmax, ymin, xmin, ymax = height-ymin, xmin, height-ymax, xmax\n",
        "  \n",
        "  img = img[ymin:ymax, xmin:xmax]\n",
        "  img = scale(img, 224, 224)\n",
        "#   img = preprocess_input(img)\n",
        "  \n",
        "  if (file.split('/')[-2] == 'Cropped Bottles'):\n",
        "    labels.append([1])\n",
        "  else:\n",
        "    labels.append([0])\n",
        "  \n",
        "  images.append(img)\n",
        "    \n",
        "images = np.array(images)\n",
        "labels = np.array(labels) \n",
        "\n",
        "# images = np.stack(3*[images], axis=3)\n",
        "# images = (images-np.mean(images, axis=0))/(np.max(images)-np.min(images))"
      ],
      "execution_count": 0,
      "outputs": []
    },
    {
      "cell_type": "code",
      "metadata": {
        "id": "D9W5b4XViESL",
        "colab_type": "code",
        "outputId": "2c1eab2b-36ad-422e-d56c-c89a05a62580",
        "colab": {
          "base_uri": "https://localhost:8080/",
          "height": 34
        }
      },
      "source": [
        "print(images.shape, labels.shape)"
      ],
      "execution_count": 0,
      "outputs": [
        {
          "output_type": "stream",
          "text": [
            "(816, 224, 224, 3) (816, 1)\n"
          ],
          "name": "stdout"
        }
      ]
    },
    {
      "cell_type": "code",
      "metadata": {
        "colab_type": "code",
        "id": "N2CtUjunJ2b_",
        "colab": {}
      },
      "source": [
        "def horizontalFlip(img, imgX1=None, imgX2=None, imgY1=None, imgY2=None):\n",
        "    '''Args: Image, top left point x-coordinates, bottom right point x-coordinates,\n",
        "                 top left point y-coordinates, bottom right point y-coordinates \n",
        "                 original_shape = (height, width)'''\n",
        "    \n",
        "    imgTemp = img.copy()\n",
        "    imgHeight, imgWidth, _ = img.shape\n",
        "    imgTemp = cv2.flip(imgTemp, 1)\n",
        "    \n",
        "    if imgX1!=None:\n",
        "        imgX1, imgX2 = imgWidth - imgX2, imgWidth - imgX1 \n",
        "        imgY1 = imgY1\n",
        "        imgY2 = imgY2\n",
        "        \n",
        "        return imgTemp, imgX1, imgX2, imgY1, imgY2\n",
        "    else:\n",
        "        return imgTemp \n",
        "\n",
        "def verticalFlip(img, imgX1=None, imgX2=None, imgY1=None, imgY2=None):\n",
        "    \n",
        "    '''Args: Image, top left point x-coordinates, bottom right point x-coordinates,\n",
        "                 top left point y-coordinates, bottom right point y-coordinates\n",
        "    '''\n",
        "    \n",
        "    imgTemp = img.copy()\n",
        "    imgHeight, imgWidth, _ = img.shape\n",
        "    imgTemp = cv2.flip(imgTemp, 0)\n",
        "    \n",
        "    if imgX1!=None:\n",
        "        imgX1 = imgX1\n",
        "        imgX2 = imgX2 \n",
        "        imgY1, imgY2 = imgHeight - imgY2, imgHeight - imgY1\n",
        "\n",
        "        return imgTemp, imgX1, imgX2, imgY1, imgY2\n",
        "    else:\n",
        "        return imgTemp\n"
      ],
      "execution_count": 0,
      "outputs": []
    },
    {
      "cell_type": "code",
      "metadata": {
        "id": "RbElKe6B6r7I",
        "colab_type": "code",
        "colab": {}
      },
      "source": [
        "class DataGenerator(Sequence):\n",
        "\n",
        "    def __init__(self, images, labels, batch_size, val=False, p=0.5, scale_range=(0.8,1.2)):\n",
        "      \n",
        "        super(DataGenerator, self).__init__()\n",
        "        \n",
        "        images, labels = shuffle_in_unison(images, labels)\n",
        "        self.images = images\n",
        "        self.labels = labels\n",
        "        self.batch_size = batch_size\n",
        "        self.index = 0\n",
        "        self.p = p\n",
        "        self.scale_range = scale_range\n",
        "        self.index=0\n",
        "\n",
        "    def __len__(self):\n",
        "        return int(len(self.images)/self.batch_size)+1\n",
        "    \n",
        "#     def on_epoch_end():\n",
        "#         self.images, self.labels = shuffle_in_unison(self.images, self.labels)\n",
        "\n",
        "    def __getitem__(self, idx):\n",
        "        \n",
        "        batch_images = []\n",
        "        batch_class = []\n",
        "        for i in range(self.batch_size):\n",
        "          image = (self.images[((idx*self.batch_size)+i) % len(self.images)]).copy()\n",
        "          label = (self.labels[((idx*self.batch_size)+i) % len(self.images)]).copy()\n",
        "          \n",
        "          if random.random() > self.p:\n",
        "            image = horizontalFlip(image)\n",
        "          if random.random() > self.p:\n",
        "            image = verticalFlip(image)\n",
        "\n",
        "          batch_images.append(image)\n",
        "          batch_class.append(label)\n",
        "        \n",
        "        # batch_images [batch_size, img_shape, img_shape, 3]\n",
        "        # batch_coords [batch_size, 4] - [x,x+w,y,y+h] - x,y is top left corner\n",
        "        \n",
        "        return np.array(batch_images), np.array(batch_class)"
      ],
      "execution_count": 0,
      "outputs": []
    },
    {
      "cell_type": "code",
      "metadata": {
        "id": "CbLqbYClNhXr",
        "colab_type": "code",
        "colab": {}
      },
      "source": [
        "val_split = 0.1"
      ],
      "execution_count": 0,
      "outputs": []
    },
    {
      "cell_type": "code",
      "metadata": {
        "id": "layE2_7p7OhD",
        "colab_type": "code",
        "outputId": "6712f0ca-ee66-406e-93d3-ea22a79d894d",
        "colab": {
          "base_uri": "https://localhost:8080/",
          "height": 51
        }
      },
      "source": [
        "images, labels = shuffle_in_unison(images, labels)\n",
        "\n",
        "train_examples = int(images.shape[0] * (1-val_split))\n",
        "\n",
        "train_images = images[:train_examples]\n",
        "val_images = images[train_examples:]\n",
        "\n",
        "train_labels = labels[:train_examples]\n",
        "val_labels = labels[train_examples:]\n",
        "\n",
        "# train_labels_cat = to_categorical(train_labels[:,-1], num_classes=2, dtype='uint8')\n",
        "# val_labels_cat = to_categorical(val_labels[:,-1], num_classes=2, dtype='uint8')\n",
        "\n",
        "print('total ', train_images.shape[0], ' training images')\n",
        "print('total ', val_images.shape[0], ' val images')\n",
        "\n",
        "train_datagen = DataGenerator(train_images, train_labels, 4)\n",
        "val_datagen = DataGenerator(val_images, val_labels, 4)"
      ],
      "execution_count": 0,
      "outputs": [
        {
          "output_type": "stream",
          "text": [
            "total  734  training images\n",
            "total  82  val images\n"
          ],
          "name": "stdout"
        }
      ]
    },
    {
      "cell_type": "code",
      "metadata": {
        "id": "HC6ak7ieMx58",
        "colab_type": "code",
        "colab": {}
      },
      "source": [
        "# model = MobileNetV2(input_shape=(224, 224, 3), include_top=False)\n",
        "# model.summary()"
      ],
      "execution_count": 0,
      "outputs": []
    },
    {
      "cell_type": "code",
      "metadata": {
        "id": "XoB9sWxElg6B",
        "colab_type": "code",
        "colab": {}
      },
      "source": [
        "def create_model_bb(img_size=224, trainable=False):\n",
        "    \n",
        "    regulariz = regularizers.l2(1)\n",
        "\n",
        "    inp = Input(shape=(224, 224, 4))\n",
        "    x = Conv2D(28, kernel_size=3, name=\"new_conv\", activation='relu', kernel_regularizer=regulariz)(inp)\n",
        "    x = BatchNormalization()(x)\n",
        "    x = Conv2D(48, kernel_size=3, name=\"new_conv1\", activation='relu', kernel_regularizer=regulariz)(x)\n",
        "    x = Conv2D(56, kernel_size=3, name=\"new_conv3\", activation='relu')(x)\n",
        "    x = Flatten()(x)\n",
        "    x = Dropout(0.5)(x)\n",
        "    x = Dense(32, activation='relu', kernel_regularizer=regulariz)(x)\n",
        "    pred = Dense(4, name=\"pred\")(x)\n",
        "\n",
        "    return Model(inputs=inp, outputs=pred)"
      ],
      "execution_count": 0,
      "outputs": []
    },
    {
      "cell_type": "code",
      "metadata": {
        "id": "qkU55YjO69tF",
        "colab_type": "code",
        "colab": {}
      },
      "source": [
        "def create_model_class(img_size=224, trainable=False):\n",
        "\n",
        "    model = MobileNetV2(input_shape=(img_size, img_size, 3), include_top=False)\n",
        "    \n",
        "    for layer in model.layers:\n",
        "        layer.trainable = trainable\n",
        "        \n",
        "    for layer in model.layers:\n",
        "      if layer.name == 'block_4_project_BN':\n",
        "        x = layer.output\n",
        "        break\n",
        "    \n",
        "    regulariz = regularizers.l2(1)\n",
        "# #     regulariz = None\n",
        "        \n",
        "    inp = Input(shape=(224, 224, 3))\n",
        "    x = Conv2D(28, kernel_size=3, name=\"new_conv\", activation='relu')(inp)\n",
        "#     x = BatchNormalization()(x)\n",
        "    x = Conv2D(48, kernel_size=3, name=\"new_conv1\", activation='relu')(x)\n",
        "#     x = BatchNormalization()(x)\n",
        "    x = Conv2D(56, kernel_size=3, name=\"new_conv3\", activation='relu')(x)\n",
        "    x = Flatten()(x)\n",
        "    x = Dropout(0.5)(x)\n",
        "    x = Dense(32, activation='relu')(x)\n",
        "    class_ = Dense(1, name=\"class_\")(x)\n",
        "\n",
        "    return Model(inputs=inp, outputs=class_)\n",
        "\n",
        "#       model = create_model_bb()\n",
        "#       model.load_weights('model-0.80.h5')\n",
        "      \n",
        "#       for layer in model.layers:\n",
        "#         layer.trainable = False\n",
        "      \n",
        "#       for layer in model.layers:\n",
        "#         if layer.name == 'dense_2':\n",
        "#           x = layer.output\n",
        "#           break\n",
        "#       x = Dense(1, activation='relu', kernel_regularizer=regulariz)(x)\n",
        "      \n",
        "      "
      ],
      "execution_count": 0,
      "outputs": []
    },
    {
      "cell_type": "code",
      "metadata": {
        "id": "kjsg8j7uNmdS",
        "colab_type": "code",
        "outputId": "44313453-671a-42af-df95-0012e9041a32",
        "colab": {
          "base_uri": "https://localhost:8080/",
          "height": 530
        }
      },
      "source": [
        "model = create_model_class(img_size=img_shape)\n",
        "model.summary()"
      ],
      "execution_count": 0,
      "outputs": [
        {
          "output_type": "stream",
          "text": [
            "WARNING:tensorflow:From /usr/local/lib/python3.6/dist-packages/tensorflow/python/ops/resource_variable_ops.py:435: colocate_with (from tensorflow.python.framework.ops) is deprecated and will be removed in a future version.\n",
            "Instructions for updating:\n",
            "Colocations handled automatically by placer.\n",
            "WARNING:tensorflow:From /usr/local/lib/python3.6/dist-packages/tensorflow/python/keras/layers/core.py:143: calling dropout (from tensorflow.python.ops.nn_ops) with keep_prob is deprecated and will be removed in a future version.\n",
            "Instructions for updating:\n",
            "Please use `rate` instead of `keep_prob`. Rate should be set to `rate = 1 - keep_prob`.\n",
            "_________________________________________________________________\n",
            "Layer (type)                 Output Shape              Param #   \n",
            "=================================================================\n",
            "input_2 (InputLayer)         (None, 224, 224, 3)       0         \n",
            "_________________________________________________________________\n",
            "new_conv (Conv2D)            (None, 222, 222, 28)      784       \n",
            "_________________________________________________________________\n",
            "new_conv1 (Conv2D)           (None, 220, 220, 48)      12144     \n",
            "_________________________________________________________________\n",
            "new_conv3 (Conv2D)           (None, 218, 218, 56)      24248     \n",
            "_________________________________________________________________\n",
            "flatten (Flatten)            (None, 2661344)           0         \n",
            "_________________________________________________________________\n",
            "dropout (Dropout)            (None, 2661344)           0         \n",
            "_________________________________________________________________\n",
            "dense (Dense)                (None, 32)                85163040  \n",
            "_________________________________________________________________\n",
            "class_ (Dense)               (None, 1)                 33        \n",
            "=================================================================\n",
            "Total params: 85,200,249\n",
            "Trainable params: 85,200,249\n",
            "Non-trainable params: 0\n",
            "_________________________________________________________________\n"
          ],
          "name": "stdout"
        }
      ]
    },
    {
      "cell_type": "code",
      "metadata": {
        "id": "LLabpFnfNtKP",
        "colab_type": "code",
        "colab": {}
      },
      "source": [
        "lr = 1e-4\n",
        "epochs=500"
      ],
      "execution_count": 0,
      "outputs": []
    },
    {
      "cell_type": "code",
      "metadata": {
        "id": "EcUS9RoC7GV3",
        "colab_type": "code",
        "outputId": "6acd0828-b1a7-4dd2-e836-d9f4aec0c730",
        "colab": {
          "base_uri": "https://localhost:8080/",
          "height": 275
        }
      },
      "source": [
        "model.compile(loss={\"class_\" : \"binary_crossentropy\"}, optimizer= optimizers.Adam(lr=lr), metrics=[\"acc\"])\n",
        "class_weight = {0: 1, 1:2}\n",
        "\n",
        "# print(model.metrics_name)\n",
        "\n",
        "checkpoint = ModelCheckpoint(\"model-{val_acc:.2f}.h5\", monitor=\"val_acc\", verbose=1, save_best_only=True,\n",
        "                             save_weights_only=True, mode=\"max\", period=5)\n",
        "# stop = EarlyStopping(monitor=\"iou_metric\", patience=5, mode=\"max\")\n",
        "# reduce_lr = ReduceLROnPlateau(monitor=\"iou_metric\", factor=0.2, patience=10, min_lr=1e-7, verbose=1, mode=\"max\")\n",
        "\n",
        "model.fit_generator(generator=train_datagen, validation_data=val_datagen, epochs=epochs, callbacks=[checkpoint], shuffle=True, verbose=1, class_weight=class_weight)\n"
      ],
      "execution_count": 0,
      "outputs": [
        {
          "output_type": "stream",
          "text": [
            "WARNING:tensorflow:From /usr/local/lib/python3.6/dist-packages/tensorflow/python/ops/math_ops.py:3066: to_int32 (from tensorflow.python.ops.math_ops) is deprecated and will be removed in a future version.\n",
            "Instructions for updating:\n",
            "Use tf.cast instead.\n",
            "Epoch 1/500\n",
            "21/21 [==============================] - 0s 17ms/step - loss: 11.5772 - acc: 0.2738\n",
            "184/184 [==============================] - 18s 96ms/step - loss: 8.9751 - acc: 0.3207 - val_loss: 11.5772 - val_acc: 0.2738\n",
            "Epoch 2/500\n",
            "21/21 [==============================] - 0s 11ms/step - loss: 11.5772 - acc: 0.2738\n",
            "184/184 [==============================] - 15s 84ms/step - loss: 9.0435 - acc: 0.3152 - val_loss: 11.5772 - val_acc: 0.2738\n",
            "Epoch 3/500\n",
            "21/21 [==============================] - 0s 11ms/step - loss: 11.5772 - acc: 0.2738\n",
            "184/184 [==============================] - 15s 83ms/step - loss: 9.0508 - acc: 0.3179 - val_loss: 11.5772 - val_acc: 0.2738\n",
            "Epoch 4/500\n",
            " 76/184 [===========>..................] - ETA: 8s - loss: 9.4976 - acc: 0.3257"
          ],
          "name": "stdout"
        }
      ]
    },
    {
      "cell_type": "code",
      "metadata": {
        "id": "X-UqIpEfS0qb",
        "colab_type": "code",
        "colab": {}
      },
      "source": [
        "# file = file_list[1]\n",
        "# img = cv2.imread(file)\n",
        "# mask = ip(img) # For ip - isn't appended yet\n",
        "# img = np.stack([img[:,:,2], img[:,:,1], img[:,:,0]], axis=2)\n",
        "# #   img = cv2.cvtColor(img, cv2.COLOR_BGR2GRAY)\n",
        "# #   tree = ET.parse(os.path.join(annot_dir, file.split('/')[-1])[:-3] + 'xml')\n",
        "# tree = ET.parse(os.path.join('Labels', '/'.join(file.split('/')[-2:])[:-3] + 'xml'))\n",
        "# root = tree.getroot()\n",
        "# size = root.find('size')\n",
        "# width = int(size.find('width').text)\n",
        "# height = int(size.find('height').text)\n",
        "# box = (root.find('object')).find('bndbox')\n",
        "# xmin = int(box[0].text)\n",
        "# ymin = int(box[1].text)\n",
        "# xmax = int(box[2].text)\n",
        "# ymax = int(box[3].text)\n",
        "# print(([xmin, xmax, ymin, ymax]))\n",
        "# img = cv2.rectangle(img,(xmin, ymin),(xmax, ymax), (0,255,0) ,3)\n",
        "# plt.imshow(img)"
      ],
      "execution_count": 0,
      "outputs": []
    },
    {
      "cell_type": "code",
      "metadata": {
        "id": "TfW4P4Cye4fI",
        "colab_type": "code",
        "colab": {}
      },
      "source": [
        "# img_new, imgX1, imgX2, imgY1, imgY2 = scale(img, 224, 224, imgX1=xmin, imgX2=xmax, imgY1=ymin, imgY2=ymax)\n",
        "# img_new = cv2.rectangle(img_new, (imgX1, imgY1),(imgX2, imgY2), (0,255,0) ,1)\n",
        "# plt.imshow(img_new)"
      ],
      "execution_count": 0,
      "outputs": []
    },
    {
      "cell_type": "code",
      "metadata": {
        "id": "450ec9fISzz1",
        "colab_type": "code",
        "colab": {}
      },
      "source": [
        "# def scale_pad(img, zoom_range=(0.8,1.2), imgX1=None, imgX2=None, imgY1=None, imgY2=None, interpolation=cv2.INTER_LINEAR):\n",
        "    \n",
        "#     '''Args: Image, new image width, new image height, \n",
        "#                  top left point x-coordinates, bottom right point x-coordinates,\n",
        "#                  top left point y-coordinates, bottom right point y-coordinates, \n",
        "#                  interpolation    '''\n",
        "\n",
        "#     imgTemp = img.copy()\n",
        "#     imgHeight, imgWidth, _ = imgTemp.shape\n",
        "#     zoom = random.uniform(zoom_range[0], zoom_range[1])\n",
        "#     imgNewWidth = imgWidth*zoom\n",
        "#     imgNewHeight = imgHeight*zoom\n",
        "#     imgTemp = cv2.resize(imgTemp, (imgNewWidth, imgNewHeight), interpolation=interpolation)\n",
        "#     diffWidth = (imgNewWidth - imgWidth)\n",
        "#     diffHeight = (imgNewHeight - imgHeight)\n",
        "#     width_off = int(diffWidth/2)\n",
        "#     height_off = int(diffHeight/2)\n",
        "#     if(width_off>0):\n",
        "#       imgTemp = imgTemp[height_off:height_off+imgHeight, width_off:width_off+imgWidth]\n",
        "#     else:\n",
        "#       imgTemp = cv2.copyMakeBorder(imgTemp, int(height_off/2), imgHeight-imgNewHeight-int(height_off/2), int(width_off/2), \n",
        "#                                    imgWidth-imgNewWidth-int(width_off/2), BORDER_REPLICATE )\n",
        "\n",
        "#     if imgX1!=None:\n",
        "#         fY = float(imgNewHeight)/float(imgHeight)\n",
        "#         fX = float(imgNewWidth)/float(imgWidth)\n",
        "\n",
        "#         imgX1 = max(0, int(imgX1*fX))\n",
        "#         imgX2 = min(int(imgX2*fX), imgNewWidth)\n",
        "#         imgY1 = max(0, int(imgY1*fY))\n",
        "#         imgY2 = min(int(imgY2*fY), imgNewHeight)\n",
        "        \n",
        "#         imgX1 -= width_off\n",
        "#         imgX2 -= width_off\n",
        "#         imgY1 -= height_off\n",
        "#         imgY2 -= heght_off\n",
        "\n",
        "#         return imgTemp, imgX1, imgX2, imgY1, imgY2\n",
        "#     else:\n",
        "#         return imgTemp"
      ],
      "execution_count": 0,
      "outputs": []
    },
    {
      "cell_type": "code",
      "metadata": {
        "id": "COxq2Onvfg51",
        "colab_type": "code",
        "colab": {}
      },
      "source": [
        ""
      ],
      "execution_count": 0,
      "outputs": []
    },
    {
      "cell_type": "code",
      "metadata": {
        "colab_type": "code",
        "id": "NMl8uypv9REh",
        "colab": {}
      },
      "source": [
        "# class repeat_channel(image_gen):\n",
        "#   def __init__(self, image_gen):\n",
        "#     super(repeat_channel, self).__init__()\n",
        "#     self.gen = image_gen\n",
        "    \n",
        "#   def __len__(self):\n",
        "#     return 141\n",
        "  \n",
        "#   def __getitem__(self, idx):\n",
        "#     img, y = self.gen.next()\n",
        "#     return (np.concatenate([img,img,img], axis=3), y)"
      ],
      "execution_count": 0,
      "outputs": []
    },
    {
      "cell_type": "code",
      "metadata": {
        "id": "dAOkoDrJ8UEY",
        "colab_type": "code",
        "colab": {}
      },
      "source": [
        "# from google.colab import files\n",
        "# uploaded = files.upload()\n",
        "# for k, v in uploaded.items():\n",
        "#   open(k, 'wb').write(v)\n",
        "# list(uploaded.keys())"
      ],
      "execution_count": 0,
      "outputs": []
    },
    {
      "cell_type": "code",
      "metadata": {
        "id": "P0PYn5M1VtK5",
        "colab_type": "code",
        "colab": {}
      },
      "source": [
        "\n"
      ],
      "execution_count": 0,
      "outputs": []
    },
    {
      "cell_type": "code",
      "metadata": {
        "colab_type": "code",
        "id": "uCCnGqbd0ROA",
        "colab": {}
      },
      "source": [
        "batch_images, batch_labels = train_datagen.__getitem__(0)\n",
        "i=0"
      ],
      "execution_count": 0,
      "outputs": []
    },
    {
      "cell_type": "code",
      "metadata": {
        "colab_type": "code",
        "id": "OnthIzXB0ROS",
        "outputId": "55b6b71c-6bae-4449-cb2b-8d2f5159e8e3",
        "colab": {
          "base_uri": "https://localhost:8080/",
          "height": 320
        }
      },
      "source": [
        "i=(i+1)%4\n",
        "print(i)\n",
        "print(batch_labels[i])\n",
        "img = batch_images[i]\n",
        "plt.imshow(img)"
      ],
      "execution_count": 0,
      "outputs": [
        {
          "output_type": "stream",
          "text": [
            "3\n",
            "[0]\n"
          ],
          "name": "stdout"
        },
        {
          "output_type": "execute_result",
          "data": {
            "text/plain": [
              "<matplotlib.image.AxesImage at 0x7fd5138bdc88>"
            ]
          },
          "metadata": {
            "tags": []
          },
          "execution_count": 23
        },
        {
          "output_type": "display_data",
          "data": {
            "image/png": "[encoded data removed]",
            "text/plain": [
              "<Figure size 432x288 with 1 Axes>"
            ]
          },
          "metadata": {
            "tags": []
          }
        }
      ]
    },
    {
      "cell_type": "code",
      "metadata": {
        "id": "nr-kP2J2hWy9",
        "colab_type": "code",
        "colab": {}
      },
      "source": [
        "# datagen = ImageDataGenerator(width_shift_range=0.2, height_shift_range=0.2, brightness_range=(0.7,1.3), zoom_range=0.4, \n",
        "#                    fill_mode='reflect', horizontal_flip=True, vertical_flip=True, rescale=1/255, validation_split=0.1)"
      ],
      "execution_count": 0,
      "outputs": []
    }
  ]
}