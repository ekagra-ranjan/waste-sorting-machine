{
  "nbformat": 4,
  "nbformat_minor": 0,
  "metadata": {
    "colab": {
      "name": "MKB DL Data check",
      "version": "0.3.2",
      "provenance": [],
      "collapsed_sections": []
    },
    "kernelspec": {
      "name": "python3",
      "display_name": "Python 3"
    },
    "accelerator": "GPU"
  },
  "cells": [
    {
      "cell_type": "code",
      "metadata": {
        "id": "f8Dt4s5DfWDw",
        "colab_type": "code",
        "outputId": "e0449443-4830-4d5c-d63f-8f93dac0c05f",
        "colab": {
          "base_uri": "https://localhost:8080/",
          "height": 51
        }
      },
      "source": [
        "!pip install -U -q PyDrive\n",
        "from pydrive.auth import GoogleAuth\n",
        "from pydrive.drive import GoogleDrive\n",
        "from google.colab import auth\n",
        "from oauth2client.client import GoogleCredentials\n",
        "\n",
        "# 1. Authenticate and create the PyDrive client.\n",
        "auth.authenticate_user()\n",
        "gauth = GoogleAuth()\n",
        "gauth.credentials = GoogleCredentials.get_application_default()\n",
        "drive = GoogleDrive(gauth)"
      ],
      "execution_count": 0,
      "outputs": [
        {
          "output_type": "stream",
          "text": [
            "\u001b[?25l\r\u001b[K    1% |▎                               | 10kB 17.1MB/s eta 0:00:01\r\u001b[K    2% |▋                               | 20kB 2.3MB/s eta 0:00:01\r\u001b[K    3% |█                               | 30kB 3.3MB/s eta 0:00:01\r\u001b[K    4% |█▎                              | 40kB 2.2MB/s eta 0:00:01\r\u001b[K    5% |█▋                              | 51kB 2.7MB/s eta 0:00:01\r\u001b[K    6% |██                              | 61kB 3.2MB/s eta 0:00:01\r\u001b[K    7% |██▎                             | 71kB 3.6MB/s eta 0:00:01\r\u001b[K    8% |██▋                             | 81kB 4.1MB/s eta 0:00:01\r\u001b[K    9% |███                             | 92kB 4.5MB/s eta 0:00:01\r\u001b[K    10% |███▎                            | 102kB 3.5MB/s eta 0:00:01\r\u001b[K    11% |███▋                            | 112kB 3.6MB/s eta 0:00:01\r\u001b[K    12% |████                            | 122kB 5.0MB/s eta 0:00:01\r\u001b[K    13% |████▎                           | 133kB 5.0MB/s eta 0:00:01\r\u001b[K    14% |████▋                           | 143kB 9.2MB/s eta 0:00:01\r\u001b[K    15% |█████                           | 153kB 9.2MB/s eta 0:00:01\r\u001b[K    16% |█████▎                          | 163kB 9.1MB/s eta 0:00:01\r\u001b[K    17% |█████▋                          | 174kB 9.2MB/s eta 0:00:01\r\u001b[K    18% |██████                          | 184kB 9.3MB/s eta 0:00:01\r\u001b[K    19% |██████▎                         | 194kB 9.3MB/s eta 0:00:01\r\u001b[K    20% |██████▋                         | 204kB 33.8MB/s eta 0:00:01\r\u001b[K    21% |███████                         | 215kB 10.6MB/s eta 0:00:01\r\u001b[K    22% |███████▎                        | 225kB 10.6MB/s eta 0:00:01\r\u001b[K    23% |███████▋                        | 235kB 10.6MB/s eta 0:00:01\r\u001b[K    24% |████████                        | 245kB 10.7MB/s eta 0:00:01\r\u001b[K    25% |████████▎                       | 256kB 10.7MB/s eta 0:00:01\r\u001b[K    26% |████████▋                       | 266kB 10.5MB/s eta 0:00:01\r\u001b[K    27% |█████████                       | 276kB 10.6MB/s eta 0:00:01\r\u001b[K    29% |█████████▎                      | 286kB 10.6MB/s eta 0:00:01\r\u001b[K    30% |█████████▋                      | 296kB 10.4MB/s eta 0:00:01\r\u001b[K    31% |██████████                      | 307kB 10.8MB/s eta 0:00:01\r\u001b[K    32% |██████████▎                     | 317kB 37.3MB/s eta 0:00:01\r\u001b[K    33% |██████████▋                     | 327kB 38.0MB/s eta 0:00:01\r\u001b[K    34% |███████████                     | 337kB 39.2MB/s eta 0:00:01\r\u001b[K    35% |███████████▎                    | 348kB 35.7MB/s eta 0:00:01\r\u001b[K    36% |███████████▋                    | 358kB 35.8MB/s eta 0:00:01\r\u001b[K    37% |████████████                    | 368kB 38.8MB/s eta 0:00:01\r\u001b[K    38% |████████████▎                   | 378kB 38.6MB/s eta 0:00:01\r\u001b[K    39% |████████████▋                   | 389kB 38.5MB/s eta 0:00:01\r\u001b[K    40% |█████████████                   | 399kB 13.6MB/s eta 0:00:01\r\u001b[K    41% |█████████████▎                  | 409kB 13.5MB/s eta 0:00:01\r\u001b[K    42% |█████████████▋                  | 419kB 13.6MB/s eta 0:00:01\r\u001b[K    43% |██████████████                  | 430kB 13.3MB/s eta 0:00:01\r\u001b[K    44% |██████████████▎                 | 440kB 13.3MB/s eta 0:00:01\r\u001b[K    45% |██████████████▋                 | 450kB 13.5MB/s eta 0:00:01\r\u001b[K    46% |███████████████                 | 460kB 13.5MB/s eta 0:00:01\r\u001b[K    47% |███████████████▎                | 471kB 13.6MB/s eta 0:00:01\r\u001b[K    48% |███████████████▋                | 481kB 13.6MB/s eta 0:00:01\r\u001b[K    49% |████████████████                | 491kB 13.5MB/s eta 0:00:01\r\u001b[K    50% |████████████████▎               | 501kB 37.9MB/s eta 0:00:01\r\u001b[K    51% |████████████████▋               | 512kB 34.3MB/s eta 0:00:01\r\u001b[K    52% |█████████████████               | 522kB 33.5MB/s eta 0:00:01\r\u001b[K    53% |█████████████████▎              | 532kB 34.1MB/s eta 0:00:01\r\u001b[K    54% |█████████████████▋              | 542kB 32.4MB/s eta 0:00:01\r\u001b[K    55% |██████████████████              | 552kB 33.1MB/s eta 0:00:01\r\u001b[K    57% |██████████████████▎             | 563kB 12.2MB/s eta 0:00:01\r\u001b[K    58% |██████████████████▋             | 573kB 11.9MB/s eta 0:00:01\r\u001b[K    59% |███████████████████             | 583kB 11.6MB/s eta 0:00:01\r\u001b[K    60% |███████████████████▎            | 593kB 11.7MB/s eta 0:00:01\r\u001b[K    61% |███████████████████▋            | 604kB 11.7MB/s eta 0:00:01\r\u001b[K    62% |████████████████████            | 614kB 12.2MB/s eta 0:00:01\r\u001b[K    63% |████████████████████▎           | 624kB 12.2MB/s eta 0:00:01\r\u001b[K    64% |████████████████████▋           | 634kB 12.3MB/s eta 0:00:01\r\u001b[K    65% |█████████████████████           | 645kB 12.5MB/s eta 0:00:01\r\u001b[K    66% |█████████████████████▎          | 655kB 12.6MB/s eta 0:00:01\r\u001b[K    67% |█████████████████████▋          | 665kB 31.2MB/s eta 0:00:01\r\u001b[K    68% |██████████████████████          | 675kB 32.9MB/s eta 0:00:01\r\u001b[K    69% |██████████████████████▎         | 686kB 36.2MB/s eta 0:00:01\r\u001b[K    70% |██████████████████████▋         | 696kB 36.6MB/s eta 0:00:01\r\u001b[K    71% |███████████████████████         | 706kB 36.7MB/s eta 0:00:01\r\u001b[K    72% |███████████████████████▎        | 716kB 36.8MB/s eta 0:00:01\r\u001b[K    73% |███████████████████████▋        | 727kB 37.3MB/s eta 0:00:01\r\u001b[K    74% |████████████████████████        | 737kB 37.0MB/s eta 0:00:01\r\u001b[K    75% |████████████████████████▎       | 747kB 37.7MB/s eta 0:00:01\r\u001b[K    76% |████████████████████████▋       | 757kB 37.6MB/s eta 0:00:01\r\u001b[K    77% |████████████████████████▉       | 768kB 45.0MB/s eta 0:00:01\r\u001b[K    78% |█████████████████████████▏      | 778kB 45.5MB/s eta 0:00:01\r\u001b[K    79% |█████████████████████████▌      | 788kB 45.1MB/s eta 0:00:01\r\u001b[K    80% |█████████████████████████▉      | 798kB 45.3MB/s eta 0:00:01\r\u001b[K    81% |██████████████████████████▏     | 808kB 45.3MB/s eta 0:00:01\r\u001b[K    82% |██████████████████████████▌     | 819kB 44.4MB/s eta 0:00:01\r\u001b[K    83% |██████████████████████████▉     | 829kB 44.9MB/s eta 0:00:01\r\u001b[K    85% |███████████████████████████▏    | 839kB 45.3MB/s eta 0:00:01\r\u001b[K    86% |███████████████████████████▌    | 849kB 44.6MB/s eta 0:00:01\r\u001b[K    87% |███████████████████████████▉    | 860kB 41.4MB/s eta 0:00:01\r\u001b[K    88% |████████████████████████████▏   | 870kB 42.0MB/s eta 0:00:01\r\u001b[K    89% |████████████████████████████▌   | 880kB 42.3MB/s eta 0:00:01\r\u001b[K    90% |████████████████████████████▉   | 890kB 42.3MB/s eta 0:00:01\r\u001b[K    91% |█████████████████████████████▏  | 901kB 42.3MB/s eta 0:00:01\r\u001b[K    92% |█████████████████████████████▌  | 911kB 42.8MB/s eta 0:00:01\r\u001b[K    93% |█████████████████████████████▉  | 921kB 43.2MB/s eta 0:00:01\r\u001b[K    94% |██████████████████████████████▏ | 931kB 43.4MB/s eta 0:00:01\r\u001b[K    95% |██████████████████████████████▌ | 942kB 43.3MB/s eta 0:00:01\r\u001b[K    96% |██████████████████████████████▉ | 952kB 42.7MB/s eta 0:00:01\r\u001b[K    97% |███████████████████████████████▏| 962kB 47.1MB/s eta 0:00:01\r\u001b[K    98% |███████████████████████████████▌| 972kB 47.0MB/s eta 0:00:01\r\u001b[K    99% |███████████████████████████████▉| 983kB 46.4MB/s eta 0:00:01\r\u001b[K    100% |████████████████████████████████| 993kB 17.8MB/s \n",
            "\u001b[?25h  Building wheel for PyDrive (setup.py) ... \u001b[?25ldone\n",
            "\u001b[?25h"
          ],
          "name": "stdout"
        }
      ]
    },
    {
      "cell_type": "code",
      "metadata": {
        "id": "wEgRu4VtiIDf",
        "colab_type": "code",
        "colab": {}
      },
      "source": [
        "file = drive.CreateFile({'id': '1aLon9sOQd49HNV0-Deo2XMwf-49XlL5P'})\n",
        "file.GetContentFile('data.zip')\n",
        "file = drive.CreateFile({'id': '1STxR_DQE0JCDpIE_9JzkgTTx4j-ga7YG'})\n",
        "file.GetContentFile('annotations.zip')"
      ],
      "execution_count": 0,
      "outputs": []
    },
    {
      "cell_type": "code",
      "metadata": {
        "id": "9EOW3Cg2iVec",
        "colab_type": "code",
        "colab": {}
      },
      "source": [
        "!unzip data.zip >/dev/null\n",
        "!unzip annotations.zip >/dev/null\n",
        "!rm ./Data/56478665_421907071715102_3762114008077828096_n.jpg # this image has no object, so removing it (no xml exists for it)\n",
        "!rm ./Data/55912462_267292044150469_7933255829271085056_n.jpg # this image has no object, so removing it (no xml exists for it)"
      ],
      "execution_count": 0,
      "outputs": []
    },
    {
      "cell_type": "code",
      "metadata": {
        "id": "5WdYb1h07-Bl",
        "colab_type": "code",
        "outputId": "ecc9de7a-75b0-4612-b220-5a43ef22368b",
        "colab": {
          "base_uri": "https://localhost:8080/",
          "height": 34
        }
      },
      "source": [
        "import cv2\n",
        "import glob\n",
        "import xml.etree.ElementTree as ET\n",
        "import os\n",
        "import numpy as np\n",
        "from matplotlib import pyplot as plt\n",
        "import imutils\n",
        "from PIL import Image\n",
        "\n",
        "from tensorflow.keras import Model\n",
        "from tensorflow.keras.applications.mobilenet_v2 import MobileNetV2, preprocess_input\n",
        "from tensorflow.keras.callbacks import ModelCheckpoint, EarlyStopping, ReduceLROnPlateau, Callback\n",
        "from tensorflow.keras.layers import Conv2D, Reshape, Flatten, Dense, BatchNormalization\n",
        "from tensorflow.keras.utils import Sequence\n",
        "from tensorflow.keras.backend import epsilon\n",
        "import tensorflow.keras.backend as K\n",
        "from tensorflow.keras import optimizers\n",
        "from tensorflow.keras import regularizers\n",
        "\n",
        "import pandas as pd\n",
        "import random\n",
        "from skimage.transform import resize\n",
        "from keras.preprocessing.image import ImageDataGenerator"
      ],
      "execution_count": 0,
      "outputs": [
        {
          "output_type": "stream",
          "text": [
            "Using TensorFlow backend.\n"
          ],
          "name": "stderr"
        }
      ]
    },
    {
      "cell_type": "code",
      "metadata": {
        "id": "TbI4P6duMa3p",
        "colab_type": "code",
        "colab": {}
      },
      "source": [
        "annot_dir = './Annotations/'\n",
        "img_shape = 224"
      ],
      "execution_count": 0,
      "outputs": []
    },
    {
      "cell_type": "code",
      "metadata": {
        "id": "AFb_XCchR_cP",
        "colab_type": "code",
        "colab": {}
      },
      "source": [
        "images = []\n",
        "labels = [] # labels are [xmin, ymin, xmax, ymax]\n",
        "file_list = list(glob.glob('./Data/*'))\n",
        "for file in file_list:\n",
        "  img = cv2.imread(file)\n",
        "  img = cv2.cvtColor(img, cv2.COLOR_BGR2GRAY)\n",
        "  img = cv2.resize(img, (img_shape, img_shape))\n",
        "  tree = ET.parse(os.path.join(annot_dir, file.split('/')[-1])[:-3] + 'xml')\n",
        "  root = tree.getroot()\n",
        "  size = root.find('size')\n",
        "  width = int(size.find('width').text)\n",
        "  height = int(size.find('height').text)\n",
        "  box = (root.find('object')).find('bndbox')\n",
        "  xmin = int(box[0].text)\n",
        "  ymin = int(box[1].text)\n",
        "  xmax = int(box[2].text)\n",
        "  ymax = int(box[3].text)\n",
        "  \n",
        "  if(width > height):\n",
        "    img = imutils.rotate_bound(img, 90)\n",
        "    xmin, ymin = height-ymin, xmin\n",
        "    xmax, ymax = height-ymax, xmax    \n",
        "  \n",
        "  images.append(img)\n",
        "  labels.append([xmin, ymin, xmax, ymax])\n",
        "images = np.array(images)\n",
        "images = np.stack(3*[images], axis=3)\n",
        "labels = np.array(labels)"
      ],
      "execution_count": 0,
      "outputs": []
    },
    {
      "cell_type": "code",
      "metadata": {
        "id": "4_2CV1-RJ6YU",
        "colab_type": "code",
        "colab": {}
      },
      "source": [
        "datagen = ImageDataGenerator(width_shift_range=0.2, height_shift_range=0.2, brightness_range=(0.7,1.3), zoom_range=0.4, \n",
        "                   fill_mode='reflect', horizontal_flip=True, vertical_flip=True, rescale=1/255, validation_split=0.1)"
      ],
      "execution_count": 0,
      "outputs": []
    },
    {
      "cell_type": "code",
      "metadata": {
        "id": "9JouPEzCUY_j",
        "colab_type": "code",
        "colab": {}
      },
      "source": [
        "flow = datagen.flow(images, labels, batch_size=1)"
      ],
      "execution_count": 0,
      "outputs": []
    },
    {
      "cell_type": "code",
      "metadata": {
        "id": "OE-dUuBHVsTz",
        "colab_type": "code",
        "colab": {}
      },
      "source": [
        "images, labels = flow.next()\n",
        "cv2.rectangel"
      ],
      "execution_count": 0,
      "outputs": []
    },
    {
      "cell_type": "code",
      "metadata": {
        "id": "I2rRDy7TVwZI",
        "colab_type": "code",
        "outputId": "873f4e68-d27e-49a5-f3fc-1c8a96ad6ac6",
        "colab": {
          "base_uri": "https://localhost:8080/",
          "height": 34
        }
      },
      "source": [
        "x[1]"
      ],
      "execution_count": 0,
      "outputs": [
        {
          "output_type": "execute_result",
          "data": {
            "text/plain": [
              "array([[630, 602, 382, 998]])"
            ]
          },
          "metadata": {
            "tags": []
          },
          "execution_count": 26
        }
      ]
    },
    {
      "cell_type": "code",
      "metadata": {
        "id": "RbElKe6B6r7I",
        "colab_type": "code",
        "colab": {}
      },
      "source": [
        "# class DataGenerator(Sequence):\n",
        "\n",
        "#     def __init__(self, images, labels, batch_size, img_size=224, val=False):\n",
        "      \n",
        "#         super(DataGenerator, self).__init__()\n",
        "      \n",
        "#         self.data = images\n",
        "#         self.labels = labels\n",
        "#         self.batch_size = batch_size\n",
        "#         self.index = 0\n",
        "#         self.hor_flip = RandomHorizontalFlip(0.5)\n",
        "#         self.ver_flip = RandomVerticalFlip(0.5)\n",
        "\n",
        "#     def __len__(self):\n",
        "#         return int(len(self.data)/self.batch_size)\n",
        "\n",
        "#     def __getitem__(self, idx):\n",
        "        \n",
        "#         batch_images = []\n",
        "#         for i in range(self.batch_size):\n",
        "#           batch_images.append(images[index])\n",
        "#           index = (index+1)%len(self.images)\n",
        "        \n",
        "#         # batch_images [batch_size, img_shape, img_shape, 3]\n",
        "#         # batch_coords [batch_size, 4] - [x,y,w,h] - x,y is top left corner\n",
        "#         return batch_images, batch_coords"
      ],
      "execution_count": 0,
      "outputs": []
    },
    {
      "cell_type": "code",
      "metadata": {
        "id": "UeSQ_q3Z65T8",
        "colab_type": "code",
        "colab": {}
      },
      "source": [
        "def iou_metric(y_true, y_pred):\n",
        "    \n",
        "    gt = y_true\n",
        "    pred = y_pred\n",
        "\n",
        "    diff_width = K.minimum(gt[:,2], pred[:,2]) - K.maximum(gt[:,0], pred[:,0])\n",
        "    diff_height = K.minimum(gt[:,3], pred[:,3]) - K.maximum(gt[:,1], pred[:,1])\n",
        "    intersection = K.maximum(diff_width, 0) * K.maximum(diff_height, 0)\n",
        "\n",
        "    area_gt = (gt[:,2]-gt[:,0]) * (gt[:,3]-gt[:,1])\n",
        "    area_pred = (pred[:,2]-pred[:,0]) * (pred[:,3]-pred[:,1])\n",
        "    union = K.maximum(area_gt + area_pred - intersection, 0)\n",
        "    \n",
        "    iou = K.round(intersection / (union + epsilon()))\n",
        "    \n",
        "    return iou"
      ],
      "execution_count": 0,
      "outputs": []
    },
    {
      "cell_type": "code",
      "metadata": {
        "id": "qkU55YjO69tF",
        "colab_type": "code",
        "colab": {}
      },
      "source": [
        "def create_model(img_size=224, trainable=False):\n",
        "    model = MobileNetV2(input_shape=(img_size, img_size, 3), include_top=False)\n",
        "    \n",
        "#     to freeze layers\n",
        "    for layer in model.layers:\n",
        "        layer.trainable = trainable\n",
        "        \n",
        "    for layer in model.layers:\n",
        "      if layer.name == 'block_7_project_BN':\n",
        "        x = layer.output\n",
        "        break\n",
        "    \n",
        "#     regulariz = regularizers.l2(1)\n",
        "    regulariz = None\n",
        "        \n",
        "    x = Conv2D(64, kernel_size=3, name=\"new_conv\", activation='relu', kernel_regularizer=regulariz)(x)\n",
        "    x = BatchNormalization()(x)\n",
        "    x = Conv2D(128, kernel_size=3, name=\"new_conv1\", activation='relu', padding='same', kernel_regularizer=regulariz)(x)\n",
        "    x = BatchNormalization()(x)\n",
        "    x = Conv2D(128, kernel_size=3, name=\"new_conv2\", activation='relu', padding='same', kernel_regularizer=regulariz)(x)\n",
        "    x = Conv2D(128, kernel_size=3, name=\"new_conv3\", activation='relu', kernel_regularizer=regulariz)(x)\n",
        "    x = BatchNormalization()(x)\n",
        "    x = Conv2D(8, kernel_size=1, name=\"new_conv4\", activation='relu', kernel_regularizer=regulariz)(x)\n",
        "    x = Flatten()(x)\n",
        "    pred = Dense(4)(x)\n",
        "\n",
        "    return Model(inputs=model.input, outputs=pred)"
      ],
      "execution_count": 0,
      "outputs": []
    },
    {
      "cell_type": "code",
      "metadata": {
        "id": "kjsg8j7uNmdS",
        "colab_type": "code",
        "outputId": "43e63599-b9bb-4740-f593-ace46b506c93",
        "colab": {
          "base_uri": "https://localhost:8080/",
          "height": 122
        }
      },
      "source": [
        "model = create_model(img_size=img_shape)\n",
        "# model.summary()"
      ],
      "execution_count": 0,
      "outputs": [
        {
          "output_type": "stream",
          "text": [
            "WARNING:tensorflow:From /usr/local/lib/python3.6/dist-packages/tensorflow/python/ops/resource_variable_ops.py:435: colocate_with (from tensorflow.python.framework.ops) is deprecated and will be removed in a future version.\n",
            "Instructions for updating:\n",
            "Colocations handled automatically by placer.\n",
            "Downloading data from https://github.com/JonathanCMitchell/mobilenet_v2_keras/releases/download/v1.1/mobilenet_v2_weights_tf_dim_ordering_tf_kernels_1.0_224_no_top.h5\n",
            "9412608/9406464 [==============================] - 0s 0us/step\n"
          ],
          "name": "stdout"
        }
      ]
    },
    {
      "cell_type": "code",
      "metadata": {
        "id": "dAOkoDrJ8UEY",
        "colab_type": "code",
        "colab": {}
      },
      "source": [
        "# from google.colab import files\n",
        "# uploaded = files.upload()\n",
        "# for k, v in uploaded.items():\n",
        "#   open(k, 'wb').write(v)\n",
        "# list(uploaded.keys())"
      ],
      "execution_count": 0,
      "outputs": []
    },
    {
      "cell_type": "code",
      "metadata": {
        "id": "LLabpFnfNtKP",
        "colab_type": "code",
        "colab": {}
      },
      "source": [
        "lr = 1e-4\n",
        "epochs=5000"
      ],
      "execution_count": 0,
      "outputs": []
    },
    {
      "cell_type": "code",
      "metadata": {
        "id": "ziT8jt88Pm30",
        "colab_type": "code",
        "outputId": "74ea0e7f-2538-4fcc-f33a-4d30ad8e3d79",
        "colab": {
          "base_uri": "https://localhost:8080/",
          "height": 34
        }
      },
      "source": [
        "model.metrics_names"
      ],
      "execution_count": 0,
      "outputs": [
        {
          "output_type": "execute_result",
          "data": {
            "text/plain": [
              "[]"
            ]
          },
          "metadata": {
            "tags": []
          },
          "execution_count": 16
        }
      ]
    },
    {
      "cell_type": "code",
      "metadata": {
        "id": "EcUS9RoC7GV3",
        "colab_type": "code",
        "outputId": "f40a3236-801f-44e6-993e-abbe22d28d0f",
        "colab": {
          "base_uri": "https://localhost:8080/",
          "height": 2125
        }
      },
      "source": [
        "model.compile(loss=\"mean_squared_error\", optimizer= optimizers.Adam(lr=lr), metrics=[iou_metric])\n",
        "\n",
        "checkpoint = ModelCheckpoint(\"model-{iou_metric:.2f}.h5\", monitor=\"iou_metric\", verbose=1, save_best_only=True,\n",
        "                             save_weights_only=True, mode=\"max\", period=5)\n",
        "# stop = EarlyStopping(monitor=\"iou_metric\", patience=5, mode=\"max\")\n",
        "# reduce_lr = ReduceLROnPlateau(monitor=\"iou_metric\", factor=0.2, patience=10, min_lr=1e-7, verbose=1, mode=\"max\")\n",
        "\n",
        "model.fit_generator(generator=datagen.flow(images, labels, batch_size=8),\n",
        "                    epochs=epochs,\n",
        "                    callbacks=[checkpoint],\n",
        "                    shuffle=True,\n",
        "                    verbose=1)\n"
      ],
      "execution_count": 0,
      "outputs": [
        {
          "output_type": "stream",
          "text": [
            "Epoch 1/5000\n",
            "7/7 [==============================] - 1s 134ms/step - loss: 10403.8493 - iou_metric: 0.0364\n",
            "Epoch 2/5000\n",
            "7/7 [==============================] - 1s 114ms/step - loss: 10184.4912 - iou_metric: 0.0909\n",
            "Epoch 3/5000\n",
            "7/7 [==============================] - 1s 121ms/step - loss: 10468.9787 - iou_metric: 0.0727\n",
            "Epoch 4/5000\n",
            "7/7 [==============================] - 1s 130ms/step - loss: 9751.9563 - iou_metric: 0.1273\n",
            "Epoch 5/5000\n",
            "6/7 [========================>.....] - ETA: 0s - loss: 9837.8554 - iou_metric: 0.0851 \n",
            "Epoch 00005: iou_metric improved from -inf to 0.09091, saving model to model-0.09.h5\n",
            "7/7 [==============================] - 1s 140ms/step - loss: 9322.4354 - iou_metric: 0.0909\n",
            "Epoch 6/5000\n",
            "7/7 [==============================] - 1s 112ms/step - loss: 9939.3928 - iou_metric: 0.1091\n",
            "Epoch 7/5000\n",
            "7/7 [==============================] - 1s 119ms/step - loss: 11072.4038 - iou_metric: 0.0909\n",
            "Epoch 8/5000\n",
            "7/7 [==============================] - 1s 127ms/step - loss: 16005.9202 - iou_metric: 0.0545\n",
            "Epoch 9/5000\n",
            "7/7 [==============================] - 1s 117ms/step - loss: 9382.4110 - iou_metric: 0.0909\n",
            "Epoch 10/5000\n",
            "6/7 [========================>.....] - ETA: 0s - loss: 9164.0454 - iou_metric: 0.0851\n",
            "Epoch 00010: iou_metric did not improve from 0.09091\n",
            "7/7 [==============================] - 1s 125ms/step - loss: 9156.2805 - iou_metric: 0.0909\n",
            "Epoch 11/5000\n",
            "7/7 [==============================] - 1s 114ms/step - loss: 9101.6132 - iou_metric: 0.1091\n",
            "Epoch 12/5000\n",
            "7/7 [==============================] - 1s 128ms/step - loss: 9996.0652 - iou_metric: 0.1091\n",
            "Epoch 13/5000\n",
            "7/7 [==============================] - 1s 117ms/step - loss: 9375.0116 - iou_metric: 0.1455\n",
            "Epoch 14/5000\n",
            "7/7 [==============================] - 1s 124ms/step - loss: 12039.4257 - iou_metric: 0.1091\n",
            "Epoch 15/5000\n",
            "6/7 [========================>.....] - ETA: 0s - loss: 9514.8886 - iou_metric: 0.1277\n",
            "Epoch 00015: iou_metric improved from 0.09091 to 0.14545, saving model to model-0.15.h5\n",
            "7/7 [==============================] - 1s 140ms/step - loss: 8862.3566 - iou_metric: 0.1455\n",
            "Epoch 16/5000\n",
            "7/7 [==============================] - 1s 111ms/step - loss: 9842.3343 - iou_metric: 0.0545\n",
            "Epoch 17/5000\n",
            "7/7 [==============================] - 1s 121ms/step - loss: 12928.6775 - iou_metric: 0.1273\n",
            "Epoch 18/5000\n",
            "7/7 [==============================] - 1s 124ms/step - loss: 10612.5913 - iou_metric: 0.1091\n",
            "Epoch 19/5000\n",
            "7/7 [==============================] - 1s 118ms/step - loss: 9564.9947 - iou_metric: 0.0727\n",
            "Epoch 20/5000\n",
            "6/7 [========================>.....] - ETA: 0s - loss: 12285.3809 - iou_metric: 0.0851\n",
            "Epoch 00020: iou_metric did not improve from 0.14545\n",
            "7/7 [==============================] - 1s 126ms/step - loss: 12540.2382 - iou_metric: 0.0909\n",
            "Epoch 21/5000\n",
            "7/7 [==============================] - 1s 118ms/step - loss: 12235.7757 - iou_metric: 0.0909\n",
            "Epoch 22/5000\n",
            "7/7 [==============================] - 1s 126ms/step - loss: 11751.0762 - iou_metric: 0.1091\n",
            "Epoch 23/5000\n",
            "7/7 [==============================] - 1s 117ms/step - loss: 9085.3378 - iou_metric: 0.0545\n",
            "Epoch 24/5000\n",
            "7/7 [==============================] - 1s 124ms/step - loss: 10420.5548 - iou_metric: 0.1091\n",
            "Epoch 25/5000\n",
            "6/7 [========================>.....] - ETA: 0s - loss: 9075.6388 - iou_metric: 0.1064\n",
            "Epoch 00025: iou_metric did not improve from 0.14545\n",
            "7/7 [==============================] - 1s 116ms/step - loss: 10190.2913 - iou_metric: 0.1091\n",
            "Epoch 26/5000\n",
            "7/7 [==============================] - 1s 126ms/step - loss: 10527.7863 - iou_metric: 0.1455\n",
            "Epoch 27/5000\n",
            "7/7 [==============================] - 1s 118ms/step - loss: 10245.8997 - iou_metric: 0.1273\n",
            "Epoch 28/5000\n",
            "7/7 [==============================] - 1s 125ms/step - loss: 11903.8501 - iou_metric: 0.0909\n",
            "Epoch 29/5000\n",
            "7/7 [==============================] - 1s 135ms/step - loss: 11982.6486 - iou_metric: 0.1091\n",
            "Epoch 30/5000\n",
            "6/7 [========================>.....] - ETA: 0s - loss: 9249.2326 - iou_metric: 0.0851\n",
            "Epoch 00030: iou_metric did not improve from 0.14545\n",
            "7/7 [==============================] - 1s 142ms/step - loss: 9176.6806 - iou_metric: 0.0909\n",
            "Epoch 31/5000\n",
            "7/7 [==============================] - 1s 129ms/step - loss: 9514.5624 - iou_metric: 0.1636\n",
            "Epoch 32/5000\n",
            "7/7 [==============================] - 1s 138ms/step - loss: 9942.1358 - iou_metric: 0.0909\n",
            "Epoch 33/5000\n",
            "7/7 [==============================] - 1s 130ms/step - loss: 9982.5920 - iou_metric: 0.1273\n",
            "Epoch 34/5000\n",
            "7/7 [==============================] - 1s 142ms/step - loss: 9258.5697 - iou_metric: 0.0727\n",
            "Epoch 35/5000\n",
            "6/7 [========================>.....] - ETA: 0s - loss: 9443.3021 - iou_metric: 0.1064 \n",
            "Epoch 00035: iou_metric did not improve from 0.14545\n",
            "7/7 [==============================] - 1s 130ms/step - loss: 9957.9768 - iou_metric: 0.0909\n",
            "Epoch 36/5000\n",
            "7/7 [==============================] - 1s 128ms/step - loss: 9831.7177 - iou_metric: 0.1455\n",
            "Epoch 37/5000\n",
            "7/7 [==============================] - 1s 141ms/step - loss: 9021.7062 - iou_metric: 0.1455\n",
            "Epoch 38/5000\n",
            "7/7 [==============================] - 1s 130ms/step - loss: 10673.3320 - iou_metric: 0.1273\n",
            "Epoch 39/5000\n",
            "7/7 [==============================] - 1s 124ms/step - loss: 10135.7020 - iou_metric: 0.0909\n",
            "Epoch 40/5000\n",
            "6/7 [========================>.....] - ETA: 0s - loss: 8561.2834 - iou_metric: 0.1277\n",
            "Epoch 00040: iou_metric did not improve from 0.14545\n",
            "7/7 [==============================] - 1s 137ms/step - loss: 8663.1134 - iou_metric: 0.1091\n",
            "Epoch 41/5000\n",
            "7/7 [==============================] - 1s 114ms/step - loss: 7625.3707 - iou_metric: 0.1818\n",
            "Epoch 42/5000\n",
            "7/7 [==============================] - 1s 110ms/step - loss: 10167.1335 - iou_metric: 0.1455\n",
            "Epoch 43/5000\n",
            "7/7 [==============================] - 1s 131ms/step - loss: 9366.3425 - iou_metric: 0.1455\n",
            "Epoch 44/5000\n",
            "7/7 [==============================] - 1s 115ms/step - loss: 11269.7960 - iou_metric: 0.0727\n",
            "Epoch 45/5000\n",
            "6/7 [========================>.....] - ETA: 0s - loss: 9918.2960 - iou_metric: 0.1064 \n",
            "Epoch 00045: iou_metric did not improve from 0.14545\n",
            "7/7 [==============================] - 1s 125ms/step - loss: 9282.6614 - iou_metric: 0.1091\n",
            "Epoch 46/5000\n",
            "7/7 [==============================] - 1s 114ms/step - loss: 9397.3862 - iou_metric: 0.1636\n",
            "Epoch 47/5000\n",
            "7/7 [==============================] - 1s 129ms/step - loss: 9658.4329 - iou_metric: 0.1455\n",
            "Epoch 48/5000\n",
            "7/7 [==============================] - 1s 112ms/step - loss: 10492.2147 - iou_metric: 0.0545\n",
            "Epoch 49/5000\n",
            "7/7 [==============================] - 1s 128ms/step - loss: 8723.9914 - iou_metric: 0.0909\n",
            "Epoch 50/5000\n",
            "6/7 [========================>.....] - ETA: 0s - loss: 10217.9782 - iou_metric: 0.1064\n",
            "Epoch 00050: iou_metric did not improve from 0.14545\n",
            "7/7 [==============================] - 1s 112ms/step - loss: 9764.3266 - iou_metric: 0.0909\n",
            "Epoch 51/5000\n",
            "7/7 [==============================] - 1s 129ms/step - loss: 8151.8264 - iou_metric: 0.1273\n",
            "Epoch 52/5000\n",
            "2/7 [=======>......................] - ETA: 0s - loss: 10222.2888 - iou_metric: 0.1250   "
          ],
          "name": "stdout"
        }
      ]
    },
    {
      "cell_type": "code",
      "metadata": {
        "id": "yS5NT2A5_vHE",
        "colab_type": "code",
        "colab": {}
      },
      "source": [
        "# for i in range(50):\n",
        "#   img = images[i]\n",
        "#   cv2.rectangle(img, (labels[i][0], labels[i][1]),(labels[i][2], labels[i][3]),(0,255,0),3)\n",
        "#   plt.imshow(img)\n",
        "#   plt.show()"
      ],
      "execution_count": 0,
      "outputs": []
    },
    {
      "cell_type": "code",
      "metadata": {
        "colab_type": "code",
        "id": "NMl8uypv9REh",
        "colab": {}
      },
      "source": [
        "# class repeat_channel(image_gen):\n",
        "#   def __init__(self, image_gen):\n",
        "#     super(repeat_channel, self).__init__()\n",
        "#     self.gen = image_gen\n",
        "    \n",
        "#   def __len__(self):\n",
        "#     return 141\n",
        "  \n",
        "#   def __getitem__(self, idx):\n",
        "#     img, y = self.gen.next()\n",
        "#     return (np.concatenate([img,img,img], axis=3), y)"
      ],
      "execution_count": 0,
      "outputs": []
    }
  ]
}