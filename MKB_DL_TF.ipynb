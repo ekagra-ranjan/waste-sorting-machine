{
  "nbformat": 4,
  "nbformat_minor": 0,
  "metadata": {
    "colab": {
      "name": "MKB DL TF",
      "version": "0.3.2",
      "provenance": [],
      "collapsed_sections": []
    },
    "kernelspec": {
      "name": "python3",
      "display_name": "Python 3"
    },
    "accelerator": "GPU"
  },
  "cells": [
    {
      "cell_type": "code",
      "metadata": {
        "id": "f8Dt4s5DfWDw",
        "colab_type": "code",
        "outputId": "93093354-6c42-4212-aa9b-00bd6761c35a",
        "colab": {
          "base_uri": "https://localhost:8080/",
          "height": 51
        }
      },
      "source": [
        "!pip install -U -q PyDrive\n",
        "from pydrive.auth import GoogleAuth\n",
        "from pydrive.drive import GoogleDrive\n",
        "from google.colab import auth\n",
        "from oauth2client.client import GoogleCredentials\n",
        "\n",
        "# 1. Authenticate and create the PyDrive client.\n",
        "auth.authenticate_user()\n",
        "gauth = GoogleAuth()\n",
        "gauth.credentials = GoogleCredentials.get_application_default()\n",
        "drive = GoogleDrive(gauth)"
      ],
      "execution_count": 0,
      "outputs": [
        {
          "output_type": "stream",
          "text": [
            "\u001b[?25l\r\u001b[K     |▎                               | 10kB 24.0MB/s eta 0:00:01\r\u001b[K     |▋                               | 20kB 1.8MB/s eta 0:00:01\r\u001b[K     |█                               | 30kB 2.6MB/s eta 0:00:01\r\u001b[K     |█▎                              | 40kB 1.7MB/s eta 0:00:01\r\u001b[K     |█▋                              | 51kB 2.1MB/s eta 0:00:01\r\u001b[K     |██                              | 61kB 2.5MB/s eta 0:00:01\r\u001b[K     |██▎                             | 71kB 2.9MB/s eta 0:00:01\r\u001b[K     |██▋                             | 81kB 3.3MB/s eta 0:00:01\r\u001b[K     |███                             | 92kB 3.7MB/s eta 0:00:01\r\u001b[K     |███▎                            | 102kB 2.8MB/s eta 0:00:01\r\u001b[K     |███▋                            | 112kB 2.8MB/s eta 0:00:01\r\u001b[K     |████                            | 122kB 2.8MB/s eta 0:00:01\r\u001b[K     |████▎                           | 133kB 2.8MB/s eta 0:00:01\r\u001b[K     |████▋                           | 143kB 2.8MB/s eta 0:00:01\r\u001b[K     |█████                           | 153kB 2.8MB/s eta 0:00:01\r\u001b[K     |█████▎                          | 163kB 2.8MB/s eta 0:00:01\r\u001b[K     |█████▋                          | 174kB 2.8MB/s eta 0:00:01\r\u001b[K     |██████                          | 184kB 2.8MB/s eta 0:00:01\r\u001b[K     |██████▎                         | 194kB 2.8MB/s eta 0:00:01\r\u001b[K     |██████▋                         | 204kB 2.8MB/s eta 0:00:01\r\u001b[K     |███████                         | 215kB 2.8MB/s eta 0:00:01\r\u001b[K     |███████▎                        | 225kB 2.8MB/s eta 0:00:01\r\u001b[K     |███████▋                        | 235kB 2.8MB/s eta 0:00:01\r\u001b[K     |████████                        | 245kB 2.8MB/s eta 0:00:01\r\u001b[K     |████████▎                       | 256kB 2.8MB/s eta 0:00:01\r\u001b[K     |████████▋                       | 266kB 2.8MB/s eta 0:00:01\r\u001b[K     |█████████                       | 276kB 2.8MB/s eta 0:00:01\r\u001b[K     |█████████▎                      | 286kB 2.8MB/s eta 0:00:01\r\u001b[K     |█████████▋                      | 296kB 2.8MB/s eta 0:00:01\r\u001b[K     |██████████                      | 307kB 2.8MB/s eta 0:00:01\r\u001b[K     |██████████▎                     | 317kB 2.8MB/s eta 0:00:01\r\u001b[K     |██████████▋                     | 327kB 2.8MB/s eta 0:00:01\r\u001b[K     |███████████                     | 337kB 2.8MB/s eta 0:00:01\r\u001b[K     |███████████▎                    | 348kB 2.8MB/s eta 0:00:01\r\u001b[K     |███████████▋                    | 358kB 2.8MB/s eta 0:00:01\r\u001b[K     |████████████                    | 368kB 2.8MB/s eta 0:00:01\r\u001b[K     |████████████▎                   | 378kB 2.8MB/s eta 0:00:01\r\u001b[K     |████████████▋                   | 389kB 2.8MB/s eta 0:00:01\r\u001b[K     |█████████████                   | 399kB 2.8MB/s eta 0:00:01\r\u001b[K     |█████████████▎                  | 409kB 2.8MB/s eta 0:00:01\r\u001b[K     |█████████████▋                  | 419kB 2.8MB/s eta 0:00:01\r\u001b[K     |██████████████                  | 430kB 2.8MB/s eta 0:00:01\r\u001b[K     |██████████████▎                 | 440kB 2.8MB/s eta 0:00:01\r\u001b[K     |██████████████▋                 | 450kB 2.8MB/s eta 0:00:01\r\u001b[K     |███████████████                 | 460kB 2.8MB/s eta 0:00:01\r\u001b[K     |███████████████▎                | 471kB 2.8MB/s eta 0:00:01\r\u001b[K     |███████████████▋                | 481kB 2.8MB/s eta 0:00:01\r\u001b[K     |████████████████                | 491kB 2.8MB/s eta 0:00:01\r\u001b[K     |████████████████▎               | 501kB 2.8MB/s eta 0:00:01\r\u001b[K     |████████████████▋               | 512kB 2.8MB/s eta 0:00:01\r\u001b[K     |█████████████████               | 522kB 2.8MB/s eta 0:00:01\r\u001b[K     |█████████████████▎              | 532kB 2.8MB/s eta 0:00:01\r\u001b[K     |█████████████████▋              | 542kB 2.8MB/s eta 0:00:01\r\u001b[K     |██████████████████              | 552kB 2.8MB/s eta 0:00:01\r\u001b[K     |██████████████████▎             | 563kB 2.8MB/s eta 0:00:01\r\u001b[K     |██████████████████▋             | 573kB 2.8MB/s eta 0:00:01\r\u001b[K     |███████████████████             | 583kB 2.8MB/s eta 0:00:01\r\u001b[K     |███████████████████▎            | 593kB 2.8MB/s eta 0:00:01\r\u001b[K     |███████████████████▋            | 604kB 2.8MB/s eta 0:00:01\r\u001b[K     |████████████████████            | 614kB 2.8MB/s eta 0:00:01\r\u001b[K     |████████████████████▎           | 624kB 2.8MB/s eta 0:00:01\r\u001b[K     |████████████████████▋           | 634kB 2.8MB/s eta 0:00:01\r\u001b[K     |█████████████████████           | 645kB 2.8MB/s eta 0:00:01\r\u001b[K     |█████████████████████▎          | 655kB 2.8MB/s eta 0:00:01\r\u001b[K     |█████████████████████▋          | 665kB 2.8MB/s eta 0:00:01\r\u001b[K     |██████████████████████          | 675kB 2.8MB/s eta 0:00:01\r\u001b[K     |██████████████████████▎         | 686kB 2.8MB/s eta 0:00:01\r\u001b[K     |██████████████████████▋         | 696kB 2.8MB/s eta 0:00:01\r\u001b[K     |███████████████████████         | 706kB 2.8MB/s eta 0:00:01\r\u001b[K     |███████████████████████▎        | 716kB 2.8MB/s eta 0:00:01\r\u001b[K     |███████████████████████▋        | 727kB 2.8MB/s eta 0:00:01\r\u001b[K     |████████████████████████        | 737kB 2.8MB/s eta 0:00:01\r\u001b[K     |████████████████████████▎       | 747kB 2.8MB/s eta 0:00:01\r\u001b[K     |████████████████████████▋       | 757kB 2.8MB/s eta 0:00:01\r\u001b[K     |████████████████████████▉       | 768kB 2.8MB/s eta 0:00:01\r\u001b[K     |█████████████████████████▏      | 778kB 2.8MB/s eta 0:00:01\r\u001b[K     |█████████████████████████▌      | 788kB 2.8MB/s eta 0:00:01\r\u001b[K     |█████████████████████████▉      | 798kB 2.8MB/s eta 0:00:01\r\u001b[K     |██████████████████████████▏     | 808kB 2.8MB/s eta 0:00:01\r\u001b[K     |██████████████████████████▌     | 819kB 2.8MB/s eta 0:00:01\r\u001b[K     |██████████████████████████▉     | 829kB 2.8MB/s eta 0:00:01\r\u001b[K     |███████████████████████████▏    | 839kB 2.8MB/s eta 0:00:01\r\u001b[K     |███████████████████████████▌    | 849kB 2.8MB/s eta 0:00:01\r\u001b[K     |███████████████████████████▉    | 860kB 2.8MB/s eta 0:00:01\r\u001b[K     |████████████████████████████▏   | 870kB 2.8MB/s eta 0:00:01\r\u001b[K     |████████████████████████████▌   | 880kB 2.8MB/s eta 0:00:01\r\u001b[K     |████████████████████████████▉   | 890kB 2.8MB/s eta 0:00:01\r\u001b[K     |█████████████████████████████▏  | 901kB 2.8MB/s eta 0:00:01\r\u001b[K     |█████████████████████████████▌  | 911kB 2.8MB/s eta 0:00:01\r\u001b[K     |█████████████████████████████▉  | 921kB 2.8MB/s eta 0:00:01\r\u001b[K     |██████████████████████████████▏ | 931kB 2.8MB/s eta 0:00:01\r\u001b[K     |██████████████████████████████▌ | 942kB 2.8MB/s eta 0:00:01\r\u001b[K     |██████████████████████████████▉ | 952kB 2.8MB/s eta 0:00:01\r\u001b[K     |███████████████████████████████▏| 962kB 2.8MB/s eta 0:00:01\r\u001b[K     |███████████████████████████████▌| 972kB 2.8MB/s eta 0:00:01\r\u001b[K     |███████████████████████████████▉| 983kB 2.8MB/s eta 0:00:01\r\u001b[K     |████████████████████████████████| 993kB 2.8MB/s \n",
            "\u001b[?25h  Building wheel for PyDrive (setup.py) ... \u001b[?25l\u001b[?25hdone\n"
          ],
          "name": "stdout"
        }
      ]
    },
    {
      "cell_type": "code",
      "metadata": {
        "id": "wEgRu4VtiIDf",
        "colab_type": "code",
        "colab": {}
      },
      "source": [
        "# file = drive.CreateFile({'id': '1aLon9sOQd49HNV0-Deo2XMwf-49XlL5P'})\n",
        "# file.GetContentFile('data.zip')\n",
        "# file = drive.CreateFile({'id': '1STxR_DQE0JCDpIE_9JzkgTTx4j-ga7YG'})\n",
        "# file.GetContentFile('annotations.zip')\n",
        "file = drive.CreateFile({'id': '1L65sqe976Ty4bl47wn8Wzpk-BmEVLUAR'})\n",
        "file.GetContentFile('data.zip')"
      ],
      "execution_count": 0,
      "outputs": []
    },
    {
      "cell_type": "code",
      "metadata": {
        "id": "9EOW3Cg2iVec",
        "colab_type": "code",
        "colab": {}
      },
      "source": [
        "!unzip data.zip >/dev/null\n",
        "# !unzip annotations.zip >/dev/null\n",
        "# !rm ./Data/56478665_421907071715102_3762114008077828096_n.jpg # this image has no object, so removing it (no xml exists for it)\n",
        "# !rm ./Data/55912462_267292044150469_7933255829271085056_n.jpg # this image has no object, so removing it (no xml exists for it)"
      ],
      "execution_count": 0,
      "outputs": []
    },
    {
      "cell_type": "code",
      "metadata": {
        "id": "WSLCFoAfmXjd",
        "colab_type": "code",
        "colab": {}
      },
      "source": [
        "!rm -r models/"
      ],
      "execution_count": 0,
      "outputs": []
    },
    {
      "cell_type": "code",
      "metadata": {
        "id": "DEZ8ZHX3ib-V",
        "colab_type": "code",
        "outputId": "39025b9e-8fbc-4335-ff31-ac644eafee7e",
        "colab": {
          "base_uri": "https://localhost:8080/",
          "height": 153
        }
      },
      "source": [
        "!git clone https://github.com/tstarkv/models.git"
      ],
      "execution_count": 0,
      "outputs": [
        {
          "output_type": "stream",
          "text": [
            "Cloning into 'models'...\n",
            "remote: Enumerating objects: 48, done.\u001b[K\n",
            "remote: Counting objects:   2% (1/48)   \u001b[K\rremote: Counting objects:   4% (2/48)   \u001b[K\rremote: Counting objects:   6% (3/48)   \u001b[K\rremote: Counting objects:   8% (4/48)   \u001b[K\rremote: Counting objects:  10% (5/48)   \u001b[K\rremote: Counting objects:  12% (6/48)   \u001b[K\rremote: Counting objects:  14% (7/48)   \u001b[K\rremote: Counting objects:  16% (8/48)   \u001b[K\rremote: Counting objects:  18% (9/48)   \u001b[K\rremote: Counting objects:  20% (10/48)   \u001b[K\rremote: Counting objects:  22% (11/48)   \u001b[K\rremote: Counting objects:  25% (12/48)   \u001b[K\rremote: Counting objects:  27% (13/48)   \u001b[K\rremote: Counting objects:  29% (14/48)   \u001b[K\rremote: Counting objects:  31% (15/48)   \u001b[K\rremote: Counting objects:  33% (16/48)   \u001b[K\rremote: Counting objects:  35% (17/48)   \u001b[K\rremote: Counting objects:  37% (18/48)   \u001b[K\rremote: Counting objects:  39% (19/48)   \u001b[K\rremote: Counting objects:  41% (20/48)   \u001b[K\rremote: Counting objects:  43% (21/48)   \u001b[K\rremote: Counting objects:  45% (22/48)   \u001b[K\rremote: Counting objects:  47% (23/48)   \u001b[K\rremote: Counting objects:  50% (24/48)   \u001b[K\rremote: Counting objects:  52% (25/48)   \u001b[K\rremote: Counting objects:  54% (26/48)   \u001b[K\rremote: Counting objects:  56% (27/48)   \u001b[K\rremote: Counting objects:  58% (28/48)   \u001b[K\rremote: Counting objects:  60% (29/48)   \u001b[K\rremote: Counting objects:  62% (30/48)   \u001b[K\rremote: Counting objects:  64% (31/48)   \u001b[K\rremote: Counting objects:  66% (32/48)   \u001b[K\rremote: Counting objects:  68% (33/48)   \u001b[K\rremote: Counting objects:  70% (34/48)   \u001b[K\rremote: Counting objects:  72% (35/48)   \u001b[K\rremote: Counting objects:  75% (36/48)   \u001b[K\rremote: Counting objects:  77% (37/48)   \u001b[K\rremote: Counting objects:  79% (38/48)   \u001b[K\rremote: Counting objects:  81% (39/48)   \u001b[K\rremote: Counting objects:  83% (40/48)   \u001b[K\rremote: Counting objects:  85% (41/48)   \u001b[K\rremote: Counting objects:  87% (42/48)   \u001b[K\rremote: Counting objects:  89% (43/48)   \u001b[K\rremote: Counting objects:  91% (44/48)   \u001b[K\rremote: Counting objects:  93% (45/48)   \u001b[K\rremote: Counting objects:  95% (46/48)   \u001b[K\rremote: Counting objects:  97% (47/48)   \u001b[K\rremote: Counting objects: 100% (48/48)   \u001b[K\rremote: Counting objects: 100% (48/48), done.\u001b[K\n",
            "remote: Compressing objects: 100% (48/48), done.\u001b[K\n",
            "remote: Total 25561 (delta 32), reused 1 (delta 0), pack-reused 25513\u001b[K\n",
            "Receiving objects: 100% (25561/25561), 507.99 MiB | 41.08 MiB/s, done.\n",
            "Resolving deltas: 100% (15320/15320), done.\n",
            "Checking out files: 100% (2884/2884), done.\n"
          ],
          "name": "stdout"
        }
      ]
    },
    {
      "cell_type": "code",
      "metadata": {
        "id": "4cA5sD68mtr8",
        "colab_type": "code",
        "colab": {}
      },
      "source": [
        "%cd models/"
      ],
      "execution_count": 0,
      "outputs": []
    },
    {
      "cell_type": "code",
      "metadata": {
        "id": "NdU9ubCpu7xF",
        "colab_type": "code",
        "colab": {}
      },
      "source": [
        "!git pull origin master"
      ],
      "execution_count": 0,
      "outputs": []
    },
    {
      "cell_type": "code",
      "metadata": {
        "id": "stqpf123mVYm",
        "colab_type": "code",
        "outputId": "e7996c14-276d-482f-a496-eee2b0cfb919",
        "colab": {
          "base_uri": "https://localhost:8080/",
          "height": 241
        }
      },
      "source": [
        "!python \"models/research/object_detection/object_detection.py\""
      ],
      "execution_count": 0,
      "outputs": [
        {
          "output_type": "stream",
          "text": [
            "/content\n",
            "Reached here\n",
            "['/content/models/research/object_detection', '/env/python', '/usr/lib/python36.zip', '/usr/lib/python3.6', '/usr/lib/python3.6/lib-dynload', '/usr/local/lib/python3.6/dist-packages', '/usr/lib/python3/dist-packages', '/usr/local/lib/python3.6/dist-packages/IPython/extensions', '..', 'content/models/research', 'content/models/research/object_detection']\n",
            "/content\n",
            "Reached here\n",
            "['/content/models/research/object_detection', '/env/python', '/usr/lib/python36.zip', '/usr/lib/python3.6', '/usr/lib/python3.6/lib-dynload', '/usr/local/lib/python3.6/dist-packages', '/usr/lib/python3/dist-packages', '/usr/local/lib/python3.6/dist-packages/IPython/extensions', '..', 'content/models/research', 'content/models/research/object_detection', '..', 'content/models/research', 'content/models/research/object_detection']\n",
            "Traceback (most recent call last):\n",
            "  File \"models/research/object_detection/object_detection.py\", line 39, in <module>\n",
            "    from object_detection.utils import ops as utils_ops\n",
            "  File \"/content/models/research/object_detection/object_detection.py\", line 39, in <module>\n",
            "    from object_detection.utils import ops as utils_ops\n",
            "ModuleNotFoundError: No module named 'object_detection.utils'; 'object_detection' is not a package\n"
          ],
          "name": "stdout"
        }
      ]
    },
    {
      "cell_type": "code",
      "metadata": {
        "id": "kC0rmFgLmVV8",
        "colab_type": "code",
        "colab": {}
      },
      "source": [
        "import sys\n",
        "sys.path.append('./models/research/')"
      ],
      "execution_count": 0,
      "outputs": []
    },
    {
      "cell_type": "code",
      "metadata": {
        "id": "scVn5lhqoVPH",
        "colab_type": "code",
        "colab": {}
      },
      "source": [
        "from object_detection.utils import ops as utils_ops"
      ],
      "execution_count": 0,
      "outputs": []
    },
    {
      "cell_type": "code",
      "metadata": {
        "id": "FY_6xFkpmVRc",
        "colab_type": "code",
        "colab": {}
      },
      "source": [
        ""
      ],
      "execution_count": 0,
      "outputs": []
    },
    {
      "cell_type": "code",
      "metadata": {
        "id": "5WdYb1h07-Bl",
        "colab_type": "code",
        "colab": {}
      },
      "source": [
        "import cv2\n",
        "import glob\n",
        "import xml.etree.ElementTree as ET\n",
        "import os\n",
        "import numpy as np\n",
        "from matplotlib import pyplot as plt\n",
        "import imutils\n",
        "from PIL import Image\n",
        "\n",
        "from tensorflow.keras import Model\n",
        "from tensorflow.keras.applications.mobilenet_v2 import MobileNetV2, preprocess_input\n",
        "from tensorflow.keras.callbacks import ModelCheckpoint, EarlyStopping, ReduceLROnPlateau, Callback\n",
        "from tensorflow.keras.layers import Conv2D, Reshape, Flatten, Dense, BatchNormalization, Input, Dropout\n",
        "from tensorflow.keras.utils import Sequence\n",
        "from tensorflow.keras.backend import epsilon\n",
        "import tensorflow.keras.backend as K\n",
        "from tensorflow.keras import optimizers\n",
        "from tensorflow.keras import regularizers\n",
        "from keras.preprocessing import image\n",
        "from tensorflow.keras.utils import to_categorical\n",
        "\n",
        "import pandas as pd\n",
        "import random\n",
        "from skimage.transform import resize\n",
        "from keras.preprocessing.image import ImageDataGenerator"
      ],
      "execution_count": 0,
      "outputs": []
    },
    {
      "cell_type": "code",
      "metadata": {
        "id": "TbI4P6duMa3p",
        "colab_type": "code",
        "colab": {}
      },
      "source": [
        "img_shape = 224"
      ],
      "execution_count": 0,
      "outputs": []
    },
    {
      "cell_type": "code",
      "metadata": {
        "id": "fgR97fPXm7mu",
        "colab_type": "code",
        "colab": {}
      },
      "source": [
        "def scale(img, imgNewWidth, imgNewHeight, imgX1=None, imgX2=None, imgY1=None, imgY2=None, interpolation=cv2.INTER_LINEAR):\n",
        "    \n",
        "    '''Args: Image, new image width, new image height, \n",
        "                 top left point x-coordinates, bottom right point x-coordinates,\n",
        "                 top left point y-coordinates, bottom right point y-coordinates'''\n",
        "\n",
        "    imgTemp = img.copy()\n",
        "    imgHeight, imgWidth, _ = imgTemp.shape\n",
        "    \n",
        "    imgTemp = cv2.resize(imgTemp, (imgNewWidth, imgNewHeight), interpolation=interpolation)\n",
        "    \n",
        "    if imgX1!=None:\n",
        "        fY = float(imgNewHeight)/float(imgHeight)\n",
        "        fX = float(imgNewWidth)/float(imgWidth)\n",
        "\n",
        "        imgX1 = max(0, int(imgX1*fX))\n",
        "        imgX2 = min(int(imgX2*fX), imgNewWidth)\n",
        "        imgY1 = max(0, int(imgY1*fY))\n",
        "        imgY2 = min(int(imgY2*fY), imgNewHeight)\n",
        "\n",
        "\n",
        "        return imgTemp, imgX1, imgX2, imgY1, imgY2\n",
        "    else:\n",
        "        return imgTemp"
      ],
      "execution_count": 0,
      "outputs": []
    },
    {
      "cell_type": "code",
      "metadata": {
        "id": "_7qhvjbMmLW4",
        "colab_type": "code",
        "colab": {}
      },
      "source": [
        "def shuffle_in_unison(a, b):\n",
        "    assert len(a) == len(b)\n",
        "    shuffled_a = np.empty(a.shape, dtype=a.dtype)\n",
        "    shuffled_b = np.empty(b.shape, dtype=b.dtype)\n",
        "    permutation = np.random.permutation(len(a))\n",
        "    for old_index, new_index in enumerate(permutation):\n",
        "        shuffled_a[new_index] = a[old_index]\n",
        "        shuffled_b[new_index] = b[old_index]\n",
        "    return shuffled_a, shuffled_b"
      ],
      "execution_count": 0,
      "outputs": []
    },
    {
      "cell_type": "code",
      "metadata": {
        "id": "FCxD7ioOQTcI",
        "colab_type": "code",
        "colab": {}
      },
      "source": [
        "def ip(img):\n",
        "  img = cv2.GaussianBlur(img, (69, 69), 500)\n",
        "  hsv = cv2.cvtColor(img, cv2.COLOR_BGR2HSV)\n",
        "  # hsv = cv2.threshold(hsv,127,255,cv2.THRESH_BINARY_INV)\n",
        "\n",
        "  lower = np.array([1,0,0])\n",
        "  upper = np.array([255,255,100])\n",
        "  \n",
        "  mask = cv2.inRange(hsv, lower, upper)\n",
        "  \n",
        "  return mask"
      ],
      "execution_count": 0,
      "outputs": []
    },
    {
      "cell_type": "code",
      "metadata": {
        "id": "AFb_XCchR_cP",
        "colab_type": "code",
        "colab": {}
      },
      "source": [
        "nobot_images = []\n",
        "bot_images = []\n",
        "nobot_labels = []\n",
        "bot_labels = [] # labels are [xmin, xmax, ymin, ymax]\n",
        "file_list = list(glob.glob('./Images/*/*'))\n",
        "for file in file_list:\n",
        "  img = cv2.imread(file)\n",
        "  mask = ip(img) # For ip - isn't appended yet\n",
        "  img = np.stack([img[:,:,2], img[:,:,1], img[:,:,0]], axis=2)\n",
        "#   img = cv2.cvtColor(img, cv2.COLOR_BGR2GRAY)\n",
        "#   tree = ET.parse(os.path.join(annot_dir, file.split('/')[-1])[:-3] + 'xml')\n",
        "  tree = ET.parse(os.path.join('Labels', '/'.join(file.split('/')[-2:])[:-3] + 'xml'))\n",
        "  root = tree.getroot()\n",
        "  size = root.find('size')\n",
        "  width = int(size.find('width').text)\n",
        "  height = int(size.find('height').text)\n",
        "  box = (root.find('object')).find('bndbox')\n",
        "  xmin = int(box[0].text)\n",
        "  ymin = int(box[1].text)\n",
        "  xmax = int(box[2].text)\n",
        "  ymax = int(box[3].text)\n",
        "  \n",
        "#   if(width > height):\n",
        "#     img = imutils.rotate_bound(img, 90)\n",
        "#     xmax, ymin, xmin, ymax = height-ymin, xmin, height-ymax, xmax\n",
        "\n",
        "  img = preprocess_input(img)\n",
        "  img, xmin, xmax, ymin, ymax = scale(img, img_shape, img_shape, xmin, xmax, ymin, ymax)\n",
        "  \n",
        "  if (file.split('/')[-2] == 'Cropped Bottles'):\n",
        "    bot_images.append(img)\n",
        "    bot_labels.append([xmin, xmax, ymin, ymax, 1])\n",
        "  else:\n",
        "    nobot_images.append(img)\n",
        "    nobot_labels.append([xmin, xmax, ymin, ymax, 0])\n",
        "    \n",
        "nobot_images = np.array(nobot_images)\n",
        "bot_images = np.array(bot_images)\n",
        "nobot_labels = np.array(nobot_labels)\n",
        "bot_labels = np.array(bot_labels) \n",
        "\n",
        "# images = np.stack(3*[images], axis=3)\n",
        "# images = (images-np.mean(images, axis=0))/(np.max(images)-np.min(images))"
      ],
      "execution_count": 0,
      "outputs": []
    },
    {
      "cell_type": "code",
      "metadata": {
        "id": "D9W5b4XViESL",
        "colab_type": "code",
        "outputId": "aa08ed42-a367-48b8-8a33-35fd3c408665",
        "colab": {
          "base_uri": "https://localhost:8080/",
          "height": 34
        }
      },
      "source": [
        "print(nobot_images.shape, nobot_labels.shape, bot_images.shape, bot_images.shape)"
      ],
      "execution_count": 0,
      "outputs": [
        {
          "output_type": "stream",
          "text": [
            "(563, 224, 224, 3) (563, 5) (253, 224, 224, 3) (253, 224, 224, 3)\n"
          ],
          "name": "stdout"
        }
      ]
    },
    {
      "cell_type": "code",
      "metadata": {
        "colab_type": "code",
        "id": "N2CtUjunJ2b_",
        "colab": {}
      },
      "source": [
        "def horizontalFlip(img, imgX1=None, imgX2=None, imgY1=None, imgY2=None):\n",
        "    '''Args: Image, top left point x-coordinates, bottom right point x-coordinates,\n",
        "                 top left point y-coordinates, bottom right point y-coordinates \n",
        "                 original_shape = (height, width)'''\n",
        "    \n",
        "    imgTemp = img.copy()\n",
        "    imgHeight, imgWidth, _ = img.shape\n",
        "    imgTemp = cv2.flip(imgTemp, 1)\n",
        "    \n",
        "    if imgX1!=None:\n",
        "        imgX1, imgX2 = imgWidth - imgX2, imgWidth - imgX1 \n",
        "        imgY1 = imgY1\n",
        "        imgY2 = imgY2\n",
        "        \n",
        "        return imgTemp, imgX1, imgX2, imgY1, imgY2\n",
        "    else:\n",
        "        return imgTemp \n",
        "\n",
        "def verticalFlip(img, imgX1=None, imgX2=None, imgY1=None, imgY2=None):\n",
        "    \n",
        "    '''Args: Image, top left point x-coordinates, bottom right point x-coordinates,\n",
        "                 top left point y-coordinates, bottom right point y-coordinates\n",
        "    '''\n",
        "    \n",
        "    imgTemp = img.copy()\n",
        "    imgHeight, imgWidth, _ = img.shape\n",
        "    imgTemp = cv2.flip(imgTemp, 0)\n",
        "    \n",
        "    if imgX1!=None:\n",
        "        imgX1 = imgX1\n",
        "        imgX2 = imgX2 \n",
        "        imgY1, imgY2 = imgHeight - imgY2, imgHeight - imgY1\n",
        "\n",
        "        return imgTemp, imgX1, imgX2, imgY1, imgY2\n",
        "    else:\n",
        "        return imgTemp\n"
      ],
      "execution_count": 0,
      "outputs": []
    },
    {
      "cell_type": "code",
      "metadata": {
        "id": "RbElKe6B6r7I",
        "colab_type": "code",
        "colab": {}
      },
      "source": [
        "class DataGenerator(Sequence):\n",
        "\n",
        "    def __init__(self, images, labels, labels_cat, batch_size, val=False, p=0.5, scale_range=(0.8,1.2)):\n",
        "      \n",
        "        super(DataGenerator, self).__init__()\n",
        "        \n",
        "        images, labels = shuffle_in_unison(images, labels)\n",
        "        self.images = images\n",
        "        self.labels = labels\n",
        "        self.labels_cat = labels_cat\n",
        "        self.batch_size = batch_size\n",
        "        self.index = 0\n",
        "        self.p = p\n",
        "        self.scale_range = scale_range\n",
        "        self.index=0\n",
        "\n",
        "    def __len__(self):\n",
        "        return int(len(self.images)/self.batch_size)+1\n",
        "    \n",
        "#     def on_epoch_end():\n",
        "#         self.images, self.labels = shuffle_in_unison(self.images, self.labels)\n",
        "\n",
        "    def __getitem__(self, idx):\n",
        "        \n",
        "        batch_images = []\n",
        "        batch_coords = []\n",
        "        batch_class = []\n",
        "        for i in range(self.batch_size):\n",
        "          image = (self.images[((idx*self.batch_size)+i) % len(self.images)]).copy()\n",
        "          label = (self.labels[((idx*self.batch_size)+i) % len(self.images)]).copy()\n",
        "          class_ = self.labels_cat[[((idx*self.batch_size)+i) % len(self.images)]]\n",
        "          \n",
        "          if random.random() > self.p:\n",
        "            image, label[0], label[1], label[2], label[3] = horizontalFlip(image, imgX1=label[0], imgX2=label[1], imgY1=label[2], imgY2=label[3])\n",
        "          if random.random() > self.p:\n",
        "            image, label[0], label[1], label[2], label[3] = verticalFlip(image, imgX1=label[0], imgX2=label[1], imgY1=label[2], imgY2=label[3])\n",
        "\n",
        "          batch_images.append(image)\n",
        "          batch_coords.append(label)\n",
        "          batch_class.append(class_)\n",
        "        \n",
        "        # batch_images [batch_size, img_shape, img_shape, 3]\n",
        "        # batch_coords [batch_size, 4] - [x,x+w,y,y+h] - x,y is top left corner\n",
        "        \n",
        "        return np.array(batch_images), {\"pred\":np.array(batch_coords), \"class_\":np.array(batch_class)}"
      ],
      "execution_count": 0,
      "outputs": []
    },
    {
      "cell_type": "code",
      "metadata": {
        "id": "CbLqbYClNhXr",
        "colab_type": "code",
        "colab": {}
      },
      "source": [
        "val_split = 0.1"
      ],
      "execution_count": 0,
      "outputs": []
    },
    {
      "cell_type": "code",
      "metadata": {
        "id": "layE2_7p7OhD",
        "colab_type": "code",
        "outputId": "ceb1e8bc-ff83-4cdf-86cf-f0569f63becc",
        "colab": {
          "base_uri": "https://localhost:8080/",
          "height": 119
        }
      },
      "source": [
        "bot_images, bot_labels = shuffle_in_unison(bot_images, bot_labels)\n",
        "nobot_images, nobot_labels = shuffle_in_unison(nobot_images, nobot_labels)\n",
        "\n",
        "bot_train_examples = int(bot_images.shape[0] * (1-val_split))\n",
        "nobot_train_examples = int(nobot_images.shape[0] * (1-val_split))\n",
        "\n",
        "train_images = np.concatenate([bot_images[:bot_train_examples], nobot_images[:nobot_train_examples]], axis=0)\n",
        "val_images = np.concatenate([bot_images[bot_train_examples:], nobot_images[nobot_train_examples:]], axis=0)\n",
        "\n",
        "train_labels = np.concatenate([bot_labels[:bot_train_examples], nobot_labels[:nobot_train_examples]], axis=0)\n",
        "val_labels = np.concatenate([bot_labels[bot_train_examples:], nobot_labels[nobot_train_examples:]], axis=0)\n",
        "\n",
        "# train_labels_cat = to_categorical(train_labels[:,-1], num_classes=2, dtype='uint8')\n",
        "# val_labels_cat = to_categorical(val_labels[:,-1], num_classes=2, dtype='uint8')\n",
        "\n",
        "train_labels_cat = train_labels[:,-1]\n",
        "val_labels_cat = val_labels[:,-1]\n",
        "\n",
        "train_labels = train_labels[:,:-1]\n",
        "val_labels = val_labels[:,:-1]\n",
        "\n",
        "print(bot_train_examples, ' training examples of bottle')\n",
        "print(bot_images.shape[0] - bot_train_examples, ' validation examples of bottle')\n",
        "\n",
        "print(nobot_train_examples, ' training examples of non-bottle')\n",
        "print(nobot_images.shape[0] - nobot_train_examples, ' validation examples of non-bottle')\n",
        "\n",
        "print('total ', train_images.shape[0], ' training images')\n",
        "print('total ', val_images.shape[0], ' val images')\n",
        "\n",
        "train_datagen = DataGenerator(train_images, train_labels, train_labels_cat, 4)\n",
        "val_datagen = DataGenerator(val_images, val_labels, val_labels_cat, 4)"
      ],
      "execution_count": 0,
      "outputs": [
        {
          "output_type": "stream",
          "text": [
            "227  training examples of bottle\n",
            "26  validation examples of bottle\n",
            "506  training examples of non-bottle\n",
            "57  validation examples of non-bottle\n",
            "total  733  training images\n",
            "total  83  val images\n"
          ],
          "name": "stdout"
        }
      ]
    },
    {
      "cell_type": "code",
      "metadata": {
        "id": "HC6ak7ieMx58",
        "colab_type": "code",
        "colab": {}
      },
      "source": [
        "# model = MobileNetV2(input_shape=(224, 224, 3), include_top=False)\n",
        "# model.summary()"
      ],
      "execution_count": 0,
      "outputs": []
    },
    {
      "cell_type": "code",
      "metadata": {
        "id": "XoB9sWxElg6B",
        "colab_type": "code",
        "colab": {}
      },
      "source": [
        "def create_model_bb(img_size=224, trainable=False):\n",
        "    \n",
        "    regulariz = regularizers.l2(1)\n",
        "\n",
        "    inp = Input(shape=(224, 224, 4))\n",
        "    x = Conv2D(28, kernel_size=3, name=\"new_conv\", activation='relu', kernel_regularizer=regulariz)(inp)\n",
        "    x = BatchNormalization()(x)\n",
        "    x = Conv2D(48, kernel_size=3, name=\"new_conv1\", activation='relu', kernel_regularizer=regulariz)(x)\n",
        "    x = Conv2D(56, kernel_size=3, name=\"new_conv3\", activation='relu')(x)\n",
        "    x = Flatten()(x)\n",
        "    x = Dropout(0.5)(x)\n",
        "    x = Dense(32, activation='relu', kernel_regularizer=regulariz)(x)\n",
        "    pred = Dense(4, name=\"pred\")(x)\n",
        "\n",
        "    return Model(inputs=inp, outputs=pred)"
      ],
      "execution_count": 0,
      "outputs": []
    },
    {
      "cell_type": "code",
      "metadata": {
        "id": "qkU55YjO69tF",
        "colab_type": "code",
        "colab": {}
      },
      "source": [
        "def create_model_class(img_size=224, trainable=False):\n",
        "\n",
        "    model = MobileNetV2(input_shape=(img_size, img_size, 3), include_top=False)\n",
        "    \n",
        "    for layer in model.layers:\n",
        "        layer.trainable = trainable\n",
        "        \n",
        "    for layer in model.layers:\n",
        "      if layer.name == 'block_3_project_BN':\n",
        "        x = layer.output\n",
        "        break\n",
        "    \n",
        "# #     regulariz = regularizers.l2(1)\n",
        "#     regulariz = None\n",
        "        \n",
        "#     inp = Input(shape=(224, 224, 3))\n",
        "    x = Conv2D(28, kernel_size=3, name=\"new_conv\", activation='relu')(x)\n",
        "    x = BatchNormalization()(x)\n",
        "    x = Conv2D(48, kernel_size=3, name=\"new_conv1\", activation='relu')(x)\n",
        "#     x = BatchNormalization()(x)\n",
        "    x = Conv2D(56, kernel_size=3, name=\"new_conv3\", activation='relu')(x)\n",
        "    x = Flatten()(x)\n",
        "    x = Dropout(0.5)(x)\n",
        "    x = Dense(32)(x)\n",
        "    pred = Dense(4, name=\"pred\")(x)\n",
        "    class_ = Dense(1, name=\"class_\")(x)\n",
        "\n",
        "    return Model(inputs=model.input, outputs=[pred, class_])"
      ],
      "execution_count": 0,
      "outputs": []
    },
    {
      "cell_type": "code",
      "metadata": {
        "id": "kjsg8j7uNmdS",
        "colab_type": "code",
        "outputId": "905c34e7-170b-48d6-c8bc-a86bb29f6159",
        "colab": {
          "base_uri": "https://localhost:8080/",
          "height": 1717
        }
      },
      "source": [
        "model = create_model(img_size=img_shape)\n",
        "model.summary()"
      ],
      "execution_count": 0,
      "outputs": [
        {
          "output_type": "stream",
          "text": [
            "__________________________________________________________________________________________________\n",
            "Layer (type)                    Output Shape         Param #     Connected to                     \n",
            "==================================================================================================\n",
            "input_12 (InputLayer)           (None, 224, 224, 3)  0                                            \n",
            "__________________________________________________________________________________________________\n",
            "Conv1_pad (ZeroPadding2D)       (None, 225, 225, 3)  0           input_12[0][0]                   \n",
            "__________________________________________________________________________________________________\n",
            "Conv1 (Conv2D)                  (None, 112, 112, 32) 864         Conv1_pad[0][0]                  \n",
            "__________________________________________________________________________________________________\n",
            "bn_Conv1 (BatchNormalizationV1) (None, 112, 112, 32) 128         Conv1[0][0]                      \n",
            "__________________________________________________________________________________________________\n",
            "Conv1_relu (ReLU)               (None, 112, 112, 32) 0           bn_Conv1[0][0]                   \n",
            "__________________________________________________________________________________________________\n",
            "expanded_conv_depthwise (Depthw (None, 112, 112, 32) 288         Conv1_relu[0][0]                 \n",
            "__________________________________________________________________________________________________\n",
            "expanded_conv_depthwise_BN (Bat (None, 112, 112, 32) 128         expanded_conv_depthwise[0][0]    \n",
            "__________________________________________________________________________________________________\n",
            "expanded_conv_depthwise_relu (R (None, 112, 112, 32) 0           expanded_conv_depthwise_BN[0][0] \n",
            "__________________________________________________________________________________________________\n",
            "expanded_conv_project (Conv2D)  (None, 112, 112, 16) 512         expanded_conv_depthwise_relu[0][0\n",
            "__________________________________________________________________________________________________\n",
            "expanded_conv_project_BN (Batch (None, 112, 112, 16) 64          expanded_conv_project[0][0]      \n",
            "__________________________________________________________________________________________________\n",
            "block_1_expand (Conv2D)         (None, 112, 112, 96) 1536        expanded_conv_project_BN[0][0]   \n",
            "__________________________________________________________________________________________________\n",
            "block_1_expand_BN (BatchNormali (None, 112, 112, 96) 384         block_1_expand[0][0]             \n",
            "__________________________________________________________________________________________________\n",
            "block_1_expand_relu (ReLU)      (None, 112, 112, 96) 0           block_1_expand_BN[0][0]          \n",
            "__________________________________________________________________________________________________\n",
            "block_1_pad (ZeroPadding2D)     (None, 113, 113, 96) 0           block_1_expand_relu[0][0]        \n",
            "__________________________________________________________________________________________________\n",
            "block_1_depthwise (DepthwiseCon (None, 56, 56, 96)   864         block_1_pad[0][0]                \n",
            "__________________________________________________________________________________________________\n",
            "block_1_depthwise_BN (BatchNorm (None, 56, 56, 96)   384         block_1_depthwise[0][0]          \n",
            "__________________________________________________________________________________________________\n",
            "block_1_depthwise_relu (ReLU)   (None, 56, 56, 96)   0           block_1_depthwise_BN[0][0]       \n",
            "__________________________________________________________________________________________________\n",
            "block_1_project (Conv2D)        (None, 56, 56, 24)   2304        block_1_depthwise_relu[0][0]     \n",
            "__________________________________________________________________________________________________\n",
            "block_1_project_BN (BatchNormal (None, 56, 56, 24)   96          block_1_project[0][0]            \n",
            "__________________________________________________________________________________________________\n",
            "block_2_expand (Conv2D)         (None, 56, 56, 144)  3456        block_1_project_BN[0][0]         \n",
            "__________________________________________________________________________________________________\n",
            "block_2_expand_BN (BatchNormali (None, 56, 56, 144)  576         block_2_expand[0][0]             \n",
            "__________________________________________________________________________________________________\n",
            "block_2_expand_relu (ReLU)      (None, 56, 56, 144)  0           block_2_expand_BN[0][0]          \n",
            "__________________________________________________________________________________________________\n",
            "block_2_depthwise (DepthwiseCon (None, 56, 56, 144)  1296        block_2_expand_relu[0][0]        \n",
            "__________________________________________________________________________________________________\n",
            "block_2_depthwise_BN (BatchNorm (None, 56, 56, 144)  576         block_2_depthwise[0][0]          \n",
            "__________________________________________________________________________________________________\n",
            "block_2_depthwise_relu (ReLU)   (None, 56, 56, 144)  0           block_2_depthwise_BN[0][0]       \n",
            "__________________________________________________________________________________________________\n",
            "block_2_project (Conv2D)        (None, 56, 56, 24)   3456        block_2_depthwise_relu[0][0]     \n",
            "__________________________________________________________________________________________________\n",
            "block_2_project_BN (BatchNormal (None, 56, 56, 24)   96          block_2_project[0][0]            \n",
            "__________________________________________________________________________________________________\n",
            "block_2_add (Add)               (None, 56, 56, 24)   0           block_1_project_BN[0][0]         \n",
            "                                                                 block_2_project_BN[0][0]         \n",
            "__________________________________________________________________________________________________\n",
            "block_3_expand (Conv2D)         (None, 56, 56, 144)  3456        block_2_add[0][0]                \n",
            "__________________________________________________________________________________________________\n",
            "block_3_expand_BN (BatchNormali (None, 56, 56, 144)  576         block_3_expand[0][0]             \n",
            "__________________________________________________________________________________________________\n",
            "block_3_expand_relu (ReLU)      (None, 56, 56, 144)  0           block_3_expand_BN[0][0]          \n",
            "__________________________________________________________________________________________________\n",
            "block_3_pad (ZeroPadding2D)     (None, 57, 57, 144)  0           block_3_expand_relu[0][0]        \n",
            "__________________________________________________________________________________________________\n",
            "block_3_depthwise (DepthwiseCon (None, 28, 28, 144)  1296        block_3_pad[0][0]                \n",
            "__________________________________________________________________________________________________\n",
            "block_3_depthwise_BN (BatchNorm (None, 28, 28, 144)  576         block_3_depthwise[0][0]          \n",
            "__________________________________________________________________________________________________\n",
            "block_3_depthwise_relu (ReLU)   (None, 28, 28, 144)  0           block_3_depthwise_BN[0][0]       \n",
            "__________________________________________________________________________________________________\n",
            "block_3_project (Conv2D)        (None, 28, 28, 32)   4608        block_3_depthwise_relu[0][0]     \n",
            "__________________________________________________________________________________________________\n",
            "block_3_project_BN (BatchNormal (None, 28, 28, 32)   128         block_3_project[0][0]            \n",
            "__________________________________________________________________________________________________\n",
            "new_conv (Conv2D)               (None, 26, 26, 28)   8092        block_3_project_BN[0][0]         \n",
            "__________________________________________________________________________________________________\n",
            "batch_normalization_v1_6 (Batch (None, 26, 26, 28)   112         new_conv[0][0]                   \n",
            "__________________________________________________________________________________________________\n",
            "new_conv1 (Conv2D)              (None, 24, 24, 48)   12144       batch_normalization_v1_6[0][0]   \n",
            "__________________________________________________________________________________________________\n",
            "new_conv3 (Conv2D)              (None, 22, 22, 56)   24248       new_conv1[0][0]                  \n",
            "__________________________________________________________________________________________________\n",
            "flatten_6 (Flatten)             (None, 27104)        0           new_conv3[0][0]                  \n",
            "__________________________________________________________________________________________________\n",
            "dropout_2 (Dropout)             (None, 27104)        0           flatten_6[0][0]                  \n",
            "__________________________________________________________________________________________________\n",
            "dense_6 (Dense)                 (None, 32)           867360      dropout_2[0][0]                  \n",
            "__________________________________________________________________________________________________\n",
            "pred (Dense)                    (None, 4)            132         dense_6[0][0]                    \n",
            "__________________________________________________________________________________________________\n",
            "class_ (Dense)                  (None, 1)            33          dense_6[0][0]                    \n",
            "==================================================================================================\n",
            "Total params: 939,769\n",
            "Trainable params: 912,065\n",
            "Non-trainable params: 27,704\n",
            "__________________________________________________________________________________________________\n"
          ],
          "name": "stdout"
        }
      ]
    },
    {
      "cell_type": "code",
      "metadata": {
        "id": "UeSQ_q3Z65T8",
        "colab_type": "code",
        "colab": {}
      },
      "source": [
        "def iou_metric(y_true, y_pred):\n",
        "  \n",
        "    '''label format - [xmin, xmax, ymin, ymax]'''\n",
        "    \n",
        "#     print(y_pred.shape)\n",
        "    \n",
        "    gt = y_true\n",
        "    pred = y_pred\n",
        "\n",
        "    diff_width = K.minimum(gt[:,1], pred[:,1]) - K.maximum(gt[:,0], pred[:,0])\n",
        "    diff_height = K.minimum(gt[:,3], pred[:,3]) - K.maximum(gt[:,2], pred[:,2])\n",
        "    intersection = K.maximum(diff_width, 0) * K.maximum(diff_height, 0)\n",
        "\n",
        "    area_gt = (gt[:,1]-gt[:,0]) * (gt[:,3]-gt[:,2])\n",
        "    area_pred = (pred[:,1]-pred[:,0]) * (pred[:,3]-pred[:,2])\n",
        "    union = K.maximum(area_gt + area_pred - intersection, 0)\n",
        "    \n",
        "    iou = K.round(intersection / (union + epsilon()))\n",
        "    \n",
        "    return iou"
      ],
      "execution_count": 0,
      "outputs": []
    },
    {
      "cell_type": "code",
      "metadata": {
        "id": "LLabpFnfNtKP",
        "colab_type": "code",
        "colab": {}
      },
      "source": [
        "lr = 1e-4\n",
        "epochs=500"
      ],
      "execution_count": 0,
      "outputs": []
    },
    {
      "cell_type": "code",
      "metadata": {
        "id": "sjXr_vuADCao",
        "colab_type": "code",
        "outputId": "00119069-8eb0-4cc5-b489-f17082516dbe",
        "colab": {
          "base_uri": "https://localhost:8080/",
          "height": 34
        }
      },
      "source": [
        "model.metrics_names"
      ],
      "execution_count": 0,
      "outputs": [
        {
          "output_type": "execute_result",
          "data": {
            "text/plain": [
              "[]"
            ]
          },
          "metadata": {
            "tags": []
          },
          "execution_count": 69
        }
      ]
    },
    {
      "cell_type": "code",
      "metadata": {
        "id": "EcUS9RoC7GV3",
        "colab_type": "code",
        "outputId": "f27336ec-54a0-489d-a6b2-8d08d851a1de",
        "colab": {
          "base_uri": "https://localhost:8080/",
          "height": 4882
        }
      },
      "source": [
        "loss_weights = {\"pred\" : 1, \"class_\" : 100}\n",
        "\n",
        "model.compile(loss={\n",
        "    \"pred\" : \"mean_squared_error\",\n",
        "    \"class_\" : \"binary_crossentropy\"\n",
        "}, optimizer= optimizers.Adam(lr=lr), loss_weights=loss_weights, metrics={\"pred\":iou_metric, \"class_\":\"acc\"})\n",
        "\n",
        "# print(model.metrics_name)\n",
        "\n",
        "checkpoint = ModelCheckpoint(\"model-{val_pred_iou_metric:.2f}.h5\", monitor=\"val_pred_iou_metric\", verbose=1, save_best_only=True,\n",
        "                             save_weights_only=True, mode=\"max\", period=5)\n",
        "# stop = EarlyStopping(monitor=\"iou_metric\", patience=5, mode=\"max\")\n",
        "# reduce_lr = ReduceLROnPlateau(monitor=\"iou_metric\", factor=0.2, patience=10, min_lr=1e-7, verbose=1, mode=\"max\")\n",
        "\n",
        "model.fit_generator(generator=train_datagen, validation_data=val_datagen, epochs=epochs, callbacks=[checkpoint], shuffle=True, verbose=1)\n"
      ],
      "execution_count": 0,
      "outputs": [
        {
          "output_type": "stream",
          "text": [
            "Epoch 1/500\n",
            "21/21 [==============================] - 1s 65ms/step - loss: 2741.1597 - pred_loss: 1659.3549 - class__loss: 10.8180 - pred_iou_metric: 0.0714 - class__acc: 0.3214\n",
            "184/184 [==============================] - 5s 30ms/step - loss: 3984.0879 - pred_loss: 2889.6509 - class__loss: 10.9444 - pred_iou_metric: 0.1046 - class__acc: 0.3125 - val_loss: 2741.1597 - val_pred_loss: 1659.3549 - val_class__loss: 10.8180 - val_pred_iou_metric: 0.0714 - val_class__acc: 0.3214\n",
            "Epoch 2/500\n",
            "21/21 [==============================] - 0s 11ms/step - loss: 2139.9089 - pred_loss: 1621.8271 - class__loss: 5.1808 - pred_iou_metric: 0.0238 - class__acc: 0.6786\n",
            "184/184 [==============================] - 3s 16ms/step - loss: 1214.6395 - pred_loss: 468.8674 - class__loss: 7.4577 - pred_iou_metric: 0.3573 - class__acc: 0.5312 - val_loss: 2139.9089 - val_pred_loss: 1621.8271 - val_class__loss: 5.1808 - val_pred_iou_metric: 0.0238 - val_class__acc: 0.6786\n",
            "Epoch 3/500\n",
            "21/21 [==============================] - 0s 11ms/step - loss: 1788.4477 - pred_loss: 1270.3661 - class__loss: 5.1808 - pred_iou_metric: 0.0000e+00 - class__acc: 0.6786\n",
            "184/184 [==============================] - 3s 16ms/step - loss: 856.6790 - pred_loss: 352.9885 - class__loss: 5.0369 - pred_iou_metric: 0.4606 - class__acc: 0.6875 - val_loss: 1788.4477 - val_pred_loss: 1270.3661 - val_class__loss: 5.1808 - val_pred_iou_metric: 0.0000e+00 - val_class__acc: 0.6786\n",
            "Epoch 4/500\n",
            "21/21 [==============================] - 0s 12ms/step - loss: 1772.2282 - pred_loss: 1254.1466 - class__loss: 5.1808 - pred_iou_metric: 0.0119 - class__acc: 0.6786\n",
            "184/184 [==============================] - 3s 16ms/step - loss: 798.7678 - pred_loss: 295.0772 - class__loss: 5.0369 - pred_iou_metric: 0.5258 - class__acc: 0.6875 - val_loss: 1772.2282 - val_pred_loss: 1254.1466 - val_class__loss: 5.1808 - val_pred_iou_metric: 0.0119 - val_class__acc: 0.6786\n",
            "Epoch 5/500\n",
            "21/21 [==============================] - 0s 11ms/step - loss: 1794.4018 - pred_loss: 1276.3201 - class__loss: 5.1808 - pred_iou_metric: 0.0119 - class__acc: 0.6786\n",
            "\n",
            "Epoch 00005: val_pred_iou_metric improved from -inf to 0.01190, saving model to model-0.01.h5\n",
            "184/184 [==============================] - 32s 172ms/step - loss: 759.6782 - pred_loss: 255.9877 - class__loss: 5.0369 - pred_iou_metric: 0.5543 - class__acc: 0.6875 - val_loss: 1794.4018 - val_pred_loss: 1276.3201 - val_class__loss: 5.1808 - val_pred_iou_metric: 0.0119 - val_class__acc: 0.6786\n",
            "Epoch 6/500\n",
            "21/21 [==============================] - 0s 11ms/step - loss: 1717.2468 - pred_loss: 1199.1652 - class__loss: 5.1808 - pred_iou_metric: 0.0000e+00 - class__acc: 0.6786\n",
            "184/184 [==============================] - 3s 16ms/step - loss: 741.6315 - pred_loss: 237.9410 - class__loss: 5.0369 - pred_iou_metric: 0.5829 - class__acc: 0.6875 - val_loss: 1717.2468 - val_pred_loss: 1199.1652 - val_class__loss: 5.1808 - val_pred_iou_metric: 0.0000e+00 - val_class__acc: 0.6786\n",
            "Epoch 7/500\n",
            "21/21 [==============================] - 0s 11ms/step - loss: 1718.8048 - pred_loss: 1200.7231 - class__loss: 5.1808 - pred_iou_metric: 0.0000e+00 - class__acc: 0.6786\n",
            "184/184 [==============================] - 3s 16ms/step - loss: 727.6486 - pred_loss: 223.9581 - class__loss: 5.0369 - pred_iou_metric: 0.6073 - class__acc: 0.6875 - val_loss: 1718.8048 - val_pred_loss: 1200.7231 - val_class__loss: 5.1808 - val_pred_iou_metric: 0.0000e+00 - val_class__acc: 0.6786\n",
            "Epoch 8/500\n",
            "21/21 [==============================] - 0s 10ms/step - loss: 1621.6555 - pred_loss: 1103.5740 - class__loss: 5.1808 - pred_iou_metric: 0.0000e+00 - class__acc: 0.6786\n",
            "184/184 [==============================] - 3s 16ms/step - loss: 714.6896 - pred_loss: 210.9990 - class__loss: 5.0369 - pred_iou_metric: 0.5965 - class__acc: 0.6875 - val_loss: 1621.6555 - val_pred_loss: 1103.5740 - val_class__loss: 5.1808 - val_pred_iou_metric: 0.0000e+00 - val_class__acc: 0.6786\n",
            "Epoch 9/500\n",
            "21/21 [==============================] - 0s 11ms/step - loss: 1671.4094 - pred_loss: 1153.3279 - class__loss: 5.1808 - pred_iou_metric: 0.0238 - class__acc: 0.6786\n",
            "184/184 [==============================] - 3s 16ms/step - loss: 701.2264 - pred_loss: 197.5359 - class__loss: 5.0369 - pred_iou_metric: 0.5883 - class__acc: 0.6875 - val_loss: 1671.4094 - val_pred_loss: 1153.3279 - val_class__loss: 5.1808 - val_pred_iou_metric: 0.0238 - val_class__acc: 0.6786\n",
            "Epoch 10/500\n",
            "21/21 [==============================] - 0s 10ms/step - loss: 1532.0153 - pred_loss: 1013.9337 - class__loss: 5.1808 - pred_iou_metric: 0.0119 - class__acc: 0.6786\n",
            "\n",
            "Epoch 00010: val_pred_iou_metric did not improve from 0.01190\n",
            "184/184 [==============================] - 3s 16ms/step - loss: 683.3050 - pred_loss: 179.6145 - class__loss: 5.0369 - pred_iou_metric: 0.6481 - class__acc: 0.6875 - val_loss: 1532.0153 - val_pred_loss: 1013.9337 - val_class__loss: 5.1808 - val_pred_iou_metric: 0.0119 - val_class__acc: 0.6786\n",
            "Epoch 11/500\n",
            "21/21 [==============================] - 0s 12ms/step - loss: 1511.7850 - pred_loss: 993.7033 - class__loss: 5.1808 - pred_iou_metric: 0.0000e+00 - class__acc: 0.6786\n",
            "184/184 [==============================] - 3s 17ms/step - loss: 670.3438 - pred_loss: 166.6532 - class__loss: 5.0369 - pred_iou_metric: 0.6413 - class__acc: 0.6875 - val_loss: 1511.7850 - val_pred_loss: 993.7033 - val_class__loss: 5.1808 - val_pred_iou_metric: 0.0000e+00 - val_class__acc: 0.6786\n",
            "Epoch 12/500\n",
            "21/21 [==============================] - 0s 12ms/step - loss: 1494.3561 - pred_loss: 976.2745 - class__loss: 5.1808 - pred_iou_metric: 0.0238 - class__acc: 0.6786\n",
            "184/184 [==============================] - 3s 18ms/step - loss: 656.5392 - pred_loss: 152.8488 - class__loss: 5.0369 - pred_iou_metric: 0.6739 - class__acc: 0.6875 - val_loss: 1494.3561 - val_pred_loss: 976.2745 - val_class__loss: 5.1808 - val_pred_iou_metric: 0.0238 - val_class__acc: 0.6786\n",
            "Epoch 13/500\n",
            "21/21 [==============================] - 0s 12ms/step - loss: 1477.4943 - pred_loss: 959.4127 - class__loss: 5.1808 - pred_iou_metric: 0.0119 - class__acc: 0.6786\n",
            "184/184 [==============================] - 3s 18ms/step - loss: 652.5521 - pred_loss: 150.9118 - class__loss: 5.0164 - pred_iou_metric: 0.6984 - class__acc: 0.6875 - val_loss: 1477.4943 - val_pred_loss: 959.4127 - val_class__loss: 5.1808 - val_pred_iou_metric: 0.0119 - val_class__acc: 0.6786\n",
            "Epoch 14/500\n",
            "21/21 [==============================] - 0s 11ms/step - loss: 1423.7288 - pred_loss: 905.6470 - class__loss: 5.1808 - pred_iou_metric: 0.0119 - class__acc: 0.6786\n",
            "184/184 [==============================] - 3s 17ms/step - loss: 642.7529 - pred_loss: 139.0623 - class__loss: 5.0369 - pred_iou_metric: 0.6997 - class__acc: 0.6875 - val_loss: 1423.7288 - val_pred_loss: 905.6470 - val_class__loss: 5.1808 - val_pred_iou_metric: 0.0119 - val_class__acc: 0.6786\n",
            "Epoch 15/500\n",
            "21/21 [==============================] - 0s 11ms/step - loss: 1378.5139 - pred_loss: 860.4323 - class__loss: 5.1808 - pred_iou_metric: 0.0595 - class__acc: 0.6786\n",
            "\n",
            "Epoch 00015: val_pred_iou_metric improved from 0.01190 to 0.05952, saving model to model-0.06.h5\n",
            "184/184 [==============================] - 3s 17ms/step - loss: 639.1451 - pred_loss: 135.4546 - class__loss: 5.0369 - pred_iou_metric: 0.7052 - class__acc: 0.6875 - val_loss: 1378.5139 - val_pred_loss: 860.4323 - val_class__loss: 5.1808 - val_pred_iou_metric: 0.0595 - val_class__acc: 0.6786\n",
            "Epoch 16/500\n",
            "21/21 [==============================] - 0s 11ms/step - loss: 1423.3266 - pred_loss: 905.2451 - class__loss: 5.1808 - pred_iou_metric: 0.0238 - class__acc: 0.6786\n",
            "184/184 [==============================] - 3s 16ms/step - loss: 628.2802 - pred_loss: 124.5897 - class__loss: 5.0369 - pred_iou_metric: 0.7228 - class__acc: 0.6875 - val_loss: 1423.3266 - val_pred_loss: 905.2451 - val_class__loss: 5.1808 - val_pred_iou_metric: 0.0238 - val_class__acc: 0.6786\n",
            "Epoch 17/500\n",
            "21/21 [==============================] - 0s 11ms/step - loss: 1334.8069 - pred_loss: 816.7253 - class__loss: 5.1808 - pred_iou_metric: 0.0238 - class__acc: 0.6786\n",
            "184/184 [==============================] - 3s 16ms/step - loss: 618.4507 - pred_loss: 114.7603 - class__loss: 5.0369 - pred_iou_metric: 0.7405 - class__acc: 0.6875 - val_loss: 1334.8069 - val_pred_loss: 816.7253 - val_class__loss: 5.1808 - val_pred_iou_metric: 0.0238 - val_class__acc: 0.6786\n",
            "Epoch 18/500\n",
            "21/21 [==============================] - 0s 11ms/step - loss: 1358.9951 - pred_loss: 840.9133 - class__loss: 5.1808 - pred_iou_metric: 0.0119 - class__acc: 0.6786\n",
            "184/184 [==============================] - 3s 16ms/step - loss: 619.4543 - pred_loss: 115.7638 - class__loss: 5.0369 - pred_iou_metric: 0.7609 - class__acc: 0.6875 - val_loss: 1358.9951 - val_pred_loss: 840.9133 - val_class__loss: 5.1808 - val_pred_iou_metric: 0.0119 - val_class__acc: 0.6786\n",
            "Epoch 19/500\n",
            "21/21 [==============================] - 0s 11ms/step - loss: 1313.2260 - pred_loss: 795.1443 - class__loss: 5.1808 - pred_iou_metric: 0.0357 - class__acc: 0.6786\n",
            "184/184 [==============================] - 3s 16ms/step - loss: 615.9103 - pred_loss: 112.2198 - class__loss: 5.0369 - pred_iou_metric: 0.7514 - class__acc: 0.6875 - val_loss: 1313.2260 - val_pred_loss: 795.1443 - val_class__loss: 5.1808 - val_pred_iou_metric: 0.0357 - val_class__acc: 0.6786\n",
            "Epoch 20/500\n",
            "21/21 [==============================] - 0s 11ms/step - loss: 1315.4955 - pred_loss: 797.4139 - class__loss: 5.1808 - pred_iou_metric: 0.0357 - class__acc: 0.6786\n",
            "\n",
            "Epoch 00020: val_pred_iou_metric did not improve from 0.05952\n",
            "184/184 [==============================] - 3s 16ms/step - loss: 606.2900 - pred_loss: 102.5996 - class__loss: 5.0369 - pred_iou_metric: 0.7582 - class__acc: 0.6875 - val_loss: 1315.4955 - val_pred_loss: 797.4139 - val_class__loss: 5.1808 - val_pred_iou_metric: 0.0357 - val_class__acc: 0.6786\n",
            "Epoch 21/500\n",
            "21/21 [==============================] - 0s 12ms/step - loss: 1348.8465 - pred_loss: 830.7648 - class__loss: 5.1808 - pred_iou_metric: 0.0476 - class__acc: 0.6786\n",
            "184/184 [==============================] - 3s 16ms/step - loss: 607.1814 - pred_loss: 103.4909 - class__loss: 5.0369 - pred_iou_metric: 0.7446 - class__acc: 0.6875 - val_loss: 1348.8465 - val_pred_loss: 830.7648 - val_class__loss: 5.1808 - val_pred_iou_metric: 0.0476 - val_class__acc: 0.6786\n",
            "Epoch 22/500\n",
            "21/21 [==============================] - 0s 12ms/step - loss: 1264.3567 - pred_loss: 746.2750 - class__loss: 5.1808 - pred_iou_metric: 0.0357 - class__acc: 0.6786\n",
            "184/184 [==============================] - 3s 16ms/step - loss: 604.2037 - pred_loss: 100.5132 - class__loss: 5.0369 - pred_iou_metric: 0.7799 - class__acc: 0.6875 - val_loss: 1264.3567 - val_pred_loss: 746.2750 - val_class__loss: 5.1808 - val_pred_iou_metric: 0.0357 - val_class__acc: 0.6786\n",
            "Epoch 23/500\n",
            "21/21 [==============================] - 0s 10ms/step - loss: 1304.6137 - pred_loss: 786.5320 - class__loss: 5.1808 - pred_iou_metric: 0.0833 - class__acc: 0.6786\n",
            "184/184 [==============================] - 3s 16ms/step - loss: 596.9163 - pred_loss: 93.2258 - class__loss: 5.0369 - pred_iou_metric: 0.7935 - class__acc: 0.6875 - val_loss: 1304.6137 - val_pred_loss: 786.5320 - val_class__loss: 5.1808 - val_pred_iou_metric: 0.0833 - val_class__acc: 0.6786\n",
            "Epoch 24/500\n",
            "21/21 [==============================] - 0s 11ms/step - loss: 1316.6858 - pred_loss: 798.6042 - class__loss: 5.1808 - pred_iou_metric: 0.0119 - class__acc: 0.6786\n",
            "184/184 [==============================] - 3s 16ms/step - loss: 590.3051 - pred_loss: 86.6147 - class__loss: 5.0369 - pred_iou_metric: 0.8016 - class__acc: 0.6875 - val_loss: 1316.6858 - val_pred_loss: 798.6042 - val_class__loss: 5.1808 - val_pred_iou_metric: 0.0119 - val_class__acc: 0.6786\n",
            "Epoch 25/500\n",
            "21/21 [==============================] - 0s 11ms/step - loss: 1296.2106 - pred_loss: 778.1289 - class__loss: 5.1808 - pred_iou_metric: 0.0357 - class__acc: 0.6786\n",
            "\n",
            "Epoch 00025: val_pred_iou_metric did not improve from 0.05952\n",
            "184/184 [==============================] - 3s 16ms/step - loss: 585.0724 - pred_loss: 81.3819 - class__loss: 5.0369 - pred_iou_metric: 0.8166 - class__acc: 0.6875 - val_loss: 1296.2106 - val_pred_loss: 778.1289 - val_class__loss: 5.1808 - val_pred_iou_metric: 0.0357 - val_class__acc: 0.6786\n",
            "Epoch 26/500\n",
            "21/21 [==============================] - 0s 10ms/step - loss: 1311.5605 - pred_loss: 793.4790 - class__loss: 5.1808 - pred_iou_metric: 0.0833 - class__acc: 0.6786\n",
            "184/184 [==============================] - 3s 16ms/step - loss: 585.0584 - pred_loss: 81.3679 - class__loss: 5.0369 - pred_iou_metric: 0.8152 - class__acc: 0.6875 - val_loss: 1311.5605 - val_pred_loss: 793.4790 - val_class__loss: 5.1808 - val_pred_iou_metric: 0.0833 - val_class__acc: 0.6786\n",
            "Epoch 27/500\n",
            "21/21 [==============================] - 0s 12ms/step - loss: 1308.8222 - pred_loss: 790.7405 - class__loss: 5.1808 - pred_iou_metric: 0.0476 - class__acc: 0.6786\n",
            "184/184 [==============================] - 3s 16ms/step - loss: 580.9341 - pred_loss: 77.2436 - class__loss: 5.0369 - pred_iou_metric: 0.8220 - class__acc: 0.6875 - val_loss: 1308.8222 - val_pred_loss: 790.7405 - val_class__loss: 5.1808 - val_pred_iou_metric: 0.0476 - val_class__acc: 0.6786\n",
            "Epoch 28/500\n",
            "21/21 [==============================] - 0s 11ms/step - loss: 1351.7224 - pred_loss: 833.6407 - class__loss: 5.1808 - pred_iou_metric: 0.0238 - class__acc: 0.6786\n",
            "184/184 [==============================] - 3s 16ms/step - loss: 579.4054 - pred_loss: 75.7150 - class__loss: 5.0369 - pred_iou_metric: 0.8302 - class__acc: 0.6875 - val_loss: 1351.7224 - val_pred_loss: 833.6407 - val_class__loss: 5.1808 - val_pred_iou_metric: 0.0238 - val_class__acc: 0.6786\n",
            "Epoch 29/500\n",
            "21/21 [==============================] - 0s 12ms/step - loss: 1314.1447 - pred_loss: 796.0630 - class__loss: 5.1808 - pred_iou_metric: 0.0952 - class__acc: 0.6786\n",
            "184/184 [==============================] - 3s 16ms/step - loss: 578.9105 - pred_loss: 75.2200 - class__loss: 5.0369 - pred_iou_metric: 0.8261 - class__acc: 0.6875 - val_loss: 1314.1447 - val_pred_loss: 796.0630 - val_class__loss: 5.1808 - val_pred_iou_metric: 0.0952 - val_class__acc: 0.6786\n",
            "Epoch 30/500\n",
            "21/21 [==============================] - 0s 10ms/step - loss: 1341.0573 - pred_loss: 822.9756 - class__loss: 5.1808 - pred_iou_metric: 0.1071 - class__acc: 0.6786\n",
            "\n",
            "Epoch 00030: val_pred_iou_metric improved from 0.05952 to 0.10714, saving model to model-0.11.h5\n",
            "184/184 [==============================] - 3s 16ms/step - loss: 580.2116 - pred_loss: 76.5210 - class__loss: 5.0369 - pred_iou_metric: 0.8234 - class__acc: 0.6875 - val_loss: 1341.0573 - val_pred_loss: 822.9756 - val_class__loss: 5.1808 - val_pred_iou_metric: 0.1071 - val_class__acc: 0.6786\n",
            "Epoch 31/500\n",
            "21/21 [==============================] - 0s 11ms/step - loss: 1279.1961 - pred_loss: 761.1144 - class__loss: 5.1808 - pred_iou_metric: 0.0714 - class__acc: 0.6786\n",
            "184/184 [==============================] - 3s 16ms/step - loss: 573.1062 - pred_loss: 69.4157 - class__loss: 5.0369 - pred_iou_metric: 0.8397 - class__acc: 0.6875 - val_loss: 1279.1961 - val_pred_loss: 761.1144 - val_class__loss: 5.1808 - val_pred_iou_metric: 0.0714 - val_class__acc: 0.6786\n",
            "Epoch 32/500\n",
            "21/21 [==============================] - 0s 10ms/step - loss: 1343.6608 - pred_loss: 825.5790 - class__loss: 5.1808 - pred_iou_metric: 0.0476 - class__acc: 0.6786\n",
            "184/184 [==============================] - 3s 16ms/step - loss: 569.7154 - pred_loss: 66.0250 - class__loss: 5.0369 - pred_iou_metric: 0.8655 - class__acc: 0.6875 - val_loss: 1343.6608 - val_pred_loss: 825.5790 - val_class__loss: 5.1808 - val_pred_iou_metric: 0.0476 - val_class__acc: 0.6786\n",
            "Epoch 33/500\n",
            "21/21 [==============================] - 0s 11ms/step - loss: 1255.5098 - pred_loss: 737.4282 - class__loss: 5.1808 - pred_iou_metric: 0.1071 - class__acc: 0.6786\n",
            "184/184 [==============================] - 3s 16ms/step - loss: 572.3153 - pred_loss: 68.6248 - class__loss: 5.0369 - pred_iou_metric: 0.8655 - class__acc: 0.6875 - val_loss: 1255.5098 - val_pred_loss: 737.4282 - val_class__loss: 5.1808 - val_pred_iou_metric: 0.1071 - val_class__acc: 0.6786\n",
            "Epoch 34/500\n",
            "21/21 [==============================] - 0s 11ms/step - loss: 1345.5325 - pred_loss: 827.4508 - class__loss: 5.1808 - pred_iou_metric: 0.0238 - class__acc: 0.6786\n",
            "184/184 [==============================] - 3s 16ms/step - loss: 567.6840 - pred_loss: 63.9935 - class__loss: 5.0369 - pred_iou_metric: 0.8818 - class__acc: 0.6875 - val_loss: 1345.5325 - val_pred_loss: 827.4508 - val_class__loss: 5.1808 - val_pred_iou_metric: 0.0238 - val_class__acc: 0.6786\n",
            "Epoch 35/500\n",
            "21/21 [==============================] - 0s 11ms/step - loss: 1319.9110 - pred_loss: 801.8293 - class__loss: 5.1808 - pred_iou_metric: 0.0595 - class__acc: 0.6786\n",
            "\n",
            "Epoch 00035: val_pred_iou_metric did not improve from 0.10714\n",
            "184/184 [==============================] - 3s 16ms/step - loss: 565.3070 - pred_loss: 61.6165 - class__loss: 5.0369 - pred_iou_metric: 0.8655 - class__acc: 0.6875 - val_loss: 1319.9110 - val_pred_loss: 801.8293 - val_class__loss: 5.1808 - val_pred_iou_metric: 0.0595 - val_class__acc: 0.6786\n",
            "Epoch 36/500\n",
            "21/21 [==============================] - 0s 11ms/step - loss: 1270.6594 - pred_loss: 752.5778 - class__loss: 5.1808 - pred_iou_metric: 0.0476 - class__acc: 0.6786\n",
            "184/184 [==============================] - 3s 16ms/step - loss: 561.6712 - pred_loss: 57.9807 - class__loss: 5.0369 - pred_iou_metric: 0.8777 - class__acc: 0.6875 - val_loss: 1270.6594 - val_pred_loss: 752.5778 - val_class__loss: 5.1808 - val_pred_iou_metric: 0.0476 - val_class__acc: 0.6786\n",
            "Epoch 37/500\n",
            "21/21 [==============================] - 0s 12ms/step - loss: 1302.3943 - pred_loss: 784.3126 - class__loss: 5.1808 - pred_iou_metric: 0.0952 - class__acc: 0.6786\n",
            "184/184 [==============================] - 3s 16ms/step - loss: 561.8306 - pred_loss: 58.1401 - class__loss: 5.0369 - pred_iou_metric: 0.8845 - class__acc: 0.6875 - val_loss: 1302.3943 - val_pred_loss: 784.3126 - val_class__loss: 5.1808 - val_pred_iou_metric: 0.0952 - val_class__acc: 0.6786\n",
            "Epoch 38/500\n",
            "21/21 [==============================] - 0s 12ms/step - loss: 1308.9709 - pred_loss: 790.8892 - class__loss: 5.1808 - pred_iou_metric: 0.0833 - class__acc: 0.6786\n",
            "184/184 [==============================] - 3s 18ms/step - loss: 563.2888 - pred_loss: 59.5983 - class__loss: 5.0369 - pred_iou_metric: 0.8791 - class__acc: 0.6875 - val_loss: 1308.9709 - val_pred_loss: 790.8892 - val_class__loss: 5.1808 - val_pred_iou_metric: 0.0833 - val_class__acc: 0.6786\n",
            "Epoch 39/500\n",
            "21/21 [==============================] - 0s 12ms/step - loss: 1321.3885 - pred_loss: 803.3068 - class__loss: 5.1808 - pred_iou_metric: 0.0952 - class__acc: 0.6786\n",
            "184/184 [==============================] - 3s 18ms/step - loss: 561.0855 - pred_loss: 57.3951 - class__loss: 5.0369 - pred_iou_metric: 0.8845 - class__acc: 0.6875 - val_loss: 1321.3885 - val_pred_loss: 803.3068 - val_class__loss: 5.1808 - val_pred_iou_metric: 0.0952 - val_class__acc: 0.6786\n",
            "Epoch 40/500\n",
            "21/21 [==============================] - 0s 12ms/step - loss: 1378.2442 - pred_loss: 860.1626 - class__loss: 5.1808 - pred_iou_metric: 0.0238 - class__acc: 0.6786\n",
            "\n",
            "Epoch 00040: val_pred_iou_metric did not improve from 0.10714\n",
            "184/184 [==============================] - 3s 18ms/step - loss: 554.5967 - pred_loss: 50.9062 - class__loss: 5.0369 - pred_iou_metric: 0.9035 - class__acc: 0.6875 - val_loss: 1378.2442 - val_pred_loss: 860.1626 - val_class__loss: 5.1808 - val_pred_iou_metric: 0.0238 - val_class__acc: 0.6786\n",
            "Epoch 41/500\n",
            "21/21 [==============================] - 0s 12ms/step - loss: 1344.8734 - pred_loss: 826.7917 - class__loss: 5.1808 - pred_iou_metric: 0.0476 - class__acc: 0.6786\n",
            "184/184 [==============================] - 3s 17ms/step - loss: 557.9133 - pred_loss: 54.2228 - class__loss: 5.0369 - pred_iou_metric: 0.8886 - class__acc: 0.6875 - val_loss: 1344.8734 - val_pred_loss: 826.7917 - val_class__loss: 5.1808 - val_pred_iou_metric: 0.0476 - val_class__acc: 0.6786\n",
            "Epoch 42/500\n",
            "21/21 [==============================] - 0s 11ms/step - loss: 1206.5115 - pred_loss: 688.4298 - class__loss: 5.1808 - pred_iou_metric: 0.1190 - class__acc: 0.6786\n",
            "184/184 [==============================] - 3s 16ms/step - loss: 559.6315 - pred_loss: 55.9410 - class__loss: 5.0369 - pred_iou_metric: 0.8859 - class__acc: 0.6875 - val_loss: 1206.5115 - val_pred_loss: 688.4298 - val_class__loss: 5.1808 - val_pred_iou_metric: 0.1190 - val_class__acc: 0.6786\n",
            "Epoch 43/500\n",
            "21/21 [==============================] - 0s 11ms/step - loss: 1273.2498 - pred_loss: 755.1681 - class__loss: 5.1808 - pred_iou_metric: 0.1310 - class__acc: 0.6786\n",
            "184/184 [==============================] - 3s 16ms/step - loss: 555.2331 - pred_loss: 51.5425 - class__loss: 5.0369 - pred_iou_metric: 0.8886 - class__acc: 0.6875 - val_loss: 1273.2498 - val_pred_loss: 755.1681 - val_class__loss: 5.1808 - val_pred_iou_metric: 0.1310 - val_class__acc: 0.6786\n",
            "Epoch 44/500\n",
            "21/21 [==============================] - 0s 11ms/step - loss: 1297.1884 - pred_loss: 779.1068 - class__loss: 5.1808 - pred_iou_metric: 0.1190 - class__acc: 0.6786\n",
            "184/184 [==============================] - 3s 16ms/step - loss: 554.5740 - pred_loss: 50.8835 - class__loss: 5.0369 - pred_iou_metric: 0.9022 - class__acc: 0.6875 - val_loss: 1297.1884 - val_pred_loss: 779.1068 - val_class__loss: 5.1808 - val_pred_iou_metric: 0.1190 - val_class__acc: 0.6786\n",
            "Epoch 45/500\n",
            "21/21 [==============================] - 0s 11ms/step - loss: 1307.8653 - pred_loss: 789.7837 - class__loss: 5.1808 - pred_iou_metric: 0.0714 - class__acc: 0.6786\n",
            "\n",
            "Epoch 00045: val_pred_iou_metric did not improve from 0.10714\n",
            "184/184 [==============================] - 3s 16ms/step - loss: 551.4226 - pred_loss: 47.7321 - class__loss: 5.0369 - pred_iou_metric: 0.8995 - class__acc: 0.6875 - val_loss: 1307.8653 - val_pred_loss: 789.7837 - val_class__loss: 5.1808 - val_pred_iou_metric: 0.0714 - val_class__acc: 0.6786\n",
            "Epoch 46/500\n",
            "21/21 [==============================] - 0s 11ms/step - loss: 1301.1933 - pred_loss: 783.1117 - class__loss: 5.1808 - pred_iou_metric: 0.1310 - class__acc: 0.6786\n",
            "184/184 [==============================] - 3s 16ms/step - loss: 551.4481 - pred_loss: 47.7576 - class__loss: 5.0369 - pred_iou_metric: 0.9117 - class__acc: 0.6875 - val_loss: 1301.1933 - val_pred_loss: 783.1117 - val_class__loss: 5.1808 - val_pred_iou_metric: 0.1310 - val_class__acc: 0.6786\n",
            "Epoch 47/500\n",
            "21/21 [==============================] - 0s 11ms/step - loss: 1331.9813 - pred_loss: 813.8997 - class__loss: 5.1808 - pred_iou_metric: 0.0595 - class__acc: 0.6786\n",
            "184/184 [==============================] - 3s 16ms/step - loss: 552.6110 - pred_loss: 48.9205 - class__loss: 5.0369 - pred_iou_metric: 0.9103 - class__acc: 0.6875 - val_loss: 1331.9813 - val_pred_loss: 813.8997 - val_class__loss: 5.1808 - val_pred_iou_metric: 0.0595 - val_class__acc: 0.6786\n",
            "Epoch 48/500\n",
            "21/21 [==============================] - 0s 12ms/step - loss: 1362.1295 - pred_loss: 844.0477 - class__loss: 5.1808 - pred_iou_metric: 0.0595 - class__acc: 0.6786\n",
            "184/184 [==============================] - 3s 16ms/step - loss: 551.1734 - pred_loss: 47.4830 - class__loss: 5.0369 - pred_iou_metric: 0.9144 - class__acc: 0.6875 - val_loss: 1362.1295 - val_pred_loss: 844.0477 - val_class__loss: 5.1808 - val_pred_iou_metric: 0.0595 - val_class__acc: 0.6786\n",
            "Epoch 49/500\n",
            "21/21 [==============================] - 0s 11ms/step - loss: 1341.1809 - pred_loss: 823.0991 - class__loss: 5.1808 - pred_iou_metric: 0.1071 - class__acc: 0.6786\n",
            "184/184 [==============================] - 3s 16ms/step - loss: 549.4185 - pred_loss: 45.7279 - class__loss: 5.0369 - pred_iou_metric: 0.9239 - class__acc: 0.6875 - val_loss: 1341.1809 - val_pred_loss: 823.0991 - val_class__loss: 5.1808 - val_pred_iou_metric: 0.1071 - val_class__acc: 0.6786\n",
            "Epoch 50/500\n",
            "21/21 [==============================] - 0s 11ms/step - loss: 1306.4110 - pred_loss: 788.3292 - class__loss: 5.1808 - pred_iou_metric: 0.1190 - class__acc: 0.6786\n",
            "\n",
            "Epoch 00050: val_pred_iou_metric improved from 0.10714 to 0.11905, saving model to model-0.12.h5\n",
            "184/184 [==============================] - 3s 17ms/step - loss: 547.6318 - pred_loss: 43.9413 - class__loss: 5.0369 - pred_iou_metric: 0.9253 - class__acc: 0.6875 - val_loss: 1306.4110 - val_pred_loss: 788.3292 - val_class__loss: 5.1808 - val_pred_iou_metric: 0.1190 - val_class__acc: 0.6786\n",
            "Epoch 51/500\n",
            "21/21 [==============================] - 0s 11ms/step - loss: 1330.5877 - pred_loss: 812.5060 - class__loss: 5.1808 - pred_iou_metric: 0.1190 - class__acc: 0.6786\n",
            "184/184 [==============================] - 3s 16ms/step - loss: 546.6763 - pred_loss: 42.9858 - class__loss: 5.0369 - pred_iou_metric: 0.9158 - class__acc: 0.6875 - val_loss: 1330.5877 - val_pred_loss: 812.5060 - val_class__loss: 5.1808 - val_pred_iou_metric: 0.1190 - val_class__acc: 0.6786\n",
            "Epoch 52/500\n",
            "21/21 [==============================] - 0s 11ms/step - loss: 1305.5657 - pred_loss: 787.4841 - class__loss: 5.1808 - pred_iou_metric: 0.1071 - class__acc: 0.6786\n",
            "184/184 [==============================] - 3s 16ms/step - loss: 546.1453 - pred_loss: 42.4548 - class__loss: 5.0369 - pred_iou_metric: 0.9062 - class__acc: 0.6875 - val_loss: 1305.5657 - val_pred_loss: 787.4841 - val_class__loss: 5.1808 - val_pred_iou_metric: 0.1071 - val_class__acc: 0.6786\n",
            "Epoch 53/500\n",
            "21/21 [==============================] - 0s 11ms/step - loss: 1318.8882 - pred_loss: 800.8066 - class__loss: 5.1808 - pred_iou_metric: 0.1429 - class__acc: 0.6786\n",
            "184/184 [==============================] - 3s 16ms/step - loss: 548.0828 - pred_loss: 44.3923 - class__loss: 5.0369 - pred_iou_metric: 0.9117 - class__acc: 0.6875 - val_loss: 1318.8882 - val_pred_loss: 800.8066 - val_class__loss: 5.1808 - val_pred_iou_metric: 0.1429 - val_class__acc: 0.6786\n",
            "Epoch 54/500\n",
            "21/21 [==============================] - 0s 11ms/step - loss: 1348.1919 - pred_loss: 830.1103 - class__loss: 5.1808 - pred_iou_metric: 0.1071 - class__acc: 0.6786\n",
            "184/184 [==============================] - 3s 16ms/step - loss: 548.0208 - pred_loss: 44.3303 - class__loss: 5.0369 - pred_iou_metric: 0.9144 - class__acc: 0.6875 - val_loss: 1348.1919 - val_pred_loss: 830.1103 - val_class__loss: 5.1808 - val_pred_iou_metric: 0.1071 - val_class__acc: 0.6786\n",
            "Epoch 55/500\n",
            "21/21 [==============================] - 0s 11ms/step - loss: 1306.7196 - pred_loss: 788.6379 - class__loss: 5.1808 - pred_iou_metric: 0.1071 - class__acc: 0.6786\n",
            "\n",
            "Epoch 00055: val_pred_iou_metric did not improve from 0.11905\n",
            "184/184 [==============================] - 3s 16ms/step - loss: 539.8103 - pred_loss: 36.1198 - class__loss: 5.0369 - pred_iou_metric: 0.9524 - class__acc: 0.6875 - val_loss: 1306.7196 - val_pred_loss: 788.6379 - val_class__loss: 5.1808 - val_pred_iou_metric: 0.1071 - val_class__acc: 0.6786\n",
            "Epoch 56/500\n",
            "21/21 [==============================] - 0s 11ms/step - loss: 1261.7061 - pred_loss: 743.6245 - class__loss: 5.1808 - pred_iou_metric: 0.1310 - class__acc: 0.6786\n",
            "184/184 [==============================] - 3s 16ms/step - loss: 539.9574 - pred_loss: 36.2669 - class__loss: 5.0369 - pred_iou_metric: 0.9253 - class__acc: 0.6875 - val_loss: 1261.7061 - val_pred_loss: 743.6245 - val_class__loss: 5.1808 - val_pred_iou_metric: 0.1310 - val_class__acc: 0.6786\n",
            "Epoch 57/500\n",
            "21/21 [==============================] - 0s 11ms/step - loss: 1285.1340 - pred_loss: 767.0524 - class__loss: 5.1808 - pred_iou_metric: 0.1190 - class__acc: 0.6786\n",
            "184/184 [==============================] - 3s 16ms/step - loss: 541.6299 - pred_loss: 37.9394 - class__loss: 5.0369 - pred_iou_metric: 0.9389 - class__acc: 0.6875 - val_loss: 1285.1340 - val_pred_loss: 767.0524 - val_class__loss: 5.1808 - val_pred_iou_metric: 0.1190 - val_class__acc: 0.6786\n",
            "Epoch 58/500\n",
            "21/21 [==============================] - 0s 11ms/step - loss: 1318.2440 - pred_loss: 800.1623 - class__loss: 5.1808 - pred_iou_metric: 0.2143 - class__acc: 0.6786\n",
            "184/184 [==============================] - 3s 16ms/step - loss: 540.7744 - pred_loss: 37.0839 - class__loss: 5.0369 - pred_iou_metric: 0.9334 - class__acc: 0.6875 - val_loss: 1318.2440 - val_pred_loss: 800.1623 - val_class__loss: 5.1808 - val_pred_iou_metric: 0.2143 - val_class__acc: 0.6786\n",
            "Epoch 59/500\n",
            "21/21 [==============================] - 0s 11ms/step - loss: 1320.2391 - pred_loss: 802.1573 - class__loss: 5.1808 - pred_iou_metric: 0.0952 - class__acc: 0.6786\n",
            "184/184 [==============================] - 3s 16ms/step - loss: 544.1392 - pred_loss: 40.4487 - class__loss: 5.0369 - pred_iou_metric: 0.9226 - class__acc: 0.6875 - val_loss: 1320.2391 - val_pred_loss: 802.1573 - val_class__loss: 5.1808 - val_pred_iou_metric: 0.0952 - val_class__acc: 0.6786\n",
            "Epoch 60/500\n",
            "21/21 [==============================] - 0s 12ms/step - loss: 1290.7889 - pred_loss: 772.7072 - class__loss: 5.1808 - pred_iou_metric: 0.1786 - class__acc: 0.6786\n",
            "\n",
            "Epoch 00060: val_pred_iou_metric improved from 0.11905 to 0.17857, saving model to model-0.18.h5\n",
            "184/184 [==============================] - 3s 17ms/step - loss: 539.8151 - pred_loss: 33.9585 - class__loss: 5.0586 - pred_iou_metric: 0.9511 - class__acc: 0.6861 - val_loss: 1290.7889 - val_pred_loss: 772.7072 - val_class__loss: 5.1808 - val_pred_iou_metric: 0.1786 - val_class__acc: 0.6786\n",
            "Epoch 61/500\n",
            "21/21 [==============================] - 0s 11ms/step - loss: 1485.0878 - pred_loss: 967.0062 - class__loss: 5.1808 - pred_iou_metric: 0.1429 - class__acc: 0.6786\n",
            "184/184 [==============================] - 3s 16ms/step - loss: 540.2604 - pred_loss: 36.5699 - class__loss: 5.0369 - pred_iou_metric: 0.9484 - class__acc: 0.6875 - val_loss: 1485.0878 - val_pred_loss: 967.0062 - val_class__loss: 5.1808 - val_pred_iou_metric: 0.1429 - val_class__acc: 0.6786\n",
            "Epoch 62/500\n",
            "21/21 [==============================] - 0s 10ms/step - loss: 1354.6220 - pred_loss: 836.5403 - class__loss: 5.1808 - pred_iou_metric: 0.1905 - class__acc: 0.6786\n",
            "184/184 [==============================] - 3s 15ms/step - loss: 544.6935 - pred_loss: 38.8369 - class__loss: 5.0586 - pred_iou_metric: 0.9389 - class__acc: 0.6861 - val_loss: 1354.6220 - val_pred_loss: 836.5403 - val_class__loss: 5.1808 - val_pred_iou_metric: 0.1905 - val_class__acc: 0.6786\n",
            "Epoch 63/500\n",
            "21/21 [==============================] - 0s 11ms/step - loss: 1413.1580 - pred_loss: 895.0763 - class__loss: 5.1808 - pred_iou_metric: 0.0833 - class__acc: 0.6786\n",
            "184/184 [==============================] - 3s 16ms/step - loss: 539.4313 - pred_loss: 35.7408 - class__loss: 5.0369 - pred_iou_metric: 0.9348 - class__acc: 0.6875 - val_loss: 1413.1580 - val_pred_loss: 895.0763 - val_class__loss: 5.1808 - val_pred_iou_metric: 0.0833 - val_class__acc: 0.6786\n",
            "Epoch 64/500\n",
            "21/21 [==============================] - 0s 12ms/step - loss: 1369.1437 - pred_loss: 851.0621 - class__loss: 5.1808 - pred_iou_metric: 0.2143 - class__acc: 0.6786\n",
            "184/184 [==============================] - 3s 17ms/step - loss: 538.1837 - pred_loss: 34.4932 - class__loss: 5.0369 - pred_iou_metric: 0.9375 - class__acc: 0.6875 - val_loss: 1369.1437 - val_pred_loss: 851.0621 - val_class__loss: 5.1808 - val_pred_iou_metric: 0.2143 - val_class__acc: 0.6786\n",
            "Epoch 65/500\n",
            "21/21 [==============================] - 0s 13ms/step - loss: 1308.6113 - pred_loss: 790.5297 - class__loss: 5.1808 - pred_iou_metric: 0.1905 - class__acc: 0.6786\n",
            "\n",
            "Epoch 00065: val_pred_iou_metric improved from 0.17857 to 0.19048, saving model to model-0.19.h5\n",
            "184/184 [==============================] - 3s 18ms/step - loss: 537.4620 - pred_loss: 33.7715 - class__loss: 5.0369 - pred_iou_metric: 0.9429 - class__acc: 0.6875 - val_loss: 1308.6113 - val_pred_loss: 790.5297 - val_class__loss: 5.1808 - val_pred_iou_metric: 0.1905 - val_class__acc: 0.6786\n",
            "Epoch 66/500\n",
            "21/21 [==============================] - 0s 12ms/step - loss: 1365.4149 - pred_loss: 847.3333 - class__loss: 5.1808 - pred_iou_metric: 0.0714 - class__acc: 0.6786\n",
            "184/184 [==============================] - 3s 18ms/step - loss: 679.9253 - pred_loss: 50.5996 - class__loss: 6.2933 - pred_iou_metric: 0.8872 - class__acc: 0.6060 - val_loss: 1365.4149 - val_pred_loss: 847.3333 - val_class__loss: 5.1808 - val_pred_iou_metric: 0.0714 - val_class__acc: 0.6786\n",
            "Epoch 67/500\n",
            "21/21 [==============================] - 0s 12ms/step - loss: 1359.8363 - pred_loss: 841.7548 - class__loss: 5.1808 - pred_iou_metric: 0.0833 - class__acc: 0.6786\n",
            "184/184 [==============================] - 3s 18ms/step - loss: 542.4086 - pred_loss: 36.5520 - class__loss: 5.0586 - pred_iou_metric: 0.9443 - class__acc: 0.6861 - val_loss: 1359.8363 - val_pred_loss: 841.7548 - val_class__loss: 5.1808 - val_pred_iou_metric: 0.0833 - val_class__acc: 0.6786\n",
            "Epoch 68/500\n",
            "21/21 [==============================] - 0s 13ms/step - loss: 1474.1614 - pred_loss: 956.0797 - class__loss: 5.1808 - pred_iou_metric: 0.1667 - class__acc: 0.6786\n",
            "184/184 [==============================] - 3s 19ms/step - loss: 532.9461 - pred_loss: 31.4455 - class__loss: 5.0150 - pred_iou_metric: 0.9389 - class__acc: 0.6889 - val_loss: 1474.1614 - val_pred_loss: 956.0797 - val_class__loss: 5.1808 - val_pred_iou_metric: 0.1667 - val_class__acc: 0.6786\n",
            "Epoch 69/500\n",
            "21/21 [==============================] - 0s 13ms/step - loss: 1327.7720 - pred_loss: 809.6902 - class__loss: 5.1808 - pred_iou_metric: 0.1310 - class__acc: 0.6786\n",
            "184/184 [==============================] - 3s 19ms/step - loss: 537.8206 - pred_loss: 31.9640 - class__loss: 5.0586 - pred_iou_metric: 0.9592 - class__acc: 0.6861 - val_loss: 1327.7720 - val_pred_loss: 809.6902 - val_class__loss: 5.1808 - val_pred_iou_metric: 0.1310 - val_class__acc: 0.6786\n",
            "Epoch 70/500\n",
            "21/21 [==============================] - 0s 10ms/step - loss: 1299.2196 - pred_loss: 781.1378 - class__loss: 5.1808 - pred_iou_metric: 0.1786 - class__acc: 0.6786\n",
            "\n",
            "Epoch 00070: val_pred_iou_metric did not improve from 0.19048\n",
            "184/184 [==============================] - 3s 17ms/step - loss: 533.4317 - pred_loss: 29.7412 - class__loss: 5.0369 - pred_iou_metric: 0.9606 - class__acc: 0.6875 - val_loss: 1299.2196 - val_pred_loss: 781.1378 - val_class__loss: 5.1808 - val_pred_iou_metric: 0.1786 - val_class__acc: 0.6786\n",
            "Epoch 71/500\n",
            "21/21 [==============================] - 0s 11ms/step - loss: 1345.4050 - pred_loss: 827.3234 - class__loss: 5.1808 - pred_iou_metric: 0.1071 - class__acc: 0.6786\n",
            "184/184 [==============================] - 3s 16ms/step - loss: 536.9655 - pred_loss: 31.1089 - class__loss: 5.0586 - pred_iou_metric: 0.9592 - class__acc: 0.6861 - val_loss: 1345.4050 - val_pred_loss: 827.3234 - val_class__loss: 5.1808 - val_pred_iou_metric: 0.1071 - val_class__acc: 0.6786\n",
            "Epoch 72/500\n",
            "21/21 [==============================] - 0s 12ms/step - loss: 1387.2085 - pred_loss: 869.1268 - class__loss: 5.1808 - pred_iou_metric: 0.1190 - class__acc: 0.6786\n",
            "184/184 [==============================] - 3s 16ms/step - loss: 534.8278 - pred_loss: 31.1373 - class__loss: 5.0369 - pred_iou_metric: 0.9511 - class__acc: 0.6875 - val_loss: 1387.2085 - val_pred_loss: 869.1268 - val_class__loss: 5.1808 - val_pred_iou_metric: 0.1190 - val_class__acc: 0.6786\n",
            "Epoch 73/500\n",
            "21/21 [==============================] - 0s 11ms/step - loss: 1336.6459 - pred_loss: 818.5641 - class__loss: 5.1808 - pred_iou_metric: 0.1548 - class__acc: 0.6786\n",
            "184/184 [==============================] - 3s 16ms/step - loss: 536.8947 - pred_loss: 33.2042 - class__loss: 5.0369 - pred_iou_metric: 0.9457 - class__acc: 0.6875 - val_loss: 1336.6459 - val_pred_loss: 818.5641 - val_class__loss: 5.1808 - val_pred_iou_metric: 0.1548 - val_class__acc: 0.6786\n",
            "Epoch 74/500\n",
            "21/21 [==============================] - 0s 10ms/step - loss: 1281.2319 - pred_loss: 763.1502 - class__loss: 5.1808 - pred_iou_metric: 0.1310 - class__acc: 0.6786\n",
            "184/184 [==============================] - 3s 16ms/step - loss: 536.1333 - pred_loss: 32.4428 - class__loss: 5.0369 - pred_iou_metric: 0.9484 - class__acc: 0.6875 - val_loss: 1281.2319 - val_pred_loss: 763.1502 - val_class__loss: 5.1808 - val_pred_iou_metric: 0.1310 - val_class__acc: 0.6786\n",
            "Epoch 75/500\n",
            "21/21 [==============================] - 0s 10ms/step - loss: 1284.1308 - pred_loss: 766.0491 - class__loss: 5.1808 - pred_iou_metric: 0.1667 - class__acc: 0.6786\n",
            "\n",
            "Epoch 00075: val_pred_iou_metric did not improve from 0.19048\n",
            "184/184 [==============================] - 3s 16ms/step - loss: 534.0909 - pred_loss: 30.4004 - class__loss: 5.0369 - pred_iou_metric: 0.9660 - class__acc: 0.6875 - val_loss: 1284.1308 - val_pred_loss: 766.0491 - val_class__loss: 5.1808 - val_pred_iou_metric: 0.1667 - val_class__acc: 0.6786\n",
            "Epoch 76/500\n",
            "21/21 [==============================] - 0s 11ms/step - loss: 1319.4582 - pred_loss: 801.3765 - class__loss: 5.1808 - pred_iou_metric: 0.1310 - class__acc: 0.6786\n",
            "184/184 [==============================] - 3s 16ms/step - loss: 533.4195 - pred_loss: 29.7290 - class__loss: 5.0369 - pred_iou_metric: 0.9511 - class__acc: 0.6875 - val_loss: 1319.4582 - val_pred_loss: 801.3765 - val_class__loss: 5.1808 - val_pred_iou_metric: 0.1310 - val_class__acc: 0.6786\n",
            "Epoch 77/500\n",
            "21/21 [==============================] - 0s 11ms/step - loss: 1354.2575 - pred_loss: 836.1757 - class__loss: 5.1808 - pred_iou_metric: 0.0833 - class__acc: 0.6786\n",
            "184/184 [==============================] - 3s 16ms/step - loss: 534.2483 - pred_loss: 30.5578 - class__loss: 5.0369 - pred_iou_metric: 0.9443 - class__acc: 0.6875 - val_loss: 1354.2575 - val_pred_loss: 836.1757 - val_class__loss: 5.1808 - val_pred_iou_metric: 0.0833 - val_class__acc: 0.6786\n",
            "Epoch 78/500\n",
            "21/21 [==============================] - 0s 11ms/step - loss: 1331.2785 - pred_loss: 813.1968 - class__loss: 5.1808 - pred_iou_metric: 0.1190 - class__acc: 0.6786\n",
            "184/184 [==============================] - 3s 16ms/step - loss: 535.5289 - pred_loss: 31.8384 - class__loss: 5.0369 - pred_iou_metric: 0.9538 - class__acc: 0.6875 - val_loss: 1331.2785 - val_pred_loss: 813.1968 - val_class__loss: 5.1808 - val_pred_iou_metric: 0.1190 - val_class__acc: 0.6786\n",
            "Epoch 79/500\n",
            "167/184 [==========================>...] - ETA: 0s - loss: 525.3428 - pred_loss: 28.3667 - class__loss: 4.9698 - pred_iou_metric: 0.9521 - class__acc: 0.6916"
          ],
          "name": "stdout"
        },
        {
          "output_type": "error",
          "ename": "KeyboardInterrupt",
          "evalue": "ignored",
          "traceback": [
            "\u001b[0;31m---------------------------------------------------------------------------\u001b[0m",
            "\u001b[0;31mKeyboardInterrupt\u001b[0m                         Traceback (most recent call last)",
            "\u001b[0;32m<ipython-input-70-8a4cb91d2f04>\u001b[0m in \u001b[0;36m<module>\u001b[0;34m()\u001b[0m\n\u001b[1;32m     13\u001b[0m \u001b[0;31m# reduce_lr = ReduceLROnPlateau(monitor=\"iou_metric\", factor=0.2, patience=10, min_lr=1e-7, verbose=1, mode=\"max\")\u001b[0m\u001b[0;34m\u001b[0m\u001b[0;34m\u001b[0m\u001b[0;34m\u001b[0m\u001b[0m\n\u001b[1;32m     14\u001b[0m \u001b[0;34m\u001b[0m\u001b[0m\n\u001b[0;32m---> 15\u001b[0;31m \u001b[0mmodel\u001b[0m\u001b[0;34m.\u001b[0m\u001b[0mfit_generator\u001b[0m\u001b[0;34m(\u001b[0m\u001b[0mgenerator\u001b[0m\u001b[0;34m=\u001b[0m\u001b[0mtrain_datagen\u001b[0m\u001b[0;34m,\u001b[0m \u001b[0mvalidation_data\u001b[0m\u001b[0;34m=\u001b[0m\u001b[0mval_datagen\u001b[0m\u001b[0;34m,\u001b[0m \u001b[0mepochs\u001b[0m\u001b[0;34m=\u001b[0m\u001b[0mepochs\u001b[0m\u001b[0;34m,\u001b[0m \u001b[0mcallbacks\u001b[0m\u001b[0;34m=\u001b[0m\u001b[0;34m[\u001b[0m\u001b[0mcheckpoint\u001b[0m\u001b[0;34m]\u001b[0m\u001b[0;34m,\u001b[0m \u001b[0mshuffle\u001b[0m\u001b[0;34m=\u001b[0m\u001b[0;32mTrue\u001b[0m\u001b[0;34m,\u001b[0m \u001b[0mverbose\u001b[0m\u001b[0;34m=\u001b[0m\u001b[0;36m1\u001b[0m\u001b[0;34m)\u001b[0m\u001b[0;34m\u001b[0m\u001b[0;34m\u001b[0m\u001b[0m\n\u001b[0m",
            "\u001b[0;32m/usr/local/lib/python3.6/dist-packages/tensorflow/python/keras/engine/training.py\u001b[0m in \u001b[0;36mfit_generator\u001b[0;34m(self, generator, steps_per_epoch, epochs, verbose, callbacks, validation_data, validation_steps, class_weight, max_queue_size, workers, use_multiprocessing, shuffle, initial_epoch)\u001b[0m\n\u001b[1;32m   1424\u001b[0m         \u001b[0muse_multiprocessing\u001b[0m\u001b[0;34m=\u001b[0m\u001b[0muse_multiprocessing\u001b[0m\u001b[0;34m,\u001b[0m\u001b[0;34m\u001b[0m\u001b[0;34m\u001b[0m\u001b[0m\n\u001b[1;32m   1425\u001b[0m         \u001b[0mshuffle\u001b[0m\u001b[0;34m=\u001b[0m\u001b[0mshuffle\u001b[0m\u001b[0;34m,\u001b[0m\u001b[0;34m\u001b[0m\u001b[0;34m\u001b[0m\u001b[0m\n\u001b[0;32m-> 1426\u001b[0;31m         initial_epoch=initial_epoch)\n\u001b[0m\u001b[1;32m   1427\u001b[0m \u001b[0;34m\u001b[0m\u001b[0m\n\u001b[1;32m   1428\u001b[0m   def evaluate_generator(self,\n",
            "\u001b[0;32m/usr/local/lib/python3.6/dist-packages/tensorflow/python/keras/engine/training_generator.py\u001b[0m in \u001b[0;36mmodel_iteration\u001b[0;34m(model, data, steps_per_epoch, epochs, verbose, callbacks, validation_data, validation_steps, class_weight, max_queue_size, workers, use_multiprocessing, shuffle, initial_epoch, mode, batch_size, **kwargs)\u001b[0m\n\u001b[1;32m    189\u001b[0m       \u001b[0mprogbar\u001b[0m\u001b[0;34m.\u001b[0m\u001b[0mon_batch_begin\u001b[0m\u001b[0;34m(\u001b[0m\u001b[0mstep\u001b[0m\u001b[0;34m,\u001b[0m \u001b[0mbatch_logs\u001b[0m\u001b[0;34m)\u001b[0m\u001b[0;34m\u001b[0m\u001b[0;34m\u001b[0m\u001b[0m\n\u001b[1;32m    190\u001b[0m \u001b[0;34m\u001b[0m\u001b[0m\n\u001b[0;32m--> 191\u001b[0;31m       \u001b[0mbatch_outs\u001b[0m \u001b[0;34m=\u001b[0m \u001b[0mbatch_function\u001b[0m\u001b[0;34m(\u001b[0m\u001b[0;34m*\u001b[0m\u001b[0mbatch_data\u001b[0m\u001b[0;34m)\u001b[0m\u001b[0;34m\u001b[0m\u001b[0;34m\u001b[0m\u001b[0m\n\u001b[0m\u001b[1;32m    192\u001b[0m       \u001b[0;32mif\u001b[0m \u001b[0;32mnot\u001b[0m \u001b[0misinstance\u001b[0m\u001b[0;34m(\u001b[0m\u001b[0mbatch_outs\u001b[0m\u001b[0;34m,\u001b[0m \u001b[0mlist\u001b[0m\u001b[0;34m)\u001b[0m\u001b[0;34m:\u001b[0m\u001b[0;34m\u001b[0m\u001b[0;34m\u001b[0m\u001b[0m\n\u001b[1;32m    193\u001b[0m         \u001b[0mbatch_outs\u001b[0m \u001b[0;34m=\u001b[0m \u001b[0;34m[\u001b[0m\u001b[0mbatch_outs\u001b[0m\u001b[0;34m]\u001b[0m\u001b[0;34m\u001b[0m\u001b[0;34m\u001b[0m\u001b[0m\n",
            "\u001b[0;32m/usr/local/lib/python3.6/dist-packages/tensorflow/python/keras/engine/training.py\u001b[0m in \u001b[0;36mtrain_on_batch\u001b[0;34m(self, x, y, sample_weight, class_weight, reset_metrics)\u001b[0m\n\u001b[1;32m   1189\u001b[0m       \u001b[0;32melse\u001b[0m\u001b[0;34m:\u001b[0m\u001b[0;34m\u001b[0m\u001b[0;34m\u001b[0m\u001b[0m\n\u001b[1;32m   1190\u001b[0m         \u001b[0mself\u001b[0m\u001b[0;34m.\u001b[0m\u001b[0m_make_fit_function\u001b[0m\u001b[0;34m(\u001b[0m\u001b[0;34m)\u001b[0m\u001b[0;34m\u001b[0m\u001b[0;34m\u001b[0m\u001b[0m\n\u001b[0;32m-> 1191\u001b[0;31m         \u001b[0moutputs\u001b[0m \u001b[0;34m=\u001b[0m \u001b[0mself\u001b[0m\u001b[0;34m.\u001b[0m\u001b[0m_fit_function\u001b[0m\u001b[0;34m(\u001b[0m\u001b[0mins\u001b[0m\u001b[0;34m)\u001b[0m  \u001b[0;31m# pylint: disable=not-callable\u001b[0m\u001b[0;34m\u001b[0m\u001b[0;34m\u001b[0m\u001b[0m\n\u001b[0m\u001b[1;32m   1192\u001b[0m \u001b[0;34m\u001b[0m\u001b[0m\n\u001b[1;32m   1193\u001b[0m     \u001b[0;32mif\u001b[0m \u001b[0mreset_metrics\u001b[0m\u001b[0;34m:\u001b[0m\u001b[0;34m\u001b[0m\u001b[0;34m\u001b[0m\u001b[0m\n",
            "\u001b[0;32m/usr/local/lib/python3.6/dist-packages/tensorflow/python/keras/backend.py\u001b[0m in \u001b[0;36m__call__\u001b[0;34m(self, inputs)\u001b[0m\n\u001b[1;32m   3035\u001b[0m     \u001b[0minputs\u001b[0m \u001b[0;34m=\u001b[0m \u001b[0mnest\u001b[0m\u001b[0;34m.\u001b[0m\u001b[0mflatten\u001b[0m\u001b[0;34m(\u001b[0m\u001b[0minputs\u001b[0m\u001b[0;34m)\u001b[0m\u001b[0;34m\u001b[0m\u001b[0;34m\u001b[0m\u001b[0m\n\u001b[1;32m   3036\u001b[0m \u001b[0;34m\u001b[0m\u001b[0m\n\u001b[0;32m-> 3037\u001b[0;31m     \u001b[0msession\u001b[0m \u001b[0;34m=\u001b[0m \u001b[0mget_session\u001b[0m\u001b[0;34m(\u001b[0m\u001b[0;34m)\u001b[0m\u001b[0;34m\u001b[0m\u001b[0;34m\u001b[0m\u001b[0m\n\u001b[0m\u001b[1;32m   3038\u001b[0m     \u001b[0mfeed_arrays\u001b[0m \u001b[0;34m=\u001b[0m \u001b[0;34m[\u001b[0m\u001b[0;34m]\u001b[0m\u001b[0;34m\u001b[0m\u001b[0;34m\u001b[0m\u001b[0m\n\u001b[1;32m   3039\u001b[0m     \u001b[0marray_vals\u001b[0m \u001b[0;34m=\u001b[0m \u001b[0;34m[\u001b[0m\u001b[0;34m]\u001b[0m\u001b[0;34m\u001b[0m\u001b[0;34m\u001b[0m\u001b[0m\n",
            "\u001b[0;32m/usr/local/lib/python3.6/dist-packages/tensorflow/python/keras/backend.py\u001b[0m in \u001b[0;36mget_session\u001b[0;34m()\u001b[0m\n\u001b[1;32m    480\u001b[0m   \u001b[0;32mif\u001b[0m \u001b[0;32mnot\u001b[0m \u001b[0m_MANUAL_VAR_INIT\u001b[0m\u001b[0;34m:\u001b[0m\u001b[0;34m\u001b[0m\u001b[0;34m\u001b[0m\u001b[0m\n\u001b[1;32m    481\u001b[0m     \u001b[0;32mwith\u001b[0m \u001b[0msession\u001b[0m\u001b[0;34m.\u001b[0m\u001b[0mgraph\u001b[0m\u001b[0;34m.\u001b[0m\u001b[0mas_default\u001b[0m\u001b[0;34m(\u001b[0m\u001b[0;34m)\u001b[0m\u001b[0;34m:\u001b[0m\u001b[0;34m\u001b[0m\u001b[0;34m\u001b[0m\u001b[0m\n\u001b[0;32m--> 482\u001b[0;31m       \u001b[0m_initialize_variables\u001b[0m\u001b[0;34m(\u001b[0m\u001b[0msession\u001b[0m\u001b[0;34m)\u001b[0m\u001b[0;34m\u001b[0m\u001b[0;34m\u001b[0m\u001b[0m\n\u001b[0m\u001b[1;32m    483\u001b[0m   \u001b[0;32mreturn\u001b[0m \u001b[0msession\u001b[0m\u001b[0;34m\u001b[0m\u001b[0;34m\u001b[0m\u001b[0m\n\u001b[1;32m    484\u001b[0m \u001b[0;34m\u001b[0m\u001b[0m\n",
            "\u001b[0;32m/usr/local/lib/python3.6/dist-packages/tensorflow/python/keras/backend.py\u001b[0m in \u001b[0;36m_initialize_variables\u001b[0;34m(session)\u001b[0m\n\u001b[1;32m    750\u001b[0m   \u001b[0mcandidate_vars\u001b[0m \u001b[0;34m=\u001b[0m \u001b[0;34m[\u001b[0m\u001b[0;34m]\u001b[0m\u001b[0;34m\u001b[0m\u001b[0;34m\u001b[0m\u001b[0m\n\u001b[1;32m    751\u001b[0m   \u001b[0;32mfor\u001b[0m \u001b[0mv\u001b[0m \u001b[0;32min\u001b[0m \u001b[0mvariables\u001b[0m\u001b[0;34m:\u001b[0m\u001b[0;34m\u001b[0m\u001b[0;34m\u001b[0m\u001b[0m\n\u001b[0;32m--> 752\u001b[0;31m     \u001b[0;32mif\u001b[0m \u001b[0;32mnot\u001b[0m \u001b[0mgetattr\u001b[0m\u001b[0;34m(\u001b[0m\u001b[0mv\u001b[0m\u001b[0;34m,\u001b[0m \u001b[0;34m'_keras_initialized'\u001b[0m\u001b[0;34m,\u001b[0m \u001b[0;32mFalse\u001b[0m\u001b[0;34m)\u001b[0m\u001b[0;34m:\u001b[0m\u001b[0;34m\u001b[0m\u001b[0;34m\u001b[0m\u001b[0m\n\u001b[0m\u001b[1;32m    753\u001b[0m       \u001b[0mcandidate_vars\u001b[0m\u001b[0;34m.\u001b[0m\u001b[0mappend\u001b[0m\u001b[0;34m(\u001b[0m\u001b[0mv\u001b[0m\u001b[0;34m)\u001b[0m\u001b[0;34m\u001b[0m\u001b[0;34m\u001b[0m\u001b[0m\n\u001b[1;32m    754\u001b[0m   \u001b[0;32mif\u001b[0m \u001b[0mcandidate_vars\u001b[0m\u001b[0;34m:\u001b[0m\u001b[0;34m\u001b[0m\u001b[0;34m\u001b[0m\u001b[0m\n",
            "\u001b[0;31mKeyboardInterrupt\u001b[0m: "
          ]
        }
      ]
    },
    {
      "cell_type": "code",
      "metadata": {
        "id": "X-UqIpEfS0qb",
        "colab_type": "code",
        "colab": {}
      },
      "source": [
        "# file = file_list[1]\n",
        "# img = cv2.imread(file)\n",
        "# mask = ip(img) # For ip - isn't appended yet\n",
        "# img = np.stack([img[:,:,2], img[:,:,1], img[:,:,0]], axis=2)\n",
        "# #   img = cv2.cvtColor(img, cv2.COLOR_BGR2GRAY)\n",
        "# #   tree = ET.parse(os.path.join(annot_dir, file.split('/')[-1])[:-3] + 'xml')\n",
        "# tree = ET.parse(os.path.join('Labels', '/'.join(file.split('/')[-2:])[:-3] + 'xml'))\n",
        "# root = tree.getroot()\n",
        "# size = root.find('size')\n",
        "# width = int(size.find('width').text)\n",
        "# height = int(size.find('height').text)\n",
        "# box = (root.find('object')).find('bndbox')\n",
        "# xmin = int(box[0].text)\n",
        "# ymin = int(box[1].text)\n",
        "# xmax = int(box[2].text)\n",
        "# ymax = int(box[3].text)\n",
        "# print(([xmin, xmax, ymin, ymax]))\n",
        "# img = cv2.rectangle(img,(xmin, ymin),(xmax, ymax), (0,255,0) ,3)\n",
        "# plt.imshow(img)"
      ],
      "execution_count": 0,
      "outputs": []
    },
    {
      "cell_type": "code",
      "metadata": {
        "id": "TfW4P4Cye4fI",
        "colab_type": "code",
        "colab": {}
      },
      "source": [
        "# img_new, imgX1, imgX2, imgY1, imgY2 = scale(img, 224, 224, imgX1=xmin, imgX2=xmax, imgY1=ymin, imgY2=ymax)\n",
        "# img_new = cv2.rectangle(img_new, (imgX1, imgY1),(imgX2, imgY2), (0,255,0) ,1)\n",
        "# plt.imshow(img_new)"
      ],
      "execution_count": 0,
      "outputs": []
    },
    {
      "cell_type": "code",
      "metadata": {
        "id": "450ec9fISzz1",
        "colab_type": "code",
        "colab": {}
      },
      "source": [
        "# def scale_pad(img, zoom_range=(0.8,1.2), imgX1=None, imgX2=None, imgY1=None, imgY2=None, interpolation=cv2.INTER_LINEAR):\n",
        "    \n",
        "#     '''Args: Image, new image width, new image height, \n",
        "#                  top left point x-coordinates, bottom right point x-coordinates,\n",
        "#                  top left point y-coordinates, bottom right point y-coordinates, \n",
        "#                  interpolation    '''\n",
        "\n",
        "#     imgTemp = img.copy()\n",
        "#     imgHeight, imgWidth, _ = imgTemp.shape\n",
        "#     zoom = random.uniform(zoom_range[0], zoom_range[1])\n",
        "#     imgNewWidth = imgWidth*zoom\n",
        "#     imgNewHeight = imgHeight*zoom\n",
        "#     imgTemp = cv2.resize(imgTemp, (imgNewWidth, imgNewHeight), interpolation=interpolation)\n",
        "#     diffWidth = (imgNewWidth - imgWidth)\n",
        "#     diffHeight = (imgNewHeight - imgHeight)\n",
        "#     width_off = int(diffWidth/2)\n",
        "#     height_off = int(diffHeight/2)\n",
        "#     if(width_off>0):\n",
        "#       imgTemp = imgTemp[height_off:height_off+imgHeight, width_off:width_off+imgWidth]\n",
        "#     else:\n",
        "#       imgTemp = cv2.copyMakeBorder(imgTemp, int(height_off/2), imgHeight-imgNewHeight-int(height_off/2), int(width_off/2), \n",
        "#                                    imgWidth-imgNewWidth-int(width_off/2), BORDER_REPLICATE )\n",
        "\n",
        "#     if imgX1!=None:\n",
        "#         fY = float(imgNewHeight)/float(imgHeight)\n",
        "#         fX = float(imgNewWidth)/float(imgWidth)\n",
        "\n",
        "#         imgX1 = max(0, int(imgX1*fX))\n",
        "#         imgX2 = min(int(imgX2*fX), imgNewWidth)\n",
        "#         imgY1 = max(0, int(imgY1*fY))\n",
        "#         imgY2 = min(int(imgY2*fY), imgNewHeight)\n",
        "        \n",
        "#         imgX1 -= width_off\n",
        "#         imgX2 -= width_off\n",
        "#         imgY1 -= height_off\n",
        "#         imgY2 -= heght_off\n",
        "\n",
        "#         return imgTemp, imgX1, imgX2, imgY1, imgY2\n",
        "#     else:\n",
        "#         return imgTemp"
      ],
      "execution_count": 0,
      "outputs": []
    },
    {
      "cell_type": "code",
      "metadata": {
        "id": "COxq2Onvfg51",
        "colab_type": "code",
        "colab": {}
      },
      "source": [
        ""
      ],
      "execution_count": 0,
      "outputs": []
    },
    {
      "cell_type": "code",
      "metadata": {
        "colab_type": "code",
        "id": "NMl8uypv9REh",
        "colab": {}
      },
      "source": [
        "# class repeat_channel(image_gen):\n",
        "#   def __init__(self, image_gen):\n",
        "#     super(repeat_channel, self).__init__()\n",
        "#     self.gen = image_gen\n",
        "    \n",
        "#   def __len__(self):\n",
        "#     return 141\n",
        "  \n",
        "#   def __getitem__(self, idx):\n",
        "#     img, y = self.gen.next()\n",
        "#     return (np.concatenate([img,img,img], axis=3), y)"
      ],
      "execution_count": 0,
      "outputs": []
    },
    {
      "cell_type": "code",
      "metadata": {
        "id": "dAOkoDrJ8UEY",
        "colab_type": "code",
        "colab": {}
      },
      "source": [
        "# from google.colab import files\n",
        "# uploaded = files.upload()\n",
        "# for k, v in uploaded.items():\n",
        "#   open(k, 'wb').write(v)\n",
        "# list(uploaded.keys())"
      ],
      "execution_count": 0,
      "outputs": []
    },
    {
      "cell_type": "code",
      "metadata": {
        "id": "P0PYn5M1VtK5",
        "colab_type": "code",
        "colab": {}
      },
      "source": [
        "\n"
      ],
      "execution_count": 0,
      "outputs": []
    },
    {
      "cell_type": "code",
      "metadata": {
        "colab_type": "code",
        "id": "uCCnGqbd0ROA",
        "colab": {}
      },
      "source": [
        "batch_images, batch_coords = train_datagen.__getitem__(0)\n",
        "# i=0"
      ],
      "execution_count": 0,
      "outputs": []
    },
    {
      "cell_type": "code",
      "metadata": {
        "colab_type": "code",
        "id": "OnthIzXB0ROS",
        "outputId": "6d72693a-6148-469e-8d8e-963e34712a29",
        "colab": {
          "base_uri": "https://localhost:8080/",
          "height": 337
        }
      },
      "source": [
        "# i=(i+1)%4\n",
        "# print(i)\n",
        "# print(batch_coords[i])\n",
        "# img = batch_images[i].copy()+1\n",
        "# max_ = int(np.max(img))\n",
        "# img = cv2.rectangle(img,(batch_coords[i][0], batch_coords[i][2]),(batch_coords[i][1],batch_coords[i][3]),(max_, max_, max_),3)\n",
        "# # img = cv2.rectangle(img,(batch_coords[i][0], batch_coords[i][2]),(batch_coords[i][1],batch_coords[i][3]), (0,255,0) ,3)\n",
        "# plt.imshow(img)"
      ],
      "execution_count": 0,
      "outputs": [
        {
          "output_type": "stream",
          "text": [
            "Clipping input data to the valid range for imshow with RGB data ([0..1] for floats or [0..255] for integers).\n"
          ],
          "name": "stderr"
        },
        {
          "output_type": "stream",
          "text": [
            "0\n",
            "[ 73 146  69 106]\n"
          ],
          "name": "stdout"
        },
        {
          "output_type": "execute_result",
          "data": {
            "text/plain": [
              "<matplotlib.image.AxesImage at 0x7f8b6276f1d0>"
            ]
          },
          "metadata": {
            "tags": []
          },
          "execution_count": 39
        },
        {
          "output_type": "display_data",
          "data": {
            "image/png": "[encoded data removed]",
            "text/plain": [
              "<Figure size 432x288 with 1 Axes>"
            ]
          },
          "metadata": {
            "tags": []
          }
        }
      ]
    },
    {
      "cell_type": "code",
      "metadata": {
        "id": "nr-kP2J2hWy9",
        "colab_type": "code",
        "colab": {}
      },
      "source": [
        "# datagen = ImageDataGenerator(width_shift_range=0.2, height_shift_range=0.2, brightness_range=(0.7,1.3), zoom_range=0.4, \n",
        "#                    fill_mode='reflect', horizontal_flip=True, vertical_flip=True, rescale=1/255, validation_split=0.1)"
      ],
      "execution_count": 0,
      "outputs": []
    }
  ]
}